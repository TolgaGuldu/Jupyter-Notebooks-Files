{
 "cells": [
  {
   "cell_type": "code",
   "execution_count": 10,
   "metadata": {},
   "outputs": [
    {
     "data": {
      "text/plain": [
       "array([    0,     1,    32,   243,  1024,  3125,  7776, 16807, 32768,\n",
       "       59049], dtype=int32)"
      ]
     },
     "execution_count": 10,
     "metadata": {},
     "output_type": "execute_result"
    }
   ],
   "source": [
    "import numpy as np\n",
    "a = np.arange(10)**5\n",
    "a"
   ]
  },
  {
   "cell_type": "code",
   "execution_count": 18,
   "metadata": {},
   "outputs": [
    {
     "data": {
      "text/plain": [
       "243"
      ]
     },
     "execution_count": 18,
     "metadata": {},
     "output_type": "execute_result"
    }
   ],
   "source": [
    "a[3]"
   ]
  },
  {
   "cell_type": "code",
   "execution_count": 12,
   "metadata": {},
   "outputs": [
    {
     "data": {
      "text/plain": [
       "array([ 243, 1024, 3125], dtype=int32)"
      ]
     },
     "execution_count": 12,
     "metadata": {},
     "output_type": "execute_result"
    }
   ],
   "source": [
    "a[3:6]"
   ]
  },
  {
   "cell_type": "code",
   "execution_count": 13,
   "metadata": {},
   "outputs": [
    {
     "name": "stdout",
     "output_type": "stream",
     "text": [
      "0\n",
      "2\n",
      "64\n",
      "486\n",
      "2048\n",
      "6250\n",
      "15552\n",
      "33614\n",
      "65536\n",
      "118098\n"
     ]
    }
   ],
   "source": [
    "for i in a:\n",
    "    print(i*2)"
   ]
  },
  {
   "cell_type": "code",
   "execution_count": 14,
   "metadata": {},
   "outputs": [],
   "source": [
    "y =np.random.random(16)"
   ]
  },
  {
   "cell_type": "code",
   "execution_count": 15,
   "metadata": {},
   "outputs": [
    {
     "data": {
      "text/plain": [
       "array([0.84737719, 0.70426517, 0.49617767, 0.28829418, 0.3330275 ,\n",
       "       0.65566483, 0.05159893, 0.77968105, 0.76686704, 0.56230284,\n",
       "       0.13946955, 0.59000858, 0.99614969, 0.42621277, 0.8145524 ,\n",
       "       0.80473305])"
      ]
     },
     "execution_count": 15,
     "metadata": {},
     "output_type": "execute_result"
    }
   ],
   "source": [
    "y"
   ]
  },
  {
   "cell_type": "code",
   "execution_count": 17,
   "metadata": {},
   "outputs": [
    {
     "data": {
      "text/plain": [
       "array([[0.84737719, 0.70426517, 0.49617767, 0.28829418],\n",
       "       [0.3330275 , 0.65566483, 0.05159893, 0.77968105],\n",
       "       [0.76686704, 0.56230284, 0.13946955, 0.59000858],\n",
       "       [0.99614969, 0.42621277, 0.8145524 , 0.80473305]])"
      ]
     },
     "execution_count": 17,
     "metadata": {},
     "output_type": "execute_result"
    }
   ],
   "source": [
    "y = y.reshape(4,4)\n",
    "y"
   ]
  },
  {
   "cell_type": "code",
   "execution_count": 19,
   "metadata": {},
   "outputs": [
    {
     "data": {
      "text/plain": [
       "array([0.84737719, 0.70426517, 0.49617767, 0.28829418, 0.3330275 ,\n",
       "       0.65566483, 0.05159893, 0.77968105, 0.76686704, 0.56230284,\n",
       "       0.13946955, 0.59000858, 0.99614969, 0.42621277, 0.8145524 ,\n",
       "       0.80473305])"
      ]
     },
     "execution_count": 19,
     "metadata": {},
     "output_type": "execute_result"
    }
   ],
   "source": [
    "y.ravel()"
   ]
  },
  {
   "cell_type": "code",
   "execution_count": 21,
   "metadata": {},
   "outputs": [
    {
     "data": {
      "text/plain": [
       "array([0.70426517, 0.65566483])"
      ]
     },
     "execution_count": 21,
     "metadata": {},
     "output_type": "execute_result"
    }
   ],
   "source": [
    "y[0:2,1]"
   ]
  },
  {
   "cell_type": "code",
   "execution_count": 23,
   "metadata": {},
   "outputs": [
    {
     "data": {
      "text/plain": [
       "array([0.28829418, 0.77968105, 0.59000858, 0.80473305])"
      ]
     },
     "execution_count": 23,
     "metadata": {},
     "output_type": "execute_result"
    }
   ],
   "source": [
    "y[:,3]"
   ]
  },
  {
   "cell_type": "code",
   "execution_count": 25,
   "metadata": {},
   "outputs": [
    {
     "name": "stdout",
     "output_type": "stream",
     "text": [
      "[0.84737719 0.70426517 0.49617767 0.28829418]\n",
      "[0.3330275  0.65566483 0.05159893 0.77968105]\n",
      "[0.76686704 0.56230284 0.13946955 0.59000858]\n",
      "[0.99614969 0.42621277 0.8145524  0.80473305]\n"
     ]
    }
   ],
   "source": [
    "for satır in y:\n",
    "    print(satır)"
   ]
  },
  {
   "cell_type": "code",
   "execution_count": 26,
   "metadata": {},
   "outputs": [
    {
     "name": "stdout",
     "output_type": "stream",
     "text": [
      "0.8473771866525412\n",
      "0.7042651696097499\n",
      "0.49617767079614583\n",
      "0.2882941761385204\n",
      "0.333027500564395\n",
      "0.6556648310241818\n",
      "0.0515989310512287\n",
      "0.7796810454151406\n",
      "0.7668670412768831\n",
      "0.5623028449083639\n",
      "0.13946954733027084\n",
      "0.590008575465529\n",
      "0.9961496854491925\n",
      "0.42621277112124023\n",
      "0.8145524026302293\n",
      "0.804733052538761\n"
     ]
    }
   ],
   "source": [
    "for satır in y.flat:\n",
    "    print(satır)"
   ]
  },
  {
   "cell_type": "code",
   "execution_count": 29,
   "metadata": {},
   "outputs": [
    {
     "name": "stdout",
     "output_type": "stream",
     "text": [
      "((0, 0), 0.8473771866525412)\n",
      "((0, 1), 0.7042651696097499)\n",
      "((0, 2), 0.49617767079614583)\n",
      "((0, 3), 0.2882941761385204)\n",
      "((1, 0), 0.333027500564395)\n",
      "((1, 1), 0.6556648310241818)\n",
      "((1, 2), 0.0515989310512287)\n",
      "((1, 3), 0.7796810454151406)\n",
      "((2, 0), 0.7668670412768831)\n",
      "((2, 1), 0.5623028449083639)\n",
      "((2, 2), 0.13946954733027084)\n",
      "((2, 3), 0.590008575465529)\n",
      "((3, 0), 0.9961496854491925)\n",
      "((3, 1), 0.42621277112124023)\n",
      "((3, 2), 0.8145524026302293)\n",
      "((3, 3), 0.804733052538761)\n"
     ]
    }
   ],
   "source": [
    " for satır in np.ndenumerate(y):\n",
    "        print(satır)"
   ]
  },
  {
   "cell_type": "code",
   "execution_count": 33,
   "metadata": {},
   "outputs": [],
   "source": [
    "a = np.array([2,3])\n",
    "b = np.array([5,6])"
   ]
  },
  {
   "cell_type": "code",
   "execution_count": 34,
   "metadata": {},
   "outputs": [
    {
     "data": {
      "text/plain": [
       "array([2, 3, 5, 6])"
      ]
     },
     "execution_count": 34,
     "metadata": {},
     "output_type": "execute_result"
    }
   ],
   "source": [
    "np.hstack((a,b))"
   ]
  },
  {
   "cell_type": "code",
   "execution_count": 35,
   "metadata": {},
   "outputs": [
    {
     "data": {
      "text/plain": [
       "array([[2, 3],\n",
       "       [5, 6]])"
      ]
     },
     "execution_count": 35,
     "metadata": {},
     "output_type": "execute_result"
    }
   ],
   "source": [
    "np.vstack((a,b))"
   ]
  },
  {
   "cell_type": "code",
   "execution_count": 39,
   "metadata": {},
   "outputs": [
    {
     "data": {
      "text/plain": [
       "array([[1, 2],\n",
       "       [3, 4],\n",
       "       [5, 6]])"
      ]
     },
     "execution_count": 39,
     "metadata": {},
     "output_type": "execute_result"
    }
   ],
   "source": [
    "a = np.array([[1,2],[3,4]])\n",
    "b = np.array([[5,6]])\n",
    "np.concatenate((a,b),axis = 0)"
   ]
  },
  {
   "cell_type": "code",
   "execution_count": 41,
   "metadata": {},
   "outputs": [
    {
     "data": {
      "text/plain": [
       "array([[1, 2, 5],\n",
       "       [3, 4, 6]])"
      ]
     },
     "execution_count": 41,
     "metadata": {},
     "output_type": "execute_result"
    }
   ],
   "source": [
    "np.concatenate((a,b.T),axis = 1)"
   ]
  },
  {
   "cell_type": "code",
   "execution_count": null,
   "metadata": {},
   "outputs": [],
   "source": []
  }
 ],
 "metadata": {
  "kernelspec": {
   "display_name": "Python 3",
   "language": "python",
   "name": "python3"
  },
  "language_info": {
   "codemirror_mode": {
    "name": "ipython",
    "version": 3
   },
   "file_extension": ".py",
   "mimetype": "text/x-python",
   "name": "python",
   "nbconvert_exporter": "python",
   "pygments_lexer": "ipython3",
   "version": "3.7.3"
  }
 },
 "nbformat": 4,
 "nbformat_minor": 2
}
