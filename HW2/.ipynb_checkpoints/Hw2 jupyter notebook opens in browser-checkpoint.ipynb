{
 "cells": [
  {
   "cell_type": "markdown",
   "metadata": {},
   "source": [
    "#Hw2\n",
    "\n",
    "Read and Visualize Data\n",
    "\"students.txt\" has information about cse111 students."
   ]
  },
  {
   "cell_type": "markdown",
   "metadata": {},
   "source": [
    "a) Read data into list of lists such that each list represents one column of the data"
   ]
  },
  {
   "cell_type": "markdown",
   "metadata": {},
   "source": [
    "b) Read data into list of lists such that each list represents one column of the data\n",
    "data[0] would show 272,22,2,14,5,3\n",
    "\n",
    "print mean, std of age, numrepeats"
   ]
  },
  {
   "cell_type": "markdown",
   "metadata": {},
   "source": [
    "c) plot students age, gender, department, coursecode,  numrepeats in separate plots. \n",
    "you can use plt.subplot() function to create subplots\n",
    "for each plot put x and y labels"
   ]
  },
  {
   "cell_type": "markdown",
   "metadata": {},
   "source": [
    "d)plot histogram of age, gender, coursecode, numrepeats\n",
    "for each plot put x and y labels"
   ]
  },
  {
   "cell_type": "markdown",
   "metadata": {},
   "source": [
    "e)plot scatter diagrams of age vs numrepeats\n",
    "for each plot put x and y labels\n",
    "\n",
    "\n",
    "\n"
   ]
  },
  {
   "cell_type": "markdown",
   "metadata": {},
   "source": [
    "f) In scatter diagram show girls and boys with different color"
   ]
  }
 ],
 "metadata": {
  "kernelspec": {
   "display_name": "Python 3",
   "language": "python",
   "name": "python3"
  },
  "language_info": {
   "codemirror_mode": {
    "name": "ipython",
    "version": 3
   },
   "file_extension": ".py",
   "mimetype": "text/x-python",
   "name": "python",
   "nbconvert_exporter": "python",
   "pygments_lexer": "ipython3",
   "version": "3.7.1"
  }
 },
 "nbformat": 4,
 "nbformat_minor": 2
}
