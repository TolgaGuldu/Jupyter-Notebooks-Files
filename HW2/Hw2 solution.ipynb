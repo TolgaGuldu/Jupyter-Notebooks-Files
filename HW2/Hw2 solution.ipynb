{
 "cells": [
  {
   "cell_type": "markdown",
   "metadata": {},
   "source": [
    "#Hw2\n",
    "\n",
    "Read and Visualize Data\n",
    "\"students.txt\" has information about cse111 students."
   ]
  },
  {
   "cell_type": "markdown",
   "metadata": {},
   "source": [
    "a) Read data into list of lists such that each list represents one column of the data"
   ]
  },
  {
   "cell_type": "code",
   "execution_count": 3,
   "metadata": {
    "scrolled": true
   },
   "outputs": [
    {
     "name": "stdout",
     "output_type": "stream",
     "text": [
      "No,Age,Gender,Department,Coursecode,Numrepeats: \n",
      "272,22,2,14,5,3\n",
      "273,20,2,13,5,2\n",
      "274,20,2,13,5,2\n",
      "275,20,2,13,5,1\n",
      "276,23,2,13,5,5\n",
      "277,19,2,13,5,1\n",
      "278,20,2,14,5,2\n",
      "279,18,2,13,5,1\n",
      "280,20,2,13,5,2\n",
      "281,21,2,13,5,2\n",
      "282,20,2,13,5,2\n",
      "283,18,2,14,5,2\n",
      "14,22,2,3,4,2\n",
      "284,24,2,13,5,6\n",
      "285,22,2,14,5,2\n",
      "286,20,2,14,5,2\n",
      "287,18,2,14,5,2\n",
      "288,20,2,13,5,2\n",
      "289,24,1,13,5,4\n",
      "290,19,2,13,5,1\n",
      "\n"
     ]
    }
   ],
   "source": [
    "f = open(\"students.csv\", \"r\")\n",
    "print(f.read()) \n",
    "f.close() # this one closes the file"
   ]
  },
  {
   "cell_type": "code",
   "execution_count": 31,
   "metadata": {},
   "outputs": [
    {
     "name": "stdout",
     "output_type": "stream",
     "text": [
      "No,Age,Gender,Department,Coursecode,Numrepeats: \n",
      "\n",
      "['272,22,2,14,5,3']\n",
      "[272, 22, 2, 14, 5, 3]\n",
      "['273,20,2,13,5,2']\n",
      "[273, 20, 2, 13, 5, 2]\n",
      "['274,20,2,13,5,2']\n",
      "[274, 20, 2, 13, 5, 2]\n",
      "['275,20,2,13,5,1']\n",
      "[275, 20, 2, 13, 5, 1]\n",
      "['276,23,2,13,5,5']\n",
      "[276, 23, 2, 13, 5, 5]\n",
      "['277,19,2,13,5,1']\n",
      "[277, 19, 2, 13, 5, 1]\n",
      "['278,20,2,14,5,2']\n",
      "[278, 20, 2, 14, 5, 2]\n",
      "['279,18,2,13,5,1']\n",
      "[279, 18, 2, 13, 5, 1]\n",
      "['280,20,2,13,5,2']\n",
      "[280, 20, 2, 13, 5, 2]\n",
      "['281,21,2,13,5,2']\n",
      "[281, 21, 2, 13, 5, 2]\n",
      "['282,20,2,13,5,2']\n",
      "[282, 20, 2, 13, 5, 2]\n",
      "['283,18,2,14,5,2']\n",
      "[283, 18, 2, 14, 5, 2]\n",
      "['14,22,2,3,4,2']\n",
      "[14, 22, 2, 3, 4, 2]\n",
      "['284,24,2,13,5,6']\n",
      "[284, 24, 2, 13, 5, 6]\n",
      "['285,22,2,14,5,2']\n",
      "[285, 22, 2, 14, 5, 2]\n",
      "['286,20,2,14,5,2']\n",
      "[286, 20, 2, 14, 5, 2]\n",
      "['287,18,2,14,5,2']\n",
      "[287, 18, 2, 14, 5, 2]\n",
      "['288,20,2,13,5,2']\n",
      "[288, 20, 2, 13, 5, 2]\n",
      "['289,24,1,13,5,4']\n",
      "[289, 24, 1, 13, 5, 4]\n",
      "['290,19,2,13,5,1']\n",
      "[290, 19, 2, 13, 5, 1]\n",
      "[[272, 22, 2, 14, 5, 3], [273, 20, 2, 13, 5, 2], [274, 20, 2, 13, 5, 2], [275, 20, 2, 13, 5, 1], [276, 23, 2, 13, 5, 5], [277, 19, 2, 13, 5, 1], [278, 20, 2, 14, 5, 2], [279, 18, 2, 13, 5, 1], [280, 20, 2, 13, 5, 2], [281, 21, 2, 13, 5, 2], [282, 20, 2, 13, 5, 2], [283, 18, 2, 14, 5, 2], [14, 22, 2, 3, 4, 2], [284, 24, 2, 13, 5, 6], [285, 22, 2, 14, 5, 2], [286, 20, 2, 14, 5, 2], [287, 18, 2, 14, 5, 2], [288, 20, 2, 13, 5, 2], [289, 24, 1, 13, 5, 4], [290, 19, 2, 13, 5, 1]]\n"
     ]
    }
   ],
   "source": [
    "with open(\"students.csv\", \"r\") as f:\n",
    "    print(f.readline())\n",
    "    data = []\n",
    "    for line in f:\n",
    "        line_x =line.rsplit() # get rid of \\n\n",
    "        print(line_x) \n",
    "        line_els = line_x[0].split(\",\") # break into ints\n",
    "        list_ints = [int(i) for i in line_els] # turn them into ints.\n",
    "        print(list_ints)\n",
    "        data.append(list_ints)\n",
    "f.close() # this one closes the file\n",
    "print(data)\n",
    "\n"
   ]
  },
  {
   "cell_type": "code",
   "execution_count": 29,
   "metadata": {},
   "outputs": [
    {
     "name": "stdout",
     "output_type": "stream",
     "text": [
      "     No  Age  Gender  Department  Coursecode  Numrepeats: \n",
      "0   272   22       2          14           5             3\n",
      "1   273   20       2          13           5             2\n",
      "2   274   20       2          13           5             2\n",
      "3   275   20       2          13           5             1\n",
      "4   276   23       2          13           5             5\n",
      "5   277   19       2          13           5             1\n",
      "6   278   20       2          14           5             2\n",
      "7   279   18       2          13           5             1\n",
      "8   280   20       2          13           5             2\n",
      "9   281   21       2          13           5             2\n",
      "10  282   20       2          13           5             2\n",
      "11  283   18       2          14           5             2\n",
      "12   14   22       2           3           4             2\n",
      "13  284   24       2          13           5             6\n",
      "14  285   22       2          14           5             2\n",
      "15  286   20       2          14           5             2\n",
      "16  287   18       2          14           5             2\n",
      "17  288   20       2          13           5             2\n",
      "18  289   24       1          13           5             4\n",
      "19  290   19       2          13           5             1\n"
     ]
    }
   ],
   "source": [
    "#it is ok if you just used pandas\n",
    "import pandas as pd\n",
    "\n",
    "studentsList = pd.read_csv('students.csv')\n",
    "\n",
    "print (studentsList.)"
   ]
  },
  {
   "cell_type": "code",
   "execution_count": 35,
   "metadata": {},
   "outputs": [
    {
     "name": "stdout",
     "output_type": "stream",
     "text": [
      "[272, 273, 274, 275, 276, 277, 278, 279, 280, 281, 282, 283, 14, 284, 285, 286, 287, 288, 289, 290]\n",
      "[22, 20, 20, 20, 23, 19, 20, 18, 20, 21, 20, 18, 22, 24, 22, 20, 18, 20, 24, 19]\n",
      "[2, 2, 2, 2, 2, 2, 2, 2, 2, 2, 2, 2, 2, 2, 2, 2, 2, 2, 1, 2]\n",
      "[14, 13, 13, 13, 13, 13, 14, 13, 13, 13, 13, 14, 3, 13, 14, 14, 14, 13, 13, 13]\n",
      "[5, 5, 5, 5, 5, 5, 5, 5, 5, 5, 5, 5, 4, 5, 5, 5, 5, 5, 5, 5]\n",
      "[3, 2, 2, 1, 5, 1, 2, 1, 2, 2, 2, 2, 2, 6, 2, 2, 2, 2, 4, 1]\n"
     ]
    }
   ],
   "source": [
    "'''I will continue with the list version'''\n",
    "\n",
    "num_list = [d[0] for d in data]\n",
    "print(num_list)\n",
    "age_list = [d[1] for d in data]\n",
    "print(age_list)\n",
    "gender_list = [d[2] for d in data]\n",
    "print(gender_list)\n",
    "dept_list = [d[3] for d in data]\n",
    "print(dept_list)\n",
    "course_list = [d[4] for d in data]\n",
    "print(course_list)\n",
    "rep_list = [d[5] for d in data]\n",
    "print(rep_list)"
   ]
  },
  {
   "cell_type": "markdown",
   "metadata": {},
   "source": [
    "b) Read data into list of lists such that each list represents one column of the data\n",
    "data[0] would show 272,22,2,14,5,3\n",
    "\n",
    "print mean, std of age, numrepeats"
   ]
  },
  {
   "cell_type": "code",
   "execution_count": 37,
   "metadata": {},
   "outputs": [
    {
     "name": "stdout",
     "output_type": "stream",
     "text": [
      "mean age:  20.5  std age:  1.7748239349298849\n",
      "mean rep:  2.3  std rep:  1.268857754044952\n"
     ]
    }
   ],
   "source": [
    "def mean_std(lis):\n",
    "    mn = sum([d for d in lis])/len(lis)\n",
    "    from math import sqrt\n",
    "    std = sqrt(sum([(d-mn)**2 for d in lis])/len(lis))\n",
    "    return mn,std\n",
    "\n",
    "mn_age,std_age = mean_std(age_list)\n",
    "mn_rep,std_rep = mean_std(rep_list)\n",
    "print(\"mean age: \",mn_age,\" std age: \",std_age) \n",
    "print(\"mean rep: \",mn_rep,\" std rep: \",std_rep)"
   ]
  },
  {
   "cell_type": "markdown",
   "metadata": {},
   "source": [
    "c) plot students age, gender, department, coursecode,  numrepeats in separate plots. \n",
    "you can use plt.subplot() function to create subplots\n",
    "for each plot put x and y labels"
   ]
  },
  {
   "cell_type": "code",
   "execution_count": 65,
   "metadata": {},
   "outputs": [
    {
     "data": {
      "text/plain": [
       "Text(0.5, 1.0, 'Reps')"
      ]
     },
     "execution_count": 65,
     "metadata": {},
     "output_type": "execute_result"
    },
    {
     "data": {
      "image/png": "[encoded data removed]",
      "text/plain": [
       "<Figure size 720x1080 with 5 Axes>"
      ]
     },
     "metadata": {},
     "output_type": "display_data"
    }
   ],
   "source": [
    "from matplotlib import pyplot as plt\n",
    "\n",
    "f = plt.figure(figsize=(10,15))\n",
    "\n",
    "# Two subplots, unpack the axes array immediately\n",
    "ax = f.subplots(5, 1, sharex=True)\n",
    "\n",
    "ax[0].plot(age_list,'o')\n",
    "ax[0].set_title('Ages')\n",
    "ax[1].plot(gender_list,'o')\n",
    "ax[1].set_title('Gender')\n",
    "ax[2].plot(dept_list,'o')\n",
    "ax[2].set_title('Dept')\n",
    "ax[3].plot(course_list,'o')\n",
    "ax[3].set_title('Course')\n",
    "ax[4].plot(rep_list,'o')\n",
    "ax[4].set_title('Reps')\n",
    "\n",
    "\n"
   ]
  },
  {
   "cell_type": "markdown",
   "metadata": {},
   "source": [
    "d)plot histogram of age, gender, coursecode, numrepeats\n",
    "for each plot put x and y labels"
   ]
  },
  {
   "cell_type": "code",
   "execution_count": 68,
   "metadata": {},
   "outputs": [
    {
     "data": {
      "text/plain": [
       "(array([ 4.,  0., 12.,  0.,  1.,  0.,  1.,  0.,  1.,  1.]),\n",
       " array([1. , 1.5, 2. , 2.5, 3. , 3.5, 4. , 4.5, 5. , 5.5, 6. ]),\n",
       " <a list of 10 Patch objects>)"
      ]
     },
     "execution_count": 68,
     "metadata": {},
     "output_type": "execute_result"
    },
    {
     "data": {
      "image/png": "[encoded data removed]",
      "text/plain": [
       "<Figure size 720x1080 with 5 Axes>"
      ]
     },
     "metadata": {},
     "output_type": "display_data"
    }
   ],
   "source": [
    "from matplotlib import pyplot as plt\n",
    "\n",
    "f = plt.figure(figsize=(10,15))\n",
    "\n",
    "# Two subplots, unpack the axes array immediately\n",
    "ax = f.subplots(5, 1)\n",
    "\n",
    "ax[0].hist(age_list)\n",
    "#ax[0].set_title('Ages') \n",
    "ax[0].set_xlabel('Ages')\n",
    "ax[0].set_ylabel('Number of Students')\n",
    "ax[1].hist(gender_list)\n",
    "#ax[1].set_title('Gender')\n",
    "ax[2].hist(dept_list)\n",
    "#ax[2].set_title('Dept')\n",
    "ax[3].hist(course_list)\n",
    "#ax[3].set_title('Course')\n",
    "ax[4].hist(rep_list)\n",
    "#ax[4].set_title('Reps')\n"
   ]
  },
  {
   "cell_type": "markdown",
   "metadata": {},
   "source": [
    "e)plot scatter diagrams of age vs numrepeats\n",
    "for each plot put x and y labels\n",
    "\n",
    "\n",
    "\n"
   ]
  },
  {
   "cell_type": "code",
   "execution_count": 75,
   "metadata": {},
   "outputs": [
    {
     "data": {
      "text/plain": [
       "<matplotlib.collections.PathCollection at 0x7f230504e6a0>"
      ]
     },
     "execution_count": 75,
     "metadata": {},
     "output_type": "execute_result"
    },
    {
     "data": {
      "image/png": "[encoded data removed]",
      "text/plain": [
       "<Figure size 432x288 with 1 Axes>"
      ]
     },
     "metadata": {},
     "output_type": "display_data"
    }
   ],
   "source": [
    "\n",
    "plt.scatter(age_list, rep_list, color=c)"
   ]
  },
  {
   "cell_type": "markdown",
   "metadata": {},
   "source": [
    "f) In scatter diagram show girls and boys with different color"
   ]
  },
  {
   "cell_type": "code",
   "execution_count": 78,
   "metadata": {},
   "outputs": [
    {
     "data": {
      "text/plain": [
       "Text(0, 0.5, 'Repeats')"
      ]
     },
     "execution_count": 78,
     "metadata": {},
     "output_type": "execute_result"
    },
    {
     "data": {
      "image/png": "[encoded data removed]",
      "text/plain": [
       "<Figure size 432x288 with 1 Axes>"
      ]
     },
     "metadata": {},
     "output_type": "display_data"
    }
   ],
   "source": [
    "c = ['red' if g==2 else 'blue' for g in gender_list ]\n",
    "plt.scatter(age_list, rep_list, color=c)\n",
    "plt.xlabel(\"Age\")\n",
    "plt.ylabel(\"Repeats\")"
   ]
  },
  {
   "cell_type": "code",
   "execution_count": null,
   "metadata": {},
   "outputs": [],
   "source": []
  }
 ],
 "metadata": {
  "kernelspec": {
   "display_name": "Python 3",
   "language": "python",
   "name": "python3"
  },
  "language_info": {
   "codemirror_mode": {
    "name": "ipython",
    "version": 3
   },
   "file_extension": ".py",
   "mimetype": "text/x-python",
   "name": "python",
   "nbconvert_exporter": "python",
   "pygments_lexer": "ipython3",
   "version": "3.7.3"
  }
 },
 "nbformat": 4,
 "nbformat_minor": 2
}
