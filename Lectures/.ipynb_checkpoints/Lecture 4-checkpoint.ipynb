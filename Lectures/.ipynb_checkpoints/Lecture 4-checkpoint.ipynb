{
 "cells": [
  {
   "cell_type": "markdown",
   "metadata": {},
   "source": [
    "## Data Mining Course by F. B. Tek\n",
    "## Lecture 4 Stats"
   ]
  },
  {
   "cell_type": "markdown",
   "metadata": {},
   "source": [
    "### Based on Joel Grus Data science from Scratch Book.\n"
   ]
  },
  {
   "cell_type": "code",
   "execution_count": 1,
   "metadata": {},
   "outputs": [],
   "source": [
    "from collections import Counter\n",
    "import math\n",
    "\n",
    "# We have number of friends and daily minutes spend in the site.\n",
    "num_friends = [100,49,41,40,25,21,21,19,19,18,18,16,15,15,15,15,14,14,13,13,13,13,12,12,11,10,10,10,10,10,10,10,10,10,10,10,10,10,10,10,9,9,9,9,9,9,9,9,9,9,9,9,9,9,9,9,9,9,8,8,8,8,8,8,8,8,8,8,8,8,8,7,7,7,7,7,7,7,7,7,7,7,7,7,7,7,6,6,6,6,6,6,6,6,6,6,6,6,6,6,6,6,6,6,6,6,6,6,5,5,5,5,5,5,5,5,5,5,5,5,5,5,5,5,5,4,4,4,4,4,4,4,4,4,4,4,4,4,4,4,4,4,4,4,4,3,3,3,3,3,3,3,3,3,3,3,3,3,3,3,3,3,3,3,3,2,2,2,2,2,2,2,2,2,2,2,2,2,2,2,2,2,1,1,1,1,1,1,1,1,1,1,1,1,1,1,1,1,1,1,1,1,1,1]\n",
    "\n",
    "daily_minutes = [1,68.77,51.25,52.08,38.36,44.54,57.13,51.4,41.42,31.22,34.76,54.01,38.79,47.59,49.1,27.66,41.03,36.73,48.65,28.12,46.62,35.57,32.98,35,26.07,23.77,39.73,40.57,31.65,31.21,36.32,20.45,21.93,26.02,27.34,23.49,46.94,30.5,33.8,24.23,21.4,27.94,32.24,40.57,25.07,19.42,22.39,18.42,46.96,23.72,26.41,26.97,36.76,40.32,35.02,29.47,30.2,31,38.11,38.18,36.31,21.03,30.86,36.07,28.66,29.08,37.28,15.28,24.17,22.31,30.17,25.53,19.85,35.37,44.6,17.23,13.47,26.33,35.02,32.09,24.81,19.33,28.77,24.26,31.98,25.73,24.86,16.28,34.51,15.23,39.72,40.8,26.06,35.76,34.76,16.13,44.04,18.03,19.65,32.62,35.59,39.43,14.18,35.24,40.13,41.82,35.45,36.07,43.67,24.61,20.9,21.9,18.79,27.61,27.21,26.61,29.77,20.59,27.53,13.82,33.2,25,33.1,36.65,18.63,14.87,22.2,36.81,25.53,24.62,26.25,18.21,28.08,19.42,29.79,32.8,35.99,28.32,27.79,35.88,29.06,36.28,14.1,36.63,37.49,26.9,18.58,38.48,24.48,18.95,33.55,14.24,29.04,32.51,25.63,22.22,19,32.73,15.16,13.9,27.2,32.01,29.27,33,13.74,20.42,27.32,18.23,35.35,28.48,9.08,24.62,20.12,35.26,19.92,31.02,16.49,12.16,30.7,31.22,34.65,13.13,27.51,33.2,31.57,14.1,33.42,17.44,10.12,24.42,9.82,23.39,30.93,15.03,21.67,31.09,33.29,22.61,26.89,23.48,8.38,27.81,32.35,23.84]"
   ]
  },
  {
   "cell_type": "markdown",
   "metadata": {},
   "source": [
    "# With PYHTON Lists"
   ]
  },
  {
   "cell_type": "code",
   "execution_count": 2,
   "metadata": {},
   "outputs": [
    {
     "name": "stdout",
     "output_type": "stream",
     "text": [
      "num_points 204\n",
      "largest value 100\n",
      "smallest value 1\n",
      "second_smallest_value 1\n",
      "second_largest_value 49\n"
     ]
    }
   ],
   "source": [
    "num_points = len(num_friends)               # 204\n",
    "\n",
    "largest_value = max(num_friends)            # 100\n",
    "smallest_value = min(num_friends)           # 1\n",
    "\n",
    "sorted_values = sorted(num_friends)\n",
    "smallest_value = sorted_values[0]           # 1\n",
    "second_smallest_value = sorted_values[1]    # 1\n",
    "second_largest_value = sorted_values[-2]    # 49\n",
    "\n",
    "print(\"num_points\", len(num_friends))\n",
    "print(\"largest value\", max(num_friends))\n",
    "print(\"smallest value\", min(num_friends))\n",
    "print(\"second_smallest_value\", sorted_values[1])\n",
    "print(\"second_largest_value\", sorted_values[-2])"
   ]
  },
  {
   "cell_type": "code",
   "execution_count": 3,
   "metadata": {},
   "outputs": [
    {
     "data": {
      "text/plain": [
       "<Figure size 1000x600 with 1 Axes>"
      ]
     },
     "metadata": {},
     "output_type": "display_data"
    }
   ],
   "source": [
    "import matplotlib.pyplot as plt\n",
    "plt.rc('figure', figsize=(10, 6))\n",
    "\n",
    "friend_counts = Counter(num_friends)\n",
    "xs = range(101)\n",
    "ys = [friend_counts[x] for x in xs]\n",
    "plt.figure()\n",
    "plt.bar(xs, ys)\n",
    "plt.axis([0,101,0,25])\n",
    "plt.title(\"Histogram of Friend Counts\")\n",
    "plt.xlabel(\"# of friends\")\n",
    "plt.ylabel(\"# of people\")\n",
    "plt.show()\n"
   ]
  },
  {
   "cell_type": "markdown",
   "metadata": {},
   "source": [
    "### Central Tendencies Dispersion"
   ]
  },
  {
   "cell_type": "code",
   "execution_count": 4,
   "metadata": {
    "scrolled": true
   },
   "outputs": [
    {
     "name": "stdout",
     "output_type": "stream",
     "text": [
      "mean(num_friends) 7.333333333333333\n",
      "median(num_friends) 6.0\n",
      "quantile(num_friends, 0.10) 1\n",
      "quantile(num_friends, 0.25) 3\n",
      "quantile(num_friends, 0.75) 9\n",
      "quantile(num_friends, 0.90) 13\n",
      "mode(num_friends) [6, 1]\n",
      "data_range(num_friends) 99\n",
      "interquartile_range(num_friends) 6\n"
     ]
    }
   ],
   "source": [
    "# this isn't right if you don't from __future__ import division\n",
    "def mean(x):\n",
    "    return sum(x) / len(x)\n",
    "\n",
    "def median(v):\n",
    "    \"\"\"finds the 'middle-most' value of v\"\"\"\n",
    "    n = len(v)\n",
    "    sorted_v = sorted(v)\n",
    "    midpoint = n // 2\n",
    "\n",
    "    if n % 2 == 1:\n",
    "        # if odd, return the middle value\n",
    "        return sorted_v[midpoint]\n",
    "    else:\n",
    "        # if even, return the average of the middle values\n",
    "        lo = midpoint - 1\n",
    "        hi = midpoint\n",
    "        return (sorted_v[lo] + sorted_v[hi]) / 2\n",
    "    \n",
    "print(\"mean(num_friends)\", mean(num_friends))\n",
    "print(\"median(num_friends)\", median(num_friends))\n",
    "\n",
    "# median is the %50 quantile. midpoint, there are other interesting quantiles like %25, %75\n",
    "def quantile(x, p):\n",
    "    \"\"\"returns the pth-percentile value in x\"\"\"\n",
    "    \n",
    "    p_index = int(p * len(x))\n",
    "    return sorted(x)[p_index]\n",
    "\n",
    "print(\"quantile(num_friends, 0.10)\", quantile(num_friends, 0.10))\n",
    "print(\"quantile(num_friends, 0.25)\", quantile(num_friends, 0.25))\n",
    "print(\"quantile(num_friends, 0.75)\", quantile(num_friends, 0.75))\n",
    "print(\"quantile(num_friends, 0.90)\", quantile(num_friends, 0.90))\n",
    "\n",
    "# mode is the value for maximum\n",
    "def mode(x):\n",
    "    \"\"\"returns a list, might be more than one mode\"\"\"\n",
    "    counts = Counter(x)\n",
    "    max_count = max(counts.values())\n",
    "    return [x_i for x_i, count in counts.items()\n",
    "            if count == max_count]\n",
    "\n",
    "# \"range\" already means something in Python, so we'll use a different name\n",
    "def data_range(x):\n",
    "    return max(x) - min(x)\n",
    "\n",
    "print(\"mode(num_friends)\", mode(num_friends))\n",
    "print(\"data_range(num_friends)\", data_range(num_friends))\n",
    "\n",
    "def interquartile_range(x):\n",
    "    return quantile(x, 0.75) - quantile(x, 0.25)\n",
    "\n",
    "\n",
    "print(\"interquartile_range(num_friends)\", interquartile_range(num_friends))"
   ]
  },
  {
   "cell_type": "code",
   "execution_count": 5,
   "metadata": {},
   "outputs": [
    {
     "name": "stdout",
     "output_type": "stream",
     "text": [
      "variance(num_friends) 81.54351395730716\n",
      "standard_deviation(num_friends) 9.03014473623248\n"
     ]
    }
   ],
   "source": [
    "# stats with respect to mean\n",
    "\n",
    "# deviance difference from means\n",
    "def de_mean(x):\n",
    "    \"\"\"translate x by subtracting its mean (so the result has mean 0)\"\"\"\n",
    "    x_bar = mean(x)\n",
    "    return [x_i - x_bar for x_i in x]\n",
    "\n",
    "# sum of squared deviance\n",
    "def variance(x):\n",
    "    \"\"\"assumes x has at least two elements\"\"\"\n",
    "    n = len(x)\n",
    "    deviations = de_mean(x)\n",
    "    return sum([d**2 for d in deviations]) / (n - 1)\n",
    "\n",
    "# sqrt(sum of squared deviance)\n",
    "def standard_deviation(x):\n",
    "    return math.sqrt(variance(x))\n",
    "\n",
    "\n",
    "\n",
    "\n",
    "\n",
    "\n",
    "print(\"variance(num_friends)\", variance(num_friends))\n",
    "print(\"standard_deviation(num_friends)\", standard_deviation(num_friends))\n"
   ]
  },
  {
   "cell_type": "code",
   "execution_count": 6,
   "metadata": {},
   "outputs": [
    {
     "name": "stdout",
     "output_type": "stream",
     "text": [
      "covariance(num_friends, daily_minutes) 22.425435139573064\n"
     ]
    }
   ],
   "source": [
    "# first define vector dot again\n",
    "def vector_dot(v, w):\n",
    "    \"\"\"v_1 * w_1 + ... + v_n * w_n\"\"\"\n",
    "    return sum(v_i * w_i for v_i, w_i in zip(v, w))\n",
    "\n",
    "# covariance measures how two variables vary in tandem from their means:\n",
    "def covariance(x, y):\n",
    "    n = len(x)\n",
    "    return vector_dot(de_mean(x), de_mean(y)) / (n - 1) # 22\n",
    "\n",
    "print(\"covariance(num_friends, daily_minutes)\", covariance(num_friends, daily_minutes))\n",
    "\n",
    "# When one is above its mean and the other below, a negative number enters the sum. \n",
    "# A “large” positive covariance means that x large y is large and small when y is small. \n",
    "# A “large” negative covariance means the opposite—that x tends to be small when y is large \n",
    "# and vice versa. A covariance close to zero means that no such relationship exists.\n",
    "\n",
    "\n"
   ]
  },
  {
   "attachments": {
    "image.png": {
     "image/png": "[encoded data removed]"
    }
   },
   "cell_type": "markdown",
   "metadata": {},
   "source": [
    "### Correlation\n",
    "\n",
    "![image.png](attachment:image.png)"
   ]
  },
  {
   "attachments": {
    "image.png": {
     "image/png": "[encoded data removed]"
    }
   },
   "cell_type": "markdown",
   "metadata": {},
   "source": [
    "![image.png](attachment:image.png)"
   ]
  },
  {
   "cell_type": "code",
   "execution_count": 7,
   "metadata": {},
   "outputs": [
    {
     "name": "stdout",
     "output_type": "stream",
     "text": [
      "correlation(num_friends, daily_minutes) 0.24736957366478218\n"
     ]
    }
   ],
   "source": [
    "# The correlation is unitless and always lies between -1 (perfect anti-correlation) \n",
    "# and 1 (perfect correlation). A number like 0.25 represents a relatively weak positive correlation.\n",
    "def correlation(x, y):\n",
    "    stdev_x = standard_deviation(x)\n",
    "    stdev_y = standard_deviation(y)\n",
    "    if stdev_x > 0 and stdev_y > 0:\n",
    "        return covariance(x, y) / stdev_x / stdev_y\n",
    "    else:\n",
    "        return 0 # if no variation, correlation is zero\n",
    "    \n",
    "    \n",
    "print(\"correlation(num_friends, daily_minutes)\", correlation(num_friends, daily_minutes))"
   ]
  },
  {
   "cell_type": "code",
   "execution_count": 8,
   "metadata": {},
   "outputs": [
    {
     "data": {
      "text/plain": [
       "<matplotlib.collections.PathCollection at 0x1d59c6b7978>"
      ]
     },
     "execution_count": 8,
     "metadata": {},
     "output_type": "execute_result"
    },
    {
     "data": {
      "image/png": "[encoded data removed]",
      "text/plain": [
       "<Figure size 432x288 with 1 Axes>"
      ]
     },
     "metadata": {
      "needs_background": "light"
     },
     "output_type": "display_data"
    }
   ],
   "source": [
    "plt.scatter(num_friends, daily_minutes)"
   ]
  },
  {
   "cell_type": "code",
   "execution_count": 9,
   "metadata": {},
   "outputs": [
    {
     "name": "stdout",
     "output_type": "stream",
     "text": [
      "correlation(num_friends_good, daily_minutes_good) 0.5736792115665573\n"
     ]
    }
   ],
   "source": [
    "\n",
    "\n",
    "outlier = num_friends.index(100) # index of outlier\n",
    "\n",
    "num_friends_good = [x\n",
    "                    for i, x in enumerate(num_friends)\n",
    "                    if i != outlier]\n",
    "\n",
    "daily_minutes_good = [x\n",
    "                      for i, x in enumerate(daily_minutes)\n",
    "                      if i != outlier]\n",
    "\n",
    "\n",
    "\n",
    "\n",
    "\n",
    "print(\"correlation(num_friends_good, daily_minutes_good)\", correlation(num_friends_good, daily_minutes_good))"
   ]
  },
  {
   "cell_type": "markdown",
   "metadata": {},
   "source": [
    "### Correlation explores linear relationships\n",
    "\n"
   ]
  },
  {
   "cell_type": "code",
   "execution_count": 10,
   "metadata": {
    "scrolled": true
   },
   "outputs": [
    {
     "name": "stdout",
     "output_type": "stream",
     "text": [
      "correlation(x, xp) 1.0\n",
      "correlation(x, xp) 0.9999999999999999\n",
      "correlation(x, y) 0.0\n",
      "correlation(x, z) 0.0\n",
      "[-2, -1, 0, 1, 2] [-999, -499, 1, 501, 1001] [-999, -499, 1, 501, 5]\n",
      "pearsonr correlation(x, xp) (1.0, 0.0)\n",
      "pearsonr correlation(x, xp2) (1.0, 0.0)\n",
      "pearsonr correlation(x, xp3) (0.8337520726054479, 0.07931043645736173)\n",
      "pearsonr correlation(x, xp) (0.0, 1.0)\n",
      "pearsonr correlation(x, xp) (0.0, 1.0)\n"
     ]
    }
   ],
   "source": [
    "x = [-2, -1, 0, 1, 2]\n",
    "\n",
    "xp = [xe*5+1 for xe in x] # ax+b\n",
    "xp2 = [xe*500+1 for xe in x] # ax+b\n",
    "\n",
    "\n",
    "y = [ 2,  1, 0, 1, 2] # abs of x\n",
    "z = [xe**2 for xe in x] # square of x\n",
    "\n",
    "print(\"correlation(x, xp)\", correlation(x, xp))\n",
    "print(\"correlation(x, xp)\", correlation(x, xp2))\n",
    "print(\"correlation(x, y)\", correlation(x, y))\n",
    "print(\"correlation(x, z)\", correlation(x, z))\n",
    "\n",
    "from scipy.stats import pearsonr\n",
    "#Pearson’s correlation coefficient, 2-tailed p-value. significance\n",
    "xp3 = xp2.copy() # ax+b\n",
    "xp3[-1]=5\n",
    "print(x,xp2,xp3)\n",
    "\n",
    "print(\"pearsonr correlation(x, xp)\", pearsonr(x, xp))\n",
    "print(\"pearsonr correlation(x, xp2)\", pearsonr(x, xp2))\n",
    "print(\"pearsonr correlation(x, xp3)\", pearsonr(x, xp3))\n",
    "print(\"pearsonr correlation(x, xp)\", pearsonr(x, y))\n",
    "print(\"pearsonr correlation(x, xp)\", pearsonr(x, z))\n"
   ]
  },
  {
   "cell_type": "markdown",
   "metadata": {},
   "source": [
    "Correlation and Causation\n",
    "Remember that “correlation is not causation"
   ]
  },
  {
   "cell_type": "markdown",
   "metadata": {},
   "source": [
    "## PANDAS AND STATS\n"
   ]
  },
  {
   "cell_type": "code",
   "execution_count": 2,
   "metadata": {},
   "outputs": [
    {
     "name": "stdout",
     "output_type": "stream",
     "text": [
      "Series d    4\n",
      "b    7\n",
      "a   -5\n",
      "c    3\n",
      "dtype: int64\n",
      "Frame     state  year  pop\n",
      "0    Ohio  2000  1.5\n",
      "1    Ohio  2001  1.7\n",
      "2    Ohio  2002  3.6\n",
      "3  Nevada  2001  2.4\n",
      "4  Nevada  2002  2.9\n",
      "RangeIndex(start=0, stop=5, step=1)\n"
     ]
    }
   ],
   "source": [
    "import pandas as pd\n",
    "from pandas import Series, DataFrame\n",
    "obj = Series([4, 7, -5, 3], index=['d', 'b', 'a', 'c'])\n",
    "obj\n",
    "print(\"Series\",obj)\n",
    "data = {'state': ['Ohio', 'Ohio', 'Ohio', 'Nevada', 'Nevada'],\n",
    "        'year': [2000, 2001, 2002, 2001, 2002],\n",
    "        'pop': [1.5, 1.7, 3.6, 2.4, 2.9]}\n",
    "frame = DataFrame(data)\n",
    "print(\"Frame\", frame)\n",
    "\n",
    "\n",
    "print(frame.index)"
   ]
  },
  {
   "cell_type": "code",
   "execution_count": 12,
   "metadata": {},
   "outputs": [
    {
     "data": {
      "text/html": [
       "<div>\n",
       "<style scoped>\n",
       "    .dataframe tbody tr th:only-of-type {\n",
       "        vertical-align: middle;\n",
       "    }\n",
       "\n",
       "    .dataframe tbody tr th {\n",
       "        vertical-align: top;\n",
       "    }\n",
       "\n",
       "    .dataframe thead th {\n",
       "        text-align: right;\n",
       "    }\n",
       "</style>\n",
       "<table border=\"1\" class=\"dataframe\">\n",
       "  <thead>\n",
       "    <tr style=\"text-align: right;\">\n",
       "      <th></th>\n",
       "      <th>state</th>\n",
       "      <th>year</th>\n",
       "      <th>pop</th>\n",
       "    </tr>\n",
       "  </thead>\n",
       "  <tbody>\n",
       "    <tr>\n",
       "      <th>2</th>\n",
       "      <td>Ohio</td>\n",
       "      <td>2002</td>\n",
       "      <td>3.6</td>\n",
       "    </tr>\n",
       "    <tr>\n",
       "      <th>4</th>\n",
       "      <td>Nevada</td>\n",
       "      <td>2002</td>\n",
       "      <td>2.9</td>\n",
       "    </tr>\n",
       "    <tr>\n",
       "      <th>1</th>\n",
       "      <td>Ohio</td>\n",
       "      <td>2001</td>\n",
       "      <td>1.7</td>\n",
       "    </tr>\n",
       "    <tr>\n",
       "      <th>3</th>\n",
       "      <td>Nevada</td>\n",
       "      <td>2001</td>\n",
       "      <td>2.4</td>\n",
       "    </tr>\n",
       "    <tr>\n",
       "      <th>0</th>\n",
       "      <td>Ohio</td>\n",
       "      <td>2000</td>\n",
       "      <td>1.5</td>\n",
       "    </tr>\n",
       "  </tbody>\n",
       "</table>\n",
       "</div>"
      ],
      "text/plain": [
       "    state  year  pop\n",
       "2    Ohio  2002  3.6\n",
       "4  Nevada  2002  2.9\n",
       "1    Ohio  2001  1.7\n",
       "3  Nevada  2001  2.4\n",
       "0    Ohio  2000  1.5"
      ]
     },
     "execution_count": 12,
     "metadata": {},
     "output_type": "execute_result"
    }
   ],
   "source": [
    "frame.sort_values(by='year', ascending=False)"
   ]
  },
  {
   "cell_type": "code",
   "execution_count": 13,
   "metadata": {},
   "outputs": [
    {
     "data": {
      "text/plain": [
       "numpy.ndarray"
      ]
     },
     "execution_count": 13,
     "metadata": {},
     "output_type": "execute_result"
    }
   ],
   "source": [
    "take_it_as_array = frame['pop'].values\n",
    "type(take_it_as_array)"
   ]
  },
  {
   "cell_type": "code",
   "execution_count": 14,
   "metadata": {},
   "outputs": [
    {
     "name": "stdout",
     "output_type": "stream",
     "text": [
      "Frame        year   state  pop  debt\n",
      "one    2000    Ohio  1.5  16.5\n",
      "two    2001    Ohio  1.7  16.5\n",
      "three  2002    Ohio  3.6  16.5\n",
      "four   2001  Nevada  2.4  16.5\n",
      "five   2002  Nevada  2.9  16.5\n",
      "\n",
      "        year   state  pop  debt\n",
      "one    2000    Ohio  1.5   NaN\n",
      "two    2001    Ohio  1.7  -1.2\n",
      "three  2002    Ohio  3.6   NaN\n",
      "four   2001  Nevada  2.4  -1.5\n",
      "five   2002  Nevada  2.9  -1.7\n"
     ]
    }
   ],
   "source": [
    "frame2 = DataFrame(data, columns=['year', 'state', 'pop', 'debt'],index=['one', 'two', 'three', 'four', 'five'])\n",
    "frame2['debt'] = 16.5\n",
    "print(\"Frame\", frame2)\n",
    "val = Series([-1.2, -1.5, -1.7], index=['two', 'four', 'five'])\n",
    "frame2['debt']= val\n",
    "print(\"\\n\",frame2)"
   ]
  },
  {
   "cell_type": "code",
   "execution_count": 15,
   "metadata": {},
   "outputs": [
    {
     "data": {
      "text/html": [
       "<div>\n",
       "<style scoped>\n",
       "    .dataframe tbody tr th:only-of-type {\n",
       "        vertical-align: middle;\n",
       "    }\n",
       "\n",
       "    .dataframe tbody tr th {\n",
       "        vertical-align: top;\n",
       "    }\n",
       "\n",
       "    .dataframe thead th {\n",
       "        text-align: right;\n",
       "    }\n",
       "</style>\n",
       "<table border=\"1\" class=\"dataframe\">\n",
       "  <thead>\n",
       "    <tr style=\"text-align: right;\">\n",
       "      <th></th>\n",
       "      <th>year</th>\n",
       "      <th>pop</th>\n",
       "      <th>debt</th>\n",
       "    </tr>\n",
       "  </thead>\n",
       "  <tbody>\n",
       "    <tr>\n",
       "      <th>count</th>\n",
       "      <td>5.00000</td>\n",
       "      <td>5.000000</td>\n",
       "      <td>3.000000</td>\n",
       "    </tr>\n",
       "    <tr>\n",
       "      <th>mean</th>\n",
       "      <td>2001.20000</td>\n",
       "      <td>2.420000</td>\n",
       "      <td>-1.466667</td>\n",
       "    </tr>\n",
       "    <tr>\n",
       "      <th>std</th>\n",
       "      <td>0.83666</td>\n",
       "      <td>0.864292</td>\n",
       "      <td>0.251661</td>\n",
       "    </tr>\n",
       "    <tr>\n",
       "      <th>min</th>\n",
       "      <td>2000.00000</td>\n",
       "      <td>1.500000</td>\n",
       "      <td>-1.700000</td>\n",
       "    </tr>\n",
       "    <tr>\n",
       "      <th>25%</th>\n",
       "      <td>2001.00000</td>\n",
       "      <td>1.700000</td>\n",
       "      <td>-1.600000</td>\n",
       "    </tr>\n",
       "    <tr>\n",
       "      <th>50%</th>\n",
       "      <td>2001.00000</td>\n",
       "      <td>2.400000</td>\n",
       "      <td>-1.500000</td>\n",
       "    </tr>\n",
       "    <tr>\n",
       "      <th>75%</th>\n",
       "      <td>2002.00000</td>\n",
       "      <td>2.900000</td>\n",
       "      <td>-1.350000</td>\n",
       "    </tr>\n",
       "    <tr>\n",
       "      <th>max</th>\n",
       "      <td>2002.00000</td>\n",
       "      <td>3.600000</td>\n",
       "      <td>-1.200000</td>\n",
       "    </tr>\n",
       "  </tbody>\n",
       "</table>\n",
       "</div>"
      ],
      "text/plain": [
       "             year       pop      debt\n",
       "count     5.00000  5.000000  3.000000\n",
       "mean   2001.20000  2.420000 -1.466667\n",
       "std       0.83666  0.864292  0.251661\n",
       "min    2000.00000  1.500000 -1.700000\n",
       "25%    2001.00000  1.700000 -1.600000\n",
       "50%    2001.00000  2.400000 -1.500000\n",
       "75%    2002.00000  2.900000 -1.350000\n",
       "max    2002.00000  3.600000 -1.200000"
      ]
     },
     "execution_count": 15,
     "metadata": {},
     "output_type": "execute_result"
    }
   ],
   "source": [
    "frame2.describe()"
   ]
  },
  {
   "cell_type": "code",
   "execution_count": 16,
   "metadata": {},
   "outputs": [
    {
     "data": {
      "text/html": [
       "<div>\n",
       "<style scoped>\n",
       "    .dataframe tbody tr th:only-of-type {\n",
       "        vertical-align: middle;\n",
       "    }\n",
       "\n",
       "    .dataframe tbody tr th {\n",
       "        vertical-align: top;\n",
       "    }\n",
       "\n",
       "    .dataframe thead th {\n",
       "        text-align: right;\n",
       "    }\n",
       "</style>\n",
       "<table border=\"1\" class=\"dataframe\">\n",
       "  <thead>\n",
       "    <tr style=\"text-align: right;\">\n",
       "      <th></th>\n",
       "      <th>year</th>\n",
       "      <th>pop</th>\n",
       "      <th>debt</th>\n",
       "    </tr>\n",
       "  </thead>\n",
       "  <tbody>\n",
       "    <tr>\n",
       "      <th>year</th>\n",
       "      <td>1.000000</td>\n",
       "      <td>0.891970</td>\n",
       "      <td>-0.802955</td>\n",
       "    </tr>\n",
       "    <tr>\n",
       "      <th>pop</th>\n",
       "      <td>0.891970</td>\n",
       "      <td>1.000000</td>\n",
       "      <td>-0.999819</td>\n",
       "    </tr>\n",
       "    <tr>\n",
       "      <th>debt</th>\n",
       "      <td>-0.802955</td>\n",
       "      <td>-0.999819</td>\n",
       "      <td>1.000000</td>\n",
       "    </tr>\n",
       "  </tbody>\n",
       "</table>\n",
       "</div>"
      ],
      "text/plain": [
       "          year       pop      debt\n",
       "year  1.000000  0.891970 -0.802955\n",
       "pop   0.891970  1.000000 -0.999819\n",
       "debt -0.802955 -0.999819  1.000000"
      ]
     },
     "execution_count": 16,
     "metadata": {},
     "output_type": "execute_result"
    }
   ],
   "source": [
    "frame2.corr()"
   ]
  },
  {
   "cell_type": "code",
   "execution_count": 17,
   "metadata": {},
   "outputs": [
    {
     "data": {
      "text/html": [
       "<div>\n",
       "<style scoped>\n",
       "    .dataframe tbody tr th:only-of-type {\n",
       "        vertical-align: middle;\n",
       "    }\n",
       "\n",
       "    .dataframe tbody tr th {\n",
       "        vertical-align: top;\n",
       "    }\n",
       "\n",
       "    .dataframe thead th {\n",
       "        text-align: right;\n",
       "    }\n",
       "</style>\n",
       "<table border=\"1\" class=\"dataframe\">\n",
       "  <thead>\n",
       "    <tr style=\"text-align: right;\">\n",
       "      <th></th>\n",
       "      <th>A</th>\n",
       "      <th>B</th>\n",
       "      <th>C</th>\n",
       "      <th>D</th>\n",
       "      <th>E</th>\n",
       "      <th>F</th>\n",
       "    </tr>\n",
       "  </thead>\n",
       "  <tbody>\n",
       "    <tr>\n",
       "      <th>0</th>\n",
       "      <td>1.0</td>\n",
       "      <td>2013-01-02</td>\n",
       "      <td>1.0</td>\n",
       "      <td>3</td>\n",
       "      <td>test</td>\n",
       "      <td>foo</td>\n",
       "    </tr>\n",
       "    <tr>\n",
       "      <th>1</th>\n",
       "      <td>1.0</td>\n",
       "      <td>2013-01-02</td>\n",
       "      <td>1.0</td>\n",
       "      <td>3</td>\n",
       "      <td>train</td>\n",
       "      <td>foo</td>\n",
       "    </tr>\n",
       "    <tr>\n",
       "      <th>2</th>\n",
       "      <td>1.0</td>\n",
       "      <td>2013-01-02</td>\n",
       "      <td>1.0</td>\n",
       "      <td>3</td>\n",
       "      <td>test</td>\n",
       "      <td>foo</td>\n",
       "    </tr>\n",
       "    <tr>\n",
       "      <th>3</th>\n",
       "      <td>1.0</td>\n",
       "      <td>2013-01-02</td>\n",
       "      <td>1.0</td>\n",
       "      <td>3</td>\n",
       "      <td>train</td>\n",
       "      <td>foo</td>\n",
       "    </tr>\n",
       "  </tbody>\n",
       "</table>\n",
       "</div>"
      ],
      "text/plain": [
       "     A          B    C  D      E    F\n",
       "0  1.0 2013-01-02  1.0  3   test  foo\n",
       "1  1.0 2013-01-02  1.0  3  train  foo\n",
       "2  1.0 2013-01-02  1.0  3   test  foo\n",
       "3  1.0 2013-01-02  1.0  3  train  foo"
      ]
     },
     "execution_count": 17,
     "metadata": {},
     "output_type": "execute_result"
    }
   ],
   "source": [
    "import numpy as np\n",
    "df2 = pd.DataFrame({ 'A' : 1.,'B' : pd.Timestamp('20130102'),\n",
    "                    'C' : pd.Series(1,index=list(range(4)),dtype='float32'),\n",
    "                    'D' : np.array([3] * 4,dtype='int32'),\n",
    "                    'E' : pd.Categorical([\"test\",\"train\",\"test\",\"train\"]),\n",
    "                    'F' : 'foo' })\n",
    "df2"
   ]
  },
  {
   "cell_type": "markdown",
   "metadata": {},
   "source": [
    "### AB COMPARISON \n",
    "### SHOE SALES ANALYSIS\n",
    "\n",
    "Story and data from \n",
    "https://github.com/amitkaps/hackermath/blob/master/Module_2f_ABTesting.ipynb\n",
    "\n",
    "\n",
    "\n",
    "\n",
    "A shoe company sells two models: UA101 and UA102. They wanted to improve their sales and so, ran an aggressive campaign.\n",
    "\n",
    "The sales data before the campaign, during the campaign and after the campaign are provided.\n",
    "\n",
    "Can you help them figure out if the campaign was successful or not? What additional insights will you provide them ?"
   ]
  },
  {
   "cell_type": "code",
   "execution_count": 18,
   "metadata": {},
   "outputs": [],
   "source": [
    "# xlrd reads excel files for panda\n",
    "#!conda install xlrd"
   ]
  },
  {
   "cell_type": "code",
   "execution_count": 19,
   "metadata": {},
   "outputs": [
    {
     "data": {
      "text/html": [
       "<div>\n",
       "<style scoped>\n",
       "    .dataframe tbody tr th:only-of-type {\n",
       "        vertical-align: middle;\n",
       "    }\n",
       "\n",
       "    .dataframe tbody tr th {\n",
       "        vertical-align: top;\n",
       "    }\n",
       "\n",
       "    .dataframe thead th {\n",
       "        text-align: right;\n",
       "    }\n",
       "</style>\n",
       "<table border=\"1\" class=\"dataframe\">\n",
       "  <thead>\n",
       "    <tr style=\"text-align: right;\">\n",
       "      <th></th>\n",
       "      <th>UA101</th>\n",
       "      <th>UA102</th>\n",
       "    </tr>\n",
       "  </thead>\n",
       "  <tbody>\n",
       "    <tr>\n",
       "      <th>0</th>\n",
       "      <td>12</td>\n",
       "      <td>6</td>\n",
       "    </tr>\n",
       "    <tr>\n",
       "      <th>1</th>\n",
       "      <td>4</td>\n",
       "      <td>7</td>\n",
       "    </tr>\n",
       "    <tr>\n",
       "      <th>2</th>\n",
       "      <td>11</td>\n",
       "      <td>16</td>\n",
       "    </tr>\n",
       "    <tr>\n",
       "      <th>3</th>\n",
       "      <td>6</td>\n",
       "      <td>12</td>\n",
       "    </tr>\n",
       "    <tr>\n",
       "      <th>4</th>\n",
       "      <td>6</td>\n",
       "      <td>18</td>\n",
       "    </tr>\n",
       "  </tbody>\n",
       "</table>\n",
       "</div>"
      ],
      "text/plain": [
       "   UA101  UA102\n",
       "0     12      6\n",
       "1      4      7\n",
       "2     11     16\n",
       "3      6     12\n",
       "4      6     18"
      ]
     },
     "execution_count": 19,
     "metadata": {},
     "output_type": "execute_result"
    }
   ],
   "source": [
    "#Read the dataset\n",
    "shoes_before = pd.read_excel(\"shoe_sales_before.xlsx\")\n",
    "shoes_during = pd.read_excel(\"shoe_sales_during.xlsx\")\n",
    "shoes_after = pd.read_excel(\"shoe_sales_after.xlsx\")\n",
    "\n",
    "shoes_before.head()\n",
    "\n",
    "\n"
   ]
  },
  {
   "cell_type": "markdown",
   "metadata": {},
   "source": [
    "#### Have the sales gone up after the campain? Compare the mean sales"
   ]
  },
  {
   "cell_type": "code",
   "execution_count": 20,
   "metadata": {},
   "outputs": [
    {
     "name": "stdout",
     "output_type": "stream",
     "text": [
      "Before Campaign:\n",
      "UA101     7.933333\n",
      "UA102    11.966667\n",
      "dtype: float64 \n",
      "\n",
      "During Campaign:\n",
      "UA101    15.683333\n",
      "UA102    21.100000\n",
      "dtype: float64 \n",
      "\n",
      "After Campaign:\n",
      "UA101    10.683333\n",
      "UA102    14.750000\n",
      "dtype: float64 \n",
      "\n"
     ]
    }
   ],
   "source": [
    "#What was the mean sales \n",
    "#before, during and after for the two shoe models\n",
    "#Hint: use df.mean function\n",
    "print(\"Before Campaign:\")\n",
    "print(shoes_before.mean(),\"\\n\")\n",
    "\n",
    "print(\"During Campaign:\")\n",
    "print(shoes_during.mean(),\"\\n\")\n",
    "\n",
    "print(\"After Campaign:\")\n",
    "print(shoes_after.mean(),\"\\n\")"
   ]
  },
  {
   "cell_type": "markdown",
   "metadata": {},
   "source": [
    "#### Check variance, std is sqrt of variance"
   ]
  },
  {
   "cell_type": "code",
   "execution_count": 21,
   "metadata": {},
   "outputs": [
    {
     "name": "stdout",
     "output_type": "stream",
     "text": [
      "Before Campaign:\n",
      "UA101    2.455479\n",
      "UA102    3.914193\n",
      "dtype: float64 \n",
      "\n"
     ]
    }
   ],
   "source": [
    "#Find the standard deviation of the sales\n",
    "\n",
    "print(\"Before Campaign:\")\n",
    "print(shoes_before.std(),\"\\n\")\n",
    "\n",
    "# do for others\n",
    "\n",
    "# if the std deviation was high for before or after sales, this means, sales fluctuate too much. "
   ]
  },
  {
   "cell_type": "code",
   "execution_count": 22,
   "metadata": {},
   "outputs": [
    {
     "name": "stdout",
     "output_type": "stream",
     "text": [
      "Before Campaign:\n",
      "          UA101      UA102\n",
      "UA101  6.029379  -0.764972\n",
      "UA102 -0.764972  15.320904 \n",
      "\n"
     ]
    }
   ],
   "source": [
    "#Find the covariance of the sales\n",
    "#Use the cov function\n",
    "\n",
    "print(\"Before Campaign:\")\n",
    "print(shoes_before.cov(),\"\\n\") \n",
    "\n",
    "# do for others\n",
    "\n",
    "# covariance analysis\n",
    "# Before campaign, UA101 and UA102 has negative covariance. Means if one of them is above the mean, the other falss below. \n",
    "# During and after campaign they have positive covariance. "
   ]
  },
  {
   "cell_type": "code",
   "execution_count": 23,
   "metadata": {},
   "outputs": [
    {
     "data": {
      "text/plain": [
       "Text(0.5, 0, 'UA102')"
      ]
     },
     "execution_count": 23,
     "metadata": {},
     "output_type": "execute_result"
    },
    {
     "data": {
      "image/png": "[encoded data removed]",
      "text/plain": [
       "<Figure size 1440x360 with 1 Axes>"
      ]
     },
     "metadata": {
      "needs_background": "light"
     },
     "output_type": "display_data"
    }
   ],
   "source": [
    "plt.figure(figsize=(20,5))\n",
    "plt.subplot(1,3,1)\n",
    "plt.scatter(shoes_before['UA101'],shoes_before['UA102'])\n",
    "plt.title('Before')\n",
    "plt.xlabel('UA101')\n",
    "plt.xlabel('UA102')\n",
    "\n",
    "# plot other ones"
   ]
  },
  {
   "cell_type": "code",
   "execution_count": 37,
   "metadata": {},
   "outputs": [
    {
     "ename": "NameError",
     "evalue": "name 'ptl' is not defined",
     "output_type": "error",
     "traceback": [
      "\u001b[1;31m---------------------------------------------------------------------------\u001b[0m",
      "\u001b[1;31mNameError\u001b[0m                                 Traceback (most recent call last)",
      "\u001b[1;32m<ipython-input-37-f201e2a2fa5f>\u001b[0m in \u001b[0;36m<module>\u001b[1;34m\u001b[0m\n\u001b[0;32m      6\u001b[0m \u001b[0mplt\u001b[0m\u001b[1;33m.\u001b[0m\u001b[0mxlabel\u001b[0m\u001b[1;33m(\u001b[0m\u001b[1;34m'UA102'\u001b[0m\u001b[1;33m)\u001b[0m\u001b[1;33m\u001b[0m\u001b[1;33m\u001b[0m\u001b[0m\n\u001b[0;32m      7\u001b[0m \u001b[0mplt\u001b[0m\u001b[1;33m.\u001b[0m\u001b[0mxlim\u001b[0m\u001b[1;33m(\u001b[0m\u001b[1;33m[\u001b[0m\u001b[1;36m4\u001b[0m\u001b[1;33m,\u001b[0m\u001b[1;36m40\u001b[0m\u001b[1;33m]\u001b[0m\u001b[1;33m)\u001b[0m\u001b[1;33m\u001b[0m\u001b[1;33m\u001b[0m\u001b[0m\n\u001b[1;32m----> 8\u001b[1;33m \u001b[0mptl\u001b[0m\u001b[1;33m.\u001b[0m\u001b[0mylim\u001b[0m\u001b[1;33m(\u001b[0m\u001b[1;33m[\u001b[0m\u001b[1;36m5\u001b[0m\u001b[1;33m,\u001b[0m\u001b[1;36m40\u001b[0m\u001b[1;33m]\u001b[0m\u001b[1;33m)\u001b[0m\u001b[1;33m\u001b[0m\u001b[1;33m\u001b[0m\u001b[0m\n\u001b[0m",
      "\u001b[1;31mNameError\u001b[0m: name 'ptl' is not defined"
     ]
    },
    {
     "data": {
      "image/png": "[encoded data removed]",
      "text/plain": [
       "<Figure size 1440x360 with 1 Axes>"
      ]
     },
     "metadata": {
      "needs_background": "light"
     },
     "output_type": "display_data"
    }
   ],
   "source": [
    "plt.figure(figsize=(20,5))\n",
    "plt.subplot(1,3,1)\n",
    "plt.scatter(shoes_during['UA101'],shoes_during['UA102'])\n",
    "plt.title('During')\n",
    "plt.xlabel('UA101')\n",
    "plt.xlabel('UA102')\n",
    "plt.xlim([4,40])\n",
    "ptl.ylim([5,40])"
   ]
  },
  {
   "cell_type": "code",
   "execution_count": 35,
   "metadata": {},
   "outputs": [
    {
     "data": {
      "text/plain": [
       "Text(0.5, 0, 'UA102')"
      ]
     },
     "execution_count": 35,
     "metadata": {},
     "output_type": "execute_result"
    },
    {
     "data": {
      "image/png": "[encoded data removed]",
      "text/plain": [
       "<Figure size 1440x360 with 1 Axes>"
      ]
     },
     "metadata": {
      "needs_background": "light"
     },
     "output_type": "display_data"
    }
   ],
   "source": [
    "plt.figure(figsize=(20,5))\n",
    "plt.subplot(1,3,1)\n",
    "plt.scatter(shoes_after['UA101'],shoes_after['UA102'])\n",
    "plt.title('After')\n",
    "plt.xlabel('UA101')\n",
    "plt.xlabel('UA102')"
   ]
  },
  {
   "cell_type": "code",
   "execution_count": 24,
   "metadata": {},
   "outputs": [
    {
     "name": "stdout",
     "output_type": "stream",
     "text": [
      "Before Campaign:\n",
      "          UA101     UA102\n",
      "UA101  1.000000 -0.079592\n",
      "UA102 -0.079592  1.000000\n",
      "\n"
     ]
    }
   ],
   "source": [
    "#Find correlation between sales\n",
    "print(\"Before Campaign:\")\n",
    "print(shoes_before.corr())\n",
    "print()\n",
    "# do for others"
   ]
  },
  {
   "cell_type": "code",
   "execution_count": 25,
   "metadata": {},
   "outputs": [
    {
     "name": "stdout",
     "output_type": "stream",
     "text": [
      "Increase in sales  2.75\n",
      "Increase in sales percentage  25.741029641185648\n"
     ]
    }
   ],
   "source": [
    "#Find difference between mean sales before and after the campaign\n",
    "\n",
    "print(\"Increase in sales \", np.mean(shoes_after.UA101) - np.mean(shoes_before.UA101))\n",
    "\n",
    "print(\"Increase in sales percentage \", (np.mean(shoes_after.UA101) - np.mean(shoes_before.UA101))/np.mean(shoes_after.UA101) * 100)\n",
    "\n",
    "\n",
    "#Find %increase in mean sales\n",
    "\n",
    "\n"
   ]
  },
  {
   "cell_type": "markdown",
   "metadata": {},
   "source": [
    "On average, the sales after campaign is more than the sales before campaign. But is the difference legit? Could it be due to chance?\n",
    "\n",
    "Is the difference  statistically significant"
   ]
  },
  {
   "cell_type": "raw",
   "metadata": {},
   "source": [
    "\n",
    "### Standard Error\n",
    "\n",
    "How accurate is our estimate for mean\n",
    "It is a measure of how far the estimate to be off, on average. More technically, it is the standard deviation of the sampling distribution of a statistic(mostly the mean). Please do not confuse it with standard deviation. Standard deviation is a measure of the variability of the observed quantity. Standard error, on the other hand, describes variability of the estimate.\n"
   ]
  },
  {
   "cell_type": "code",
   "execution_count": 26,
   "metadata": {},
   "outputs": [
    {
     "name": "stdout",
     "output_type": "stream",
     "text": [
      "SEM for UA101  0.31700101290777827\n",
      "SEM for UA101  0.33823375284422535\n"
     ]
    }
   ],
   "source": [
    "\n",
    "from scipy import stats\n",
    "# Calculates the standard error of the mean (or standard error of measurement) of the values in the input array.\n",
    "print(\"SEM for UA101 \", stats.sem(shoes_before.UA101))\n",
    "print(\"SEM for UA101 \", stats.sem(shoes_after.UA101))"
   ]
  },
  {
   "cell_type": "code",
   "execution_count": 27,
   "metadata": {},
   "outputs": [
    {
     "data": {
      "text/plain": [
       "(7.312022764971371, 8.554643901695295)"
      ]
     },
     "execution_count": 27,
     "metadata": {},
     "output_type": "execute_result"
    }
   ],
   "source": [
    "#Mean of sales before campaign\n",
    "shoes_before.UA101.mean()\n",
    "\n",
    "#Confidence interval on the mean of sales before campaign\n",
    "stats.norm.interval(0.95, loc=shoes_before.UA101.mean(), \n",
    "scale = shoes_before.UA101.std()/np.sqrt(len(shoes_before)))"
   ]
  },
  {
   "cell_type": "code",
   "execution_count": 28,
   "metadata": {},
   "outputs": [
    {
     "name": "stdout",
     "output_type": "stream",
     "text": [
      "10.683333333333334\n"
     ]
    },
    {
     "data": {
      "text/plain": [
       "(10.02040735940283, 11.346259307263837)"
      ]
     },
     "execution_count": 28,
     "metadata": {},
     "output_type": "execute_result"
    }
   ],
   "source": [
    "#Find mean and 95% CI on mean of sales after campaign\n",
    "print(shoes_after.UA101.mean())\n",
    "stats.norm.interval(0.95, loc=shoes_after.UA101.mean(), \n",
    "scale = shoes_after.UA101.std()/np.sqrt(len(shoes_after)))\n"
   ]
  },
  {
   "cell_type": "markdown",
   "metadata": {},
   "source": [
    "Effect size: 2.75\n",
    "\n",
    "Null Hypothesis: Mean sales aren't significantly different\n",
    "\n",
    "Perform t-test and determine the p-value.\n"
   ]
  },
  {
   "cell_type": "code",
   "execution_count": 29,
   "metadata": {},
   "outputs": [
    {
     "data": {
      "text/plain": [
       "Ttest_indResult(statistic=-5.932296635669289, pvalue=3.0560627719645606e-08)"
      ]
     },
     "execution_count": 29,
     "metadata": {},
     "output_type": "execute_result"
    }
   ],
   "source": [
    "stats.ttest_ind(shoes_before.UA101, \n",
    "shoes_after.UA101, equal_var=True)"
   ]
  },
  {
   "cell_type": "markdown",
   "metadata": {},
   "source": [
    "p-value is the probability that the effective size was by chance. And here, p-value is almost 0.\n",
    "\n",
    "#### Conclusion: The sales difference is significant.\n",
    "\n",
    "Repeat the test for UA102\n"
   ]
  },
  {
   "cell_type": "markdown",
   "metadata": {},
   "source": [
    "#### Assumption of t-test\n",
    "\n",
    "One assumption is that the data used came from a normal distribution.\n",
    "There's a Shapiro-Wilk test to test for normality. If p-value is less than 0.05, then there's a low chance that the distribution is normal."
   ]
  },
  {
   "cell_type": "code",
   "execution_count": 30,
   "metadata": {},
   "outputs": [
    {
     "data": {
      "text/plain": [
       "(0.9386103749275208, 0.00469556450843811)"
      ]
     },
     "execution_count": 30,
     "metadata": {},
     "output_type": "execute_result"
    }
   ],
   "source": [
    "stats.shapiro(shoes_before.UA101)"
   ]
  },
  {
   "cell_type": "code",
   "execution_count": 31,
   "metadata": {},
   "outputs": [
    {
     "data": {
      "text/plain": [
       "\u001b[1;31mSignature:\u001b[0m \u001b[0mstats\u001b[0m\u001b[1;33m.\u001b[0m\u001b[0mshapiro\u001b[0m\u001b[1;33m(\u001b[0m\u001b[0mx\u001b[0m\u001b[1;33m)\u001b[0m\u001b[1;33m\u001b[0m\u001b[1;33m\u001b[0m\u001b[0m\n",
       "\u001b[1;31mDocstring:\u001b[0m\n",
       "Perform the Shapiro-Wilk test for normality.\n",
       "\n",
       "The Shapiro-Wilk test tests the null hypothesis that the\n",
       "data was drawn from a normal distribution.\n",
       "\n",
       "Parameters\n",
       "----------\n",
       "x : array_like\n",
       "    Array of sample data.\n",
       "\n",
       "Returns\n",
       "-------\n",
       "W : float\n",
       "    The test statistic.\n",
       "p-value : float\n",
       "    The p-value for the hypothesis test.\n",
       "\n",
       "See Also\n",
       "--------\n",
       "anderson : The Anderson-Darling test for normality\n",
       "kstest : The Kolmogorov-Smirnov test for goodness of fit.\n",
       "\n",
       "Notes\n",
       "-----\n",
       "The algorithm used is described in [4]_ but censoring parameters as\n",
       "described are not implemented. For N > 5000 the W test statistic is accurate\n",
       "but the p-value may not be.\n",
       "\n",
       "The chance of rejecting the null hypothesis when it is true is close to 5%\n",
       "regardless of sample size.\n",
       "\n",
       "References\n",
       "----------\n",
       ".. [1] http://www.itl.nist.gov/div898/handbook/prc/section2/prc213.htm\n",
       ".. [2] Shapiro, S. S. & Wilk, M.B (1965). An analysis of variance test for\n",
       "       normality (complete samples), Biometrika, Vol. 52, pp. 591-611.\n",
       ".. [3] Razali, N. M. & Wah, Y. B. (2011) Power comparisons of Shapiro-Wilk,\n",
       "       Kolmogorov-Smirnov, Lilliefors and Anderson-Darling tests, Journal of\n",
       "       Statistical Modeling and Analytics, Vol. 2, pp. 21-33.\n",
       ".. [4] ALGORITHM AS R94 APPL. STATIST. (1995) VOL. 44, NO. 4.\n",
       "\n",
       "Examples\n",
       "--------\n",
       ">>> from scipy import stats\n",
       ">>> np.random.seed(12345678)\n",
       ">>> x = stats.norm.rvs(loc=5, scale=3, size=100)\n",
       ">>> stats.shapiro(x)\n",
       "(0.9772805571556091, 0.08144091814756393)\n",
       "\u001b[1;31mFile:\u001b[0m      c:\\programdata\\anaconda3\\lib\\site-packages\\scipy\\stats\\morestats.py\n",
       "\u001b[1;31mType:\u001b[0m      function\n"
      ]
     },
     "metadata": {},
     "output_type": "display_data"
    }
   ],
   "source": [
    "stats.shapiro?"
   ]
  },
  {
   "cell_type": "code",
   "execution_count": 5,
   "metadata": {},
   "outputs": [
    {
     "data": {
      "text/html": [
       "<div>\n",
       "<style scoped>\n",
       "    .dataframe tbody tr th:only-of-type {\n",
       "        vertical-align: middle;\n",
       "    }\n",
       "\n",
       "    .dataframe tbody tr th {\n",
       "        vertical-align: top;\n",
       "    }\n",
       "\n",
       "    .dataframe thead th {\n",
       "        text-align: right;\n",
       "    }\n",
       "</style>\n",
       "<table border=\"1\" class=\"dataframe\">\n",
       "  <thead>\n",
       "    <tr style=\"text-align: right;\">\n",
       "      <th></th>\n",
       "      <th>Make</th>\n",
       "      <th>Model</th>\n",
       "      <th>Price</th>\n",
       "      <th>Type</th>\n",
       "      <th>ABS</th>\n",
       "      <th>BootSpace</th>\n",
       "      <th>GearType</th>\n",
       "      <th>AirBag</th>\n",
       "      <th>Engine</th>\n",
       "      <th>FuelCapacity</th>\n",
       "      <th>Mileage</th>\n",
       "    </tr>\n",
       "  </thead>\n",
       "  <tbody>\n",
       "    <tr>\n",
       "      <th>0</th>\n",
       "      <td>Ashok Leyland Stile</td>\n",
       "      <td>Ashok Leyland Stile LE 8-STR (Diesel)</td>\n",
       "      <td>750</td>\n",
       "      <td>MPV</td>\n",
       "      <td>No</td>\n",
       "      <td>500.0</td>\n",
       "      <td>Manual</td>\n",
       "      <td>No</td>\n",
       "      <td>1461.0</td>\n",
       "      <td>50.0</td>\n",
       "      <td>20.7</td>\n",
       "    </tr>\n",
       "    <tr>\n",
       "      <th>1</th>\n",
       "      <td>Ashok Leyland Stile</td>\n",
       "      <td>Ashok Leyland Stile LS 8-STR (Diesel)</td>\n",
       "      <td>800</td>\n",
       "      <td>MPV</td>\n",
       "      <td>No</td>\n",
       "      <td>500.0</td>\n",
       "      <td>Manual</td>\n",
       "      <td>No</td>\n",
       "      <td>1461.0</td>\n",
       "      <td>50.0</td>\n",
       "      <td>20.7</td>\n",
       "    </tr>\n",
       "    <tr>\n",
       "      <th>2</th>\n",
       "      <td>Ashok Leyland Stile</td>\n",
       "      <td>Ashok Leyland Stile LX 8-STR (Diesel)</td>\n",
       "      <td>830</td>\n",
       "      <td>MPV</td>\n",
       "      <td>No</td>\n",
       "      <td>500.0</td>\n",
       "      <td>Manual</td>\n",
       "      <td>No</td>\n",
       "      <td>1461.0</td>\n",
       "      <td>50.0</td>\n",
       "      <td>20.7</td>\n",
       "    </tr>\n",
       "    <tr>\n",
       "      <th>3</th>\n",
       "      <td>Ashok Leyland Stile</td>\n",
       "      <td>Ashok Leyland Stile LS 7-STR (Diesel)</td>\n",
       "      <td>850</td>\n",
       "      <td>MPV</td>\n",
       "      <td>No</td>\n",
       "      <td>500.0</td>\n",
       "      <td>Manual</td>\n",
       "      <td>No</td>\n",
       "      <td>1461.0</td>\n",
       "      <td>50.0</td>\n",
       "      <td>20.7</td>\n",
       "    </tr>\n",
       "    <tr>\n",
       "      <th>4</th>\n",
       "      <td>Ashok Leyland Stile</td>\n",
       "      <td>Ashok Leyland Stile LS 7-STR Alloy (Diesel)</td>\n",
       "      <td>880</td>\n",
       "      <td>MPV</td>\n",
       "      <td>No</td>\n",
       "      <td>500.0</td>\n",
       "      <td>Manual</td>\n",
       "      <td>No</td>\n",
       "      <td>1461.0</td>\n",
       "      <td>50.0</td>\n",
       "      <td>20.7</td>\n",
       "    </tr>\n",
       "    <tr>\n",
       "      <th>5</th>\n",
       "      <td>Ashok Leyland Stile</td>\n",
       "      <td>Ashok Leyland Stile LX 7-STR (Diesel)</td>\n",
       "      <td>900</td>\n",
       "      <td>MPV</td>\n",
       "      <td>No</td>\n",
       "      <td>500.0</td>\n",
       "      <td>Manual</td>\n",
       "      <td>No</td>\n",
       "      <td>1461.0</td>\n",
       "      <td>50.0</td>\n",
       "      <td>20.7</td>\n",
       "    </tr>\n",
       "    <tr>\n",
       "      <th>6</th>\n",
       "      <td>Ashok Leyland Stile</td>\n",
       "      <td>Ashok Leyland Stile LX 7-STR Alloy (Diesel)</td>\n",
       "      <td>930</td>\n",
       "      <td>MPV</td>\n",
       "      <td>No</td>\n",
       "      <td>500.0</td>\n",
       "      <td>Manual</td>\n",
       "      <td>No</td>\n",
       "      <td>1461.0</td>\n",
       "      <td>50.0</td>\n",
       "      <td>20.7</td>\n",
       "    </tr>\n",
       "    <tr>\n",
       "      <th>7</th>\n",
       "      <td>Aston Martin Rapide</td>\n",
       "      <td>Aston Martin Rapide LUXE (Petrol)</td>\n",
       "      <td>35000</td>\n",
       "      <td>Sedan</td>\n",
       "      <td>Yes</td>\n",
       "      <td>300.0</td>\n",
       "      <td>Automatic</td>\n",
       "      <td>Yes</td>\n",
       "      <td>5935.0</td>\n",
       "      <td>90.5</td>\n",
       "      <td>7.0</td>\n",
       "    </tr>\n",
       "    <tr>\n",
       "      <th>8</th>\n",
       "      <td>Aston Martin Rapide S</td>\n",
       "      <td>Aston Martin Rapide S (Petrol)</td>\n",
       "      <td>44000</td>\n",
       "      <td>Sedan</td>\n",
       "      <td>Yes</td>\n",
       "      <td>NaN</td>\n",
       "      <td>Automatic</td>\n",
       "      <td>Yes</td>\n",
       "      <td>5935.0</td>\n",
       "      <td>90.0</td>\n",
       "      <td>11.9</td>\n",
       "    </tr>\n",
       "    <tr>\n",
       "      <th>9</th>\n",
       "      <td>Aston Martin V12 Vantage</td>\n",
       "      <td>Aston Martin V12 Vantage Coupe (Petrol)</td>\n",
       "      <td>35000</td>\n",
       "      <td>Coupe</td>\n",
       "      <td>Yes</td>\n",
       "      <td>300.0</td>\n",
       "      <td>Automatic</td>\n",
       "      <td>Yes</td>\n",
       "      <td>5935.0</td>\n",
       "      <td>80.0</td>\n",
       "      <td>9.0</td>\n",
       "    </tr>\n",
       "  </tbody>\n",
       "</table>\n",
       "</div>"
      ],
      "text/plain": [
       "                       Make                                        Model  \\\n",
       "0       Ashok Leyland Stile        Ashok Leyland Stile LE 8-STR (Diesel)   \n",
       "1       Ashok Leyland Stile        Ashok Leyland Stile LS 8-STR (Diesel)   \n",
       "2       Ashok Leyland Stile        Ashok Leyland Stile LX 8-STR (Diesel)   \n",
       "3       Ashok Leyland Stile        Ashok Leyland Stile LS 7-STR (Diesel)   \n",
       "4       Ashok Leyland Stile  Ashok Leyland Stile LS 7-STR Alloy (Diesel)   \n",
       "5       Ashok Leyland Stile        Ashok Leyland Stile LX 7-STR (Diesel)   \n",
       "6       Ashok Leyland Stile  Ashok Leyland Stile LX 7-STR Alloy (Diesel)   \n",
       "7       Aston Martin Rapide            Aston Martin Rapide LUXE (Petrol)   \n",
       "8     Aston Martin Rapide S               Aston Martin Rapide S (Petrol)   \n",
       "9  Aston Martin V12 Vantage      Aston Martin V12 Vantage Coupe (Petrol)   \n",
       "\n",
       "   Price   Type   ABS  BootSpace    GearType AirBag  Engine  FuelCapacity  \\\n",
       "0    750    MPV    No      500.0      Manual     No  1461.0          50.0   \n",
       "1    800    MPV    No      500.0      Manual     No  1461.0          50.0   \n",
       "2    830    MPV    No      500.0      Manual     No  1461.0          50.0   \n",
       "3    850    MPV    No      500.0      Manual     No  1461.0          50.0   \n",
       "4    880    MPV    No      500.0      Manual     No  1461.0          50.0   \n",
       "5    900    MPV    No      500.0      Manual     No  1461.0          50.0   \n",
       "6    930    MPV    No      500.0      Manual     No  1461.0          50.0   \n",
       "7  35000  Sedan   Yes      300.0   Automatic    Yes  5935.0          90.5   \n",
       "8  44000  Sedan   Yes        NaN   Automatic    Yes  5935.0          90.0   \n",
       "9  35000  Coupe   Yes      300.0   Automatic    Yes  5935.0          80.0   \n",
       "\n",
       "   Mileage  \n",
       "0     20.7  \n",
       "1     20.7  \n",
       "2     20.7  \n",
       "3     20.7  \n",
       "4     20.7  \n",
       "5     20.7  \n",
       "6     20.7  \n",
       "7      7.0  \n",
       "8     11.9  \n",
       "9      9.0  "
      ]
     },
     "execution_count": 5,
     "metadata": {},
     "output_type": "execute_result"
    }
   ],
   "source": [
    "from datetime import datetime as dt\n",
    "from scipy import stats\n",
    "cars = pd.read_csv(\"HW4/cars_v1.csv\", encoding = \"ISO-8859-1\")\n",
    "cars.head(10) # check the first ten rows\n"
   ]
  },
  {
   "cell_type": "code",
   "execution_count": 6,
   "metadata": {},
   "outputs": [
    {
     "data": {
      "text/html": [
       "<div>\n",
       "<style scoped>\n",
       "    .dataframe tbody tr th:only-of-type {\n",
       "        vertical-align: middle;\n",
       "    }\n",
       "\n",
       "    .dataframe tbody tr th {\n",
       "        vertical-align: top;\n",
       "    }\n",
       "\n",
       "    .dataframe thead th {\n",
       "        text-align: right;\n",
       "    }\n",
       "</style>\n",
       "<table border=\"1\" class=\"dataframe\">\n",
       "  <thead>\n",
       "    <tr style=\"text-align: right;\">\n",
       "      <th></th>\n",
       "      <th>Make</th>\n",
       "      <th>Model</th>\n",
       "      <th>Price</th>\n",
       "      <th>Type</th>\n",
       "      <th>ABS</th>\n",
       "      <th>BootSpace</th>\n",
       "      <th>GearType</th>\n",
       "      <th>AirBag</th>\n",
       "      <th>Engine</th>\n",
       "      <th>FuelCapacity</th>\n",
       "      <th>Mileage</th>\n",
       "    </tr>\n",
       "  </thead>\n",
       "  <tbody>\n",
       "    <tr>\n",
       "      <th>823</th>\n",
       "      <td>Volvo S60</td>\n",
       "      <td>Volvo S60 Summum D5 (Diesel)</td>\n",
       "      <td>3690</td>\n",
       "      <td>Sedan</td>\n",
       "      <td>Yes</td>\n",
       "      <td>339.0</td>\n",
       "      <td>Automatic</td>\n",
       "      <td>Yes</td>\n",
       "      <td>2400.0</td>\n",
       "      <td>67.5</td>\n",
       "      <td>20.40</td>\n",
       "    </tr>\n",
       "    <tr>\n",
       "      <th>824</th>\n",
       "      <td>Volvo S60</td>\n",
       "      <td>Volvo S60 T6</td>\n",
       "      <td>4200</td>\n",
       "      <td>Sedan</td>\n",
       "      <td>Yes</td>\n",
       "      <td>380.0</td>\n",
       "      <td>Automatic</td>\n",
       "      <td>Yes</td>\n",
       "      <td>1969.0</td>\n",
       "      <td>67.0</td>\n",
       "      <td>18.50</td>\n",
       "    </tr>\n",
       "    <tr>\n",
       "      <th>825</th>\n",
       "      <td>Volvo S80</td>\n",
       "      <td>Volvo S80 Summum D4 (Diesel)</td>\n",
       "      <td>4135</td>\n",
       "      <td>Sedan</td>\n",
       "      <td>Yes</td>\n",
       "      <td>480.0</td>\n",
       "      <td>Automatic</td>\n",
       "      <td>Yes</td>\n",
       "      <td>1984.0</td>\n",
       "      <td>70.0</td>\n",
       "      <td>16.66</td>\n",
       "    </tr>\n",
       "    <tr>\n",
       "      <th>826</th>\n",
       "      <td>Volvo S80</td>\n",
       "      <td>Volvo S80 Summum D5 (Diesel)</td>\n",
       "      <td>4480</td>\n",
       "      <td>Sedan</td>\n",
       "      <td>Yes</td>\n",
       "      <td>480.0</td>\n",
       "      <td>Automatic</td>\n",
       "      <td>Yes</td>\n",
       "      <td>2400.0</td>\n",
       "      <td>70.0</td>\n",
       "      <td>NaN</td>\n",
       "    </tr>\n",
       "    <tr>\n",
       "      <th>827</th>\n",
       "      <td>Volvo V40</td>\n",
       "      <td>Volvo V40 D3 Kinetic (Diesel)</td>\n",
       "      <td>2475</td>\n",
       "      <td>Hatchback</td>\n",
       "      <td>Yes</td>\n",
       "      <td>335.0</td>\n",
       "      <td>Automatic</td>\n",
       "      <td>Yes</td>\n",
       "      <td>1969.0</td>\n",
       "      <td>62.0</td>\n",
       "      <td>27.80</td>\n",
       "    </tr>\n",
       "    <tr>\n",
       "      <th>828</th>\n",
       "      <td>Volvo V40</td>\n",
       "      <td>Volvo V40 D3 R-Design (Diesel)</td>\n",
       "      <td>2770</td>\n",
       "      <td>Hatchback</td>\n",
       "      <td>Yes</td>\n",
       "      <td>324.0</td>\n",
       "      <td>Automatic</td>\n",
       "      <td>Yes</td>\n",
       "      <td>1984.0</td>\n",
       "      <td>62.0</td>\n",
       "      <td>27.80</td>\n",
       "    </tr>\n",
       "    <tr>\n",
       "      <th>829</th>\n",
       "      <td>Volvo V40 Cross Country</td>\n",
       "      <td>Volvo V40 D3 Cross Country (Diesel)</td>\n",
       "      <td>3180</td>\n",
       "      <td>Hatchback</td>\n",
       "      <td>Yes</td>\n",
       "      <td>335.0</td>\n",
       "      <td>Automatic</td>\n",
       "      <td>Yes</td>\n",
       "      <td>1984.0</td>\n",
       "      <td>60.0</td>\n",
       "      <td>16.80</td>\n",
       "    </tr>\n",
       "    <tr>\n",
       "      <th>830</th>\n",
       "      <td>Volvo V40 Cross Country</td>\n",
       "      <td>Volvo V40 T4 Cross Country (Petrol)</td>\n",
       "      <td>3240</td>\n",
       "      <td>Hatchback</td>\n",
       "      <td>Yes</td>\n",
       "      <td>324.0</td>\n",
       "      <td>Automatic</td>\n",
       "      <td>Yes</td>\n",
       "      <td>1596.0</td>\n",
       "      <td>50.0</td>\n",
       "      <td>16.00</td>\n",
       "    </tr>\n",
       "    <tr>\n",
       "      <th>831</th>\n",
       "      <td>Volvo XC90</td>\n",
       "      <td>Volvo XC 90 D5 Momentum(Diesel)</td>\n",
       "      <td>6490</td>\n",
       "      <td>SUV</td>\n",
       "      <td>Yes</td>\n",
       "      <td>NaN</td>\n",
       "      <td>Automatic</td>\n",
       "      <td>Yes</td>\n",
       "      <td>1969.0</td>\n",
       "      <td>68.0</td>\n",
       "      <td>11.10</td>\n",
       "    </tr>\n",
       "    <tr>\n",
       "      <th>832</th>\n",
       "      <td>Volvo XC90</td>\n",
       "      <td>Volvo XC 90 D5 Inscription(Diesel)</td>\n",
       "      <td>7790</td>\n",
       "      <td>SUV</td>\n",
       "      <td>Yes</td>\n",
       "      <td>NaN</td>\n",
       "      <td>Automatic</td>\n",
       "      <td>Yes</td>\n",
       "      <td>1969.0</td>\n",
       "      <td>68.0</td>\n",
       "      <td>11.10</td>\n",
       "    </tr>\n",
       "  </tbody>\n",
       "</table>\n",
       "</div>"
      ],
      "text/plain": [
       "                        Make                                Model  Price  \\\n",
       "823                Volvo S60         Volvo S60 Summum D5 (Diesel)   3690   \n",
       "824                Volvo S60                         Volvo S60 T6   4200   \n",
       "825                Volvo S80         Volvo S80 Summum D4 (Diesel)   4135   \n",
       "826                Volvo S80         Volvo S80 Summum D5 (Diesel)   4480   \n",
       "827                Volvo V40        Volvo V40 D3 Kinetic (Diesel)   2475   \n",
       "828                Volvo V40       Volvo V40 D3 R-Design (Diesel)   2770   \n",
       "829  Volvo V40 Cross Country  Volvo V40 D3 Cross Country (Diesel)   3180   \n",
       "830  Volvo V40 Cross Country  Volvo V40 T4 Cross Country (Petrol)   3240   \n",
       "831               Volvo XC90      Volvo XC 90 D5 Momentum(Diesel)   6490   \n",
       "832               Volvo XC90   Volvo XC 90 D5 Inscription(Diesel)   7790   \n",
       "\n",
       "          Type   ABS  BootSpace    GearType AirBag  Engine  FuelCapacity  \\\n",
       "823      Sedan   Yes      339.0   Automatic    Yes  2400.0          67.5   \n",
       "824      Sedan   Yes      380.0   Automatic    Yes  1969.0          67.0   \n",
       "825      Sedan   Yes      480.0   Automatic    Yes  1984.0          70.0   \n",
       "826      Sedan   Yes      480.0   Automatic    Yes  2400.0          70.0   \n",
       "827  Hatchback   Yes      335.0   Automatic    Yes  1969.0          62.0   \n",
       "828  Hatchback   Yes      324.0   Automatic    Yes  1984.0          62.0   \n",
       "829  Hatchback   Yes      335.0   Automatic    Yes  1984.0          60.0   \n",
       "830  Hatchback   Yes      324.0   Automatic    Yes  1596.0          50.0   \n",
       "831        SUV   Yes        NaN   Automatic    Yes  1969.0          68.0   \n",
       "832        SUV   Yes        NaN   Automatic    Yes  1969.0          68.0   \n",
       "\n",
       "     Mileage  \n",
       "823    20.40  \n",
       "824    18.50  \n",
       "825    16.66  \n",
       "826      NaN  \n",
       "827    27.80  \n",
       "828    27.80  \n",
       "829    16.80  \n",
       "830    16.00  \n",
       "831    11.10  \n",
       "832    11.10  "
      ]
     },
     "execution_count": 6,
     "metadata": {},
     "output_type": "execute_result"
    }
   ],
   "source": [
    "cars.tail(10) # check the first ten rows\n"
   ]
  },
  {
   "cell_type": "code",
   "execution_count": 7,
   "metadata": {},
   "outputs": [
    {
     "data": {
      "text/plain": [
       "Make              0\n",
       "Model             0\n",
       "Price             0\n",
       "Type              0\n",
       "ABS              16\n",
       "BootSpace       179\n",
       "GearType         16\n",
       "AirBag           21\n",
       "Engine            7\n",
       "FuelCapacity      0\n",
       "Mileage         171\n",
       "dtype: int64"
      ]
     },
     "execution_count": 7,
     "metadata": {},
     "output_type": "execute_result"
    }
   ],
   "source": [
    "cars.shape\n",
    "cars.columns\n",
    "cars.dtypes\n",
    "cars.isnull().sum()\n",
    "\n",
    "\n"
   ]
  },
  {
   "cell_type": "code",
   "execution_count": 10,
   "metadata": {},
   "outputs": [
    {
     "data": {
      "text/html": [
       "<div>\n",
       "<style scoped>\n",
       "    .dataframe tbody tr th:only-of-type {\n",
       "        vertical-align: middle;\n",
       "    }\n",
       "\n",
       "    .dataframe tbody tr th {\n",
       "        vertical-align: top;\n",
       "    }\n",
       "\n",
       "    .dataframe thead th {\n",
       "        text-align: right;\n",
       "    }\n",
       "</style>\n",
       "<table border=\"1\" class=\"dataframe\">\n",
       "  <thead>\n",
       "    <tr style=\"text-align: right;\">\n",
       "      <th></th>\n",
       "      <th>Make</th>\n",
       "      <th>Mileage</th>\n",
       "    </tr>\n",
       "  </thead>\n",
       "  <tbody>\n",
       "    <tr>\n",
       "      <th>0</th>\n",
       "      <td>Ashok Leyland Stile</td>\n",
       "      <td>20.700000</td>\n",
       "    </tr>\n",
       "    <tr>\n",
       "      <th>1</th>\n",
       "      <td>Aston Martin Rapide</td>\n",
       "      <td>7.000000</td>\n",
       "    </tr>\n",
       "    <tr>\n",
       "      <th>2</th>\n",
       "      <td>Aston Martin Rapide S</td>\n",
       "      <td>11.900000</td>\n",
       "    </tr>\n",
       "    <tr>\n",
       "      <th>3</th>\n",
       "      <td>Aston Martin V12 Vantage</td>\n",
       "      <td>9.000000</td>\n",
       "    </tr>\n",
       "    <tr>\n",
       "      <th>4</th>\n",
       "      <td>Aston Martin V8 Vantage</td>\n",
       "      <td>5.000000</td>\n",
       "    </tr>\n",
       "    <tr>\n",
       "      <th>5</th>\n",
       "      <td>Aston Martin Vanquish</td>\n",
       "      <td>8.000000</td>\n",
       "    </tr>\n",
       "    <tr>\n",
       "      <th>6</th>\n",
       "      <td>Audi A3 Cabriolet</td>\n",
       "      <td>19.186667</td>\n",
       "    </tr>\n",
       "    <tr>\n",
       "      <th>7</th>\n",
       "      <td>Audi A4</td>\n",
       "      <td>14.804000</td>\n",
       "    </tr>\n",
       "    <tr>\n",
       "      <th>8</th>\n",
       "      <td>Audi A6</td>\n",
       "      <td>15.260000</td>\n",
       "    </tr>\n",
       "    <tr>\n",
       "      <th>9</th>\n",
       "      <td>Audi A7</td>\n",
       "      <td>14.400000</td>\n",
       "    </tr>\n",
       "    <tr>\n",
       "      <th>10</th>\n",
       "      <td>Audi A8 L</td>\n",
       "      <td>12.575000</td>\n",
       "    </tr>\n",
       "    <tr>\n",
       "      <th>11</th>\n",
       "      <td>Audi Q3</td>\n",
       "      <td>16.260000</td>\n",
       "    </tr>\n",
       "    <tr>\n",
       "      <th>12</th>\n",
       "      <td>Audi Q5</td>\n",
       "      <td>13.063333</td>\n",
       "    </tr>\n",
       "    <tr>\n",
       "      <th>13</th>\n",
       "      <td>Audi Q7</td>\n",
       "      <td>12.466667</td>\n",
       "    </tr>\n",
       "    <tr>\n",
       "      <th>14</th>\n",
       "      <td>Audi R8</td>\n",
       "      <td>9.515000</td>\n",
       "    </tr>\n",
       "    <tr>\n",
       "      <th>15</th>\n",
       "      <td>Audi RS5</td>\n",
       "      <td>9.000000</td>\n",
       "    </tr>\n",
       "    <tr>\n",
       "      <th>16</th>\n",
       "      <td>Audi RS6</td>\n",
       "      <td>10.410000</td>\n",
       "    </tr>\n",
       "    <tr>\n",
       "      <th>17</th>\n",
       "      <td>Audi RS7</td>\n",
       "      <td>13.300000</td>\n",
       "    </tr>\n",
       "    <tr>\n",
       "      <th>18</th>\n",
       "      <td>Audi S6</td>\n",
       "      <td>10.300000</td>\n",
       "    </tr>\n",
       "    <tr>\n",
       "      <th>19</th>\n",
       "      <td>Audi TT</td>\n",
       "      <td>8.300000</td>\n",
       "    </tr>\n",
       "    <tr>\n",
       "      <th>20</th>\n",
       "      <td>BMW 1 Series</td>\n",
       "      <td>20.580000</td>\n",
       "    </tr>\n",
       "    <tr>\n",
       "      <th>21</th>\n",
       "      <td>BMW 3 Series</td>\n",
       "      <td>17.857500</td>\n",
       "    </tr>\n",
       "    <tr>\n",
       "      <th>22</th>\n",
       "      <td>BMW 3 Series GT</td>\n",
       "      <td>19.590000</td>\n",
       "    </tr>\n",
       "    <tr>\n",
       "      <th>23</th>\n",
       "      <td>BMW 5 Series</td>\n",
       "      <td>13.982500</td>\n",
       "    </tr>\n",
       "    <tr>\n",
       "      <th>24</th>\n",
       "      <td>BMW 5 Series GT</td>\n",
       "      <td>NaN</td>\n",
       "    </tr>\n",
       "    <tr>\n",
       "      <th>25</th>\n",
       "      <td>BMW 6 Series</td>\n",
       "      <td>17.540000</td>\n",
       "    </tr>\n",
       "    <tr>\n",
       "      <th>26</th>\n",
       "      <td>BMW 7 Series</td>\n",
       "      <td>11.962500</td>\n",
       "    </tr>\n",
       "    <tr>\n",
       "      <th>27</th>\n",
       "      <td>BMW M3</td>\n",
       "      <td>10.750000</td>\n",
       "    </tr>\n",
       "    <tr>\n",
       "      <th>28</th>\n",
       "      <td>BMW M5</td>\n",
       "      <td>13.250000</td>\n",
       "    </tr>\n",
       "    <tr>\n",
       "      <th>29</th>\n",
       "      <td>BMW M6 Gran Coupe</td>\n",
       "      <td>10.100000</td>\n",
       "    </tr>\n",
       "    <tr>\n",
       "      <th>...</th>\n",
       "      <td>...</td>\n",
       "      <td>...</td>\n",
       "    </tr>\n",
       "    <tr>\n",
       "      <th>173</th>\n",
       "      <td>Tata Movus</td>\n",
       "      <td>NaN</td>\n",
       "    </tr>\n",
       "    <tr>\n",
       "      <th>174</th>\n",
       "      <td>Tata Nano</td>\n",
       "      <td>24.083333</td>\n",
       "    </tr>\n",
       "    <tr>\n",
       "      <th>175</th>\n",
       "      <td>Tata Safari DICOR</td>\n",
       "      <td>13.930000</td>\n",
       "    </tr>\n",
       "    <tr>\n",
       "      <th>176</th>\n",
       "      <td>Tata Safari Storme</td>\n",
       "      <td>13.875000</td>\n",
       "    </tr>\n",
       "    <tr>\n",
       "      <th>177</th>\n",
       "      <td>Tata Sumo Gold</td>\n",
       "      <td>14.612500</td>\n",
       "    </tr>\n",
       "    <tr>\n",
       "      <th>178</th>\n",
       "      <td>Tata Sumo Grande</td>\n",
       "      <td>13.550000</td>\n",
       "    </tr>\n",
       "    <tr>\n",
       "      <th>179</th>\n",
       "      <td>Tata Venture</td>\n",
       "      <td>15.420000</td>\n",
       "    </tr>\n",
       "    <tr>\n",
       "      <th>180</th>\n",
       "      <td>Tata Winger</td>\n",
       "      <td>NaN</td>\n",
       "    </tr>\n",
       "    <tr>\n",
       "      <th>181</th>\n",
       "      <td>Tata Xenon</td>\n",
       "      <td>12.745000</td>\n",
       "    </tr>\n",
       "    <tr>\n",
       "      <th>182</th>\n",
       "      <td>Tata Zest</td>\n",
       "      <td>20.600000</td>\n",
       "    </tr>\n",
       "    <tr>\n",
       "      <th>183</th>\n",
       "      <td>Toyota Corolla Altis 2014</td>\n",
       "      <td>21.322500</td>\n",
       "    </tr>\n",
       "    <tr>\n",
       "      <th>184</th>\n",
       "      <td>Toyota Etios</td>\n",
       "      <td>20.185000</td>\n",
       "    </tr>\n",
       "    <tr>\n",
       "      <th>185</th>\n",
       "      <td>Toyota Etios Cross</td>\n",
       "      <td>13.300000</td>\n",
       "    </tr>\n",
       "    <tr>\n",
       "      <th>186</th>\n",
       "      <td>Toyota Etios Liva</td>\n",
       "      <td>NaN</td>\n",
       "    </tr>\n",
       "    <tr>\n",
       "      <th>187</th>\n",
       "      <td>Toyota Etios Xclusive</td>\n",
       "      <td>16.780000</td>\n",
       "    </tr>\n",
       "    <tr>\n",
       "      <th>188</th>\n",
       "      <td>Toyota Fortuner</td>\n",
       "      <td>12.550000</td>\n",
       "    </tr>\n",
       "    <tr>\n",
       "      <th>189</th>\n",
       "      <td>Volkswagen Cross Polo</td>\n",
       "      <td>19.285000</td>\n",
       "    </tr>\n",
       "    <tr>\n",
       "      <th>190</th>\n",
       "      <td>Volkswagen New JETTA</td>\n",
       "      <td>NaN</td>\n",
       "    </tr>\n",
       "    <tr>\n",
       "      <th>191</th>\n",
       "      <td>Volkswagen New Phaeton</td>\n",
       "      <td>12.800000</td>\n",
       "    </tr>\n",
       "    <tr>\n",
       "      <th>192</th>\n",
       "      <td>Volkswagen Passat</td>\n",
       "      <td>17.286667</td>\n",
       "    </tr>\n",
       "    <tr>\n",
       "      <th>193</th>\n",
       "      <td>Volkswagen Polo</td>\n",
       "      <td>18.305000</td>\n",
       "    </tr>\n",
       "    <tr>\n",
       "      <th>194</th>\n",
       "      <td>Volkswagen Polo GT</td>\n",
       "      <td>18.450000</td>\n",
       "    </tr>\n",
       "    <tr>\n",
       "      <th>195</th>\n",
       "      <td>Volkswagen Taigun</td>\n",
       "      <td>NaN</td>\n",
       "    </tr>\n",
       "    <tr>\n",
       "      <th>196</th>\n",
       "      <td>Volkswagen Up</td>\n",
       "      <td>21.000000</td>\n",
       "    </tr>\n",
       "    <tr>\n",
       "      <th>197</th>\n",
       "      <td>Volkswagen Vento</td>\n",
       "      <td>18.957000</td>\n",
       "    </tr>\n",
       "    <tr>\n",
       "      <th>198</th>\n",
       "      <td>Volvo S60</td>\n",
       "      <td>19.133333</td>\n",
       "    </tr>\n",
       "    <tr>\n",
       "      <th>199</th>\n",
       "      <td>Volvo S80</td>\n",
       "      <td>16.660000</td>\n",
       "    </tr>\n",
       "    <tr>\n",
       "      <th>200</th>\n",
       "      <td>Volvo V40</td>\n",
       "      <td>27.800000</td>\n",
       "    </tr>\n",
       "    <tr>\n",
       "      <th>201</th>\n",
       "      <td>Volvo V40 Cross Country</td>\n",
       "      <td>16.400000</td>\n",
       "    </tr>\n",
       "    <tr>\n",
       "      <th>202</th>\n",
       "      <td>Volvo XC90</td>\n",
       "      <td>11.100000</td>\n",
       "    </tr>\n",
       "  </tbody>\n",
       "</table>\n",
       "<p>203 rows × 2 columns</p>\n",
       "</div>"
      ],
      "text/plain": [
       "                          Make    Mileage\n",
       "0          Ashok Leyland Stile  20.700000\n",
       "1          Aston Martin Rapide   7.000000\n",
       "2        Aston Martin Rapide S  11.900000\n",
       "3     Aston Martin V12 Vantage   9.000000\n",
       "4      Aston Martin V8 Vantage   5.000000\n",
       "5        Aston Martin Vanquish   8.000000\n",
       "6            Audi A3 Cabriolet  19.186667\n",
       "7                      Audi A4  14.804000\n",
       "8                      Audi A6  15.260000\n",
       "9                      Audi A7  14.400000\n",
       "10                   Audi A8 L  12.575000\n",
       "11                     Audi Q3  16.260000\n",
       "12                     Audi Q5  13.063333\n",
       "13                     Audi Q7  12.466667\n",
       "14                     Audi R8   9.515000\n",
       "15                    Audi RS5   9.000000\n",
       "16                    Audi RS6  10.410000\n",
       "17                    Audi RS7  13.300000\n",
       "18                     Audi S6  10.300000\n",
       "19                     Audi TT   8.300000\n",
       "20                BMW 1 Series  20.580000\n",
       "21                BMW 3 Series  17.857500\n",
       "22             BMW 3 Series GT  19.590000\n",
       "23                BMW 5 Series  13.982500\n",
       "24             BMW 5 Series GT        NaN\n",
       "25                BMW 6 Series  17.540000\n",
       "26                BMW 7 Series  11.962500\n",
       "27                      BMW M3  10.750000\n",
       "28                      BMW M5  13.250000\n",
       "29           BMW M6 Gran Coupe  10.100000\n",
       "..                         ...        ...\n",
       "173                 Tata Movus        NaN\n",
       "174                  Tata Nano  24.083333\n",
       "175          Tata Safari DICOR  13.930000\n",
       "176         Tata Safari Storme  13.875000\n",
       "177             Tata Sumo Gold  14.612500\n",
       "178           Tata Sumo Grande  13.550000\n",
       "179               Tata Venture  15.420000\n",
       "180                Tata Winger        NaN\n",
       "181                 Tata Xenon  12.745000\n",
       "182                  Tata Zest  20.600000\n",
       "183  Toyota Corolla Altis 2014  21.322500\n",
       "184               Toyota Etios  20.185000\n",
       "185         Toyota Etios Cross  13.300000\n",
       "186          Toyota Etios Liva        NaN\n",
       "187      Toyota Etios Xclusive  16.780000\n",
       "188            Toyota Fortuner  12.550000\n",
       "189      Volkswagen Cross Polo  19.285000\n",
       "190       Volkswagen New JETTA        NaN\n",
       "191     Volkswagen New Phaeton  12.800000\n",
       "192          Volkswagen Passat  17.286667\n",
       "193            Volkswagen Polo  18.305000\n",
       "194         Volkswagen Polo GT  18.450000\n",
       "195          Volkswagen Taigun        NaN\n",
       "196              Volkswagen Up  21.000000\n",
       "197           Volkswagen Vento  18.957000\n",
       "198                  Volvo S60  19.133333\n",
       "199                  Volvo S80  16.660000\n",
       "200                  Volvo V40  27.800000\n",
       "201    Volvo V40 Cross Country  16.400000\n",
       "202                 Volvo XC90  11.100000\n",
       "\n",
       "[203 rows x 2 columns]"
      ]
     },
     "execution_count": 10,
     "metadata": {},
     "output_type": "execute_result"
    }
   ],
   "source": [
    "#Find mean of price\n",
    "cars.Price.mean()\n",
    "cars.Mileage.median()\n",
    "#cars.groupby('Make') : Finish the code\n",
    "cars.groupby('Make').Mileage.mean().reset_index()"
   ]
  },
  {
   "cell_type": "code",
   "execution_count": 9,
   "metadata": {},
   "outputs": [
    {
     "data": {
      "text/plain": [
       "Sedan          294\n",
       "Hatchback      222\n",
       "SUV            186\n",
       "MPV             47\n",
       "MUV             40\n",
       "Coupe           33\n",
       "Convertible     11\n",
       "Name: Type, dtype: int64"
      ]
     },
     "execution_count": 9,
     "metadata": {},
     "output_type": "execute_result"
    }
   ],
   "source": [
    "cars.Type.value_counts()"
   ]
  },
  {
   "cell_type": "code",
   "execution_count": null,
   "metadata": {},
   "outputs": [],
   "source": []
  },
  {
   "cell_type": "markdown",
   "metadata": {},
   "source": [
    "Go over \n",
    "https://pandas.pydata.org/pandas-docs/version/0.22/10min.html\n",
    "\n",
    "Exercise\n",
    "\n",
    "Make a new column indicating petrol or diesel. \n",
    "Find the average mileage for every Type-GearType combination?\n"
   ]
  },
  {
   "cell_type": "markdown",
   "metadata": {},
   "source": [
    "2) Apply the above data analysis to student data.\n",
    "\n",
    "\n",
    "Explore and answer the question. Is there a correlation between ...\n"
   ]
  }
 ],
 "metadata": {
  "celltoolbar": "Raw Cell Format",
  "kernelspec": {
   "display_name": "Python 3",
   "language": "python",
   "name": "python3"
  },
  "language_info": {
   "codemirror_mode": {
    "name": "ipython",
    "version": 3
   },
   "file_extension": ".py",
   "mimetype": "text/x-python",
   "name": "python",
   "nbconvert_exporter": "python",
   "pygments_lexer": "ipython3",
   "version": "3.7.3"
  }
 },
 "nbformat": 4,
 "nbformat_minor": 2
}
