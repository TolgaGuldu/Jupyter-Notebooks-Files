{
 "cells": [
  {
   "cell_type": "markdown",
   "metadata": {},
   "source": [
    "# Here I show some example questions for the exam.\n",
    "\n",
    "- I do not guarantee that they will be included in the exam. \n",
    "- Also exam may include questions which are not shown below! \n",
    "- This list is prepared to show you the style of the questions you can expect in the exam. \n",
    "\n",
    "- No, I do not have solutions for the examples. Please use LECTURE CODES and HW CODES, and reference books of the lectures. \n",
    "\n",
    "- **DO NOT COPY CODE FROM INTERNET, FROM YOUR FRIENDS PAST HWS, OR SOLUTIONS**\n",
    "- **MAKE SURE YOU HAVE DOWNLOADED THE LIBRARY DOCUMENTS BEFORE THE EXAM**"
   ]
  },
  {
   "cell_type": "markdown",
   "metadata": {},
   "source": [
    "## q1\n",
    "\n",
    "\n",
    "Using no python libraries. \n",
    "\n",
    " a) Define an array of n elements. \n",
    " \n",
    "Using python syntax calculate \n",
    "\n",
    " b) sum of the elements\n",
    " \n",
    " c) mean of the elements\n",
    " \n",
    " d) std dev of the elements\n",
    "   \n",
    "\n"
   ]
  },
  {
   "cell_type": "code",
   "execution_count": 29,
   "metadata": {},
   "outputs": [
    {
     "data": {
      "text/plain": [
       "[0, 1, 2, 3, 4, 5, 6, 7, 8, 9]"
      ]
     },
     "execution_count": 29,
     "metadata": {},
     "output_type": "execute_result"
    }
   ],
   "source": [
    "#a\n",
    "a = list(range(10))\n",
    "a"
   ]
  },
  {
   "cell_type": "code",
   "execution_count": 31,
   "metadata": {},
   "outputs": [
    {
     "data": {
      "text/plain": [
       "45"
      ]
     },
     "execution_count": 31,
     "metadata": {},
     "output_type": "execute_result"
    }
   ],
   "source": [
    "#b\n",
    "sum(a)"
   ]
  },
  {
   "cell_type": "code",
   "execution_count": 41,
   "metadata": {},
   "outputs": [
    {
     "name": "stdout",
     "output_type": "stream",
     "text": [
      "mean: 4.5\n"
     ]
    }
   ],
   "source": [
    "#c\n",
    "def mean(data):\n",
    "    \"\"\"Return the sample arithmetic mean of data.\"\"\"\n",
    "    n = len(data)\n",
    "    if n < 1:\n",
    "        raise ValueError('mean requires at least one data point')\n",
    "    return sum(data)/n # in Python 2 use sum(data)/float(n)\n",
    "print(\"mean:\", mean(a))"
   ]
  },
  {
   "cell_type": "code",
   "execution_count": 42,
   "metadata": {},
   "outputs": [
    {
     "name": "stdout",
     "output_type": "stream",
     "text": [
      "std dev :  2.8722813232690143\n"
     ]
    }
   ],
   "source": [
    "#d\n",
    "def _ss(data):\n",
    "    \"\"\"Return sum of square deviations of sequence data.\"\"\"\n",
    "    c = mean(data)\n",
    "    ss = sum((x-c)**2 for x in data)\n",
    "    return ss\n",
    "\n",
    "def stddev(data, ddof=0):\n",
    "    \"\"\"Calculates the population standard deviation\n",
    "    by default; specify ddof=1 to compute the sample\n",
    "    standard deviation.\"\"\"\n",
    "    n = len(data)\n",
    "    if n < 2:\n",
    "        raise ValueError('variance requires at least two data points')\n",
    "    ss = _ss(data)\n",
    "    pvar = ss/(n-ddof)\n",
    "    return pvar**0.5\n",
    "\n",
    "print(\"std dev : \", stddev(a))"
   ]
  },
  {
   "cell_type": "markdown",
   "metadata": {},
   "source": [
    "## q2\n",
    "\n",
    "Using only numpy lib, matplotlib  and python syntax\n",
    "\n",
    "a) Create an array of 100 random elements in range -10,10\n",
    "\n",
    "b) calculate sum, mean, std, \n",
    "\n",
    "c) plot histogram"
   ]
  },
  {
   "cell_type": "code",
   "execution_count": 90,
   "metadata": {},
   "outputs": [],
   "source": [
    "import numpy as np"
   ]
  },
  {
   "cell_type": "code",
   "execution_count": 81,
   "metadata": {},
   "outputs": [
    {
     "data": {
      "text/plain": [
       "(array([ -8,   9,   2,   9,  -9,   4,   2,  -4, -10,   5,  -2,   2,  -8,\n",
       "          3,  -4,  -4, -10,   8,  -7,   2,   2,   5,  -1, -10,   2,   6,\n",
       "         -9,  -9,   5,  -5,  -2,  -9,   1,   1,   2,   8,  -5,   9,   3,\n",
       "          6, -10,  -2, -10,   2,  -7,   3,  -6,   0,  -9,  -3,   8,  -1,\n",
       "         -5,  -9,   1,   7,  -4,  -4,   6, -10,  -3,   8,   4,  -8,   5,\n",
       "          0,  -6,   3,   6,   5,   4,  -8,   1,   9,  -6,   1,  -8,   0,\n",
       "          4,   4,   5,  -2,  -5, -10,   4,   0,   8,  -5,   6,   9,  -2,\n",
       "          0,   5,   6,   6,  -4,  -9,   1,   3,  -4]),\n",
       " array([-4.34585314,  6.59587523, -0.31090412, -4.76462531,  3.29816082,\n",
       "        -1.8068836 , -8.27201203,  3.1705573 ,  7.14404709,  3.90721546,\n",
       "        -2.18465552,  2.37747565,  3.65741755,  7.93966654,  8.50162391,\n",
       "        -9.75549761,  2.39768322,  2.40056167, -2.45284148, -8.58456018,\n",
       "         9.82710016,  0.9774626 ,  2.90965771,  6.49945132, -2.83424938,\n",
       "         3.52366969, -0.48436732,  3.77225716,  6.69179905,  1.13226056,\n",
       "        -5.11011538, -2.18810526,  6.58911856,  2.0880984 , -3.74451904,\n",
       "        -6.73234923, -7.46890881, -0.60829032, -2.56896665,  9.39617101,\n",
       "         7.11551579, -2.16320418, -6.89481152, -2.110879  , -8.09136078,\n",
       "        -2.89923547, -5.60717389,  1.52702198,  0.99689141, -2.13587782,\n",
       "         2.87114528, -1.75749648,  4.58288926, -1.78257751, -6.74705674,\n",
       "         8.72718806,  4.50115359,  5.37040803,  5.32061816, -3.34388859,\n",
       "        -9.76842385, -8.03183701,  7.28183237,  4.71892632, -3.51053248,\n",
       "         7.83083836, -0.16905005, -2.94417297, -5.45511379, -1.90203446,\n",
       "         0.95220495,  5.68134839,  4.55599911, -4.94914315,  4.47580799,\n",
       "         7.91748985, -6.35223893,  6.85831356,  8.94463816,  3.67954027,\n",
       "         8.71822758,  8.8981483 ,  3.13750464,  2.65335955, -6.78861944,\n",
       "        -3.50650703,  8.32691326, -8.37676315, -6.35697469, -4.36551998,\n",
       "        -4.9614957 ,  7.39644327,  6.458247  ,  6.21486029,  7.12404419,\n",
       "         9.17850239,  1.97647763, -0.72911441,  1.87109365, -9.70479332]))"
      ]
     },
     "execution_count": 81,
     "metadata": {},
     "output_type": "execute_result"
    }
   ],
   "source": [
    "#a\n",
    "#x = np.random.random_sample(50)*-10\n",
    "#y = np.random.random_sample(50)*10\n",
    "#z = (x,y)\n",
    "#z\n",
    "a = np.random.randint(-10,10,100) #integer\n",
    "b = np.random.uniform(-10,10,100) #float\n",
    "a,b"
   ]
  },
  {
   "cell_type": "code",
   "execution_count": 85,
   "metadata": {},
   "outputs": [
    {
     "data": {
      "text/plain": [
       "(-46, -0.46, 5.855629769717344)"
      ]
     },
     "execution_count": 85,
     "metadata": {},
     "output_type": "execute_result"
    }
   ],
   "source": [
    "#b\n",
    "sum(a),a.mean(),a.std()\n",
    "#sum(b),b.mean(),b.std()"
   ]
  },
  {
   "cell_type": "code",
   "execution_count": 89,
   "metadata": {},
   "outputs": [
    {
     "data": {
      "text/plain": [
       "(array([14.,  7.,  8.,  9.,  7., 11., 13., 13.,  8., 10.]),\n",
       " array([-10. ,  -8.1,  -6.2,  -4.3,  -2.4,  -0.5,   1.4,   3.3,   5.2,\n",
       "          7.1,   9. ]),\n",
       " <a list of 10 Patch objects>)"
      ]
     },
     "execution_count": 89,
     "metadata": {},
     "output_type": "execute_result"
    },
    {
     "data": {
      "image/png": "[encoded data removed]",
      "text/plain": [
       "<Figure size 432x288 with 1 Axes>"
      ]
     },
     "metadata": {
      "needs_background": "light"
     },
     "output_type": "display_data"
    }
   ],
   "source": [
    "#c\n",
    "from matplotlib import pyplot as plt\n",
    "plt.hist(a)\n",
    "#plt.hist(b)"
   ]
  },
  {
   "cell_type": "markdown",
   "metadata": {},
   "source": [
    "## q3\n",
    "\n",
    "Using only python syntax, numpy or pandas, matplotlib lib\n",
    "\n",
    "a) Read the file data.txt\n",
    "\n",
    "b) calculate sum, mean, std of columns\n",
    "\n",
    "c) plot histogram of columns\n",
    "\n",
    "d) plot data points on 2d plot. "
   ]
  },
  {
   "cell_type": "code",
   "execution_count": null,
   "metadata": {},
   "outputs": [],
   "source": [
    "#a\n",
    "a = open(\"demofile.txt\", \"r\")\n",
    "print(a.read())\n",
    "a.close()"
   ]
  },
  {
   "cell_type": "code",
   "execution_count": null,
   "metadata": {},
   "outputs": [],
   "source": [
    "#b\n",
    "a.sum(),a.mean(),a.std()"
   ]
  },
  {
   "cell_type": "code",
   "execution_count": 4,
   "metadata": {},
   "outputs": [],
   "source": [
    "#c\n",
    "#HW2"
   ]
  },
  {
   "cell_type": "markdown",
   "metadata": {},
   "source": [
    "### q4\n",
    "\n",
    "Using only python syntax, numpy or pandas,matplotlib lib\n",
    "\n",
    "a) Read image.png into a numpy array\n",
    "\n",
    "b) calculate sum, mean, std, max, min of  red channel\n",
    "\n",
    "c) plot histogram blue channel\n",
    "\n",
    "d) plot scatter plot of red vs greens.\n",
    "\n",
    "e) create and display a binary mask where object is foreground and the rest is background"
   ]
  },
  {
   "cell_type": "code",
   "execution_count": null,
   "metadata": {},
   "outputs": [],
   "source": []
  },
  {
   "cell_type": "markdown",
   "metadata": {},
   "source": [
    "## q5\n",
    "\n",
    "Using only python syntax, numpy or pandas , stats, matplotlib libs\n",
    "\n",
    "a) Read data.txt which shows A and B\n",
    "\n",
    "b) Prove that B is statistically higher than B using hypothesis testing"
   ]
  },
  {
   "cell_type": "markdown",
   "metadata": {},
   "source": [
    "## q6 \n",
    "Using only python syntax, numpy and  code below\n",
    "\n",
    "a) find the minimum x vector (x0,x1,...) value which minimizes the function f(x) given below:\n"
   ]
  },
  {
   "cell_type": "markdown",
   "metadata": {},
   "source": [
    "## q7\n",
    "Using only python syntax, numpy, sklearn libs\n",
    "\n",
    "x and y given  \n",
    "\n",
    "using sklearn linear models fit a linear regression model to this data. \n",
    "\n",
    "Plot the model \n",
    "\n"
   ]
  },
  {
   "cell_type": "markdown",
   "metadata": {},
   "source": [
    "## q8\n",
    "\n",
    "Using only python syntax, numpy, sklearn libs\n",
    "\n",
    "For sklearn dataset X, \n",
    "\n",
    "a) Compare KNN and SVC classification performance using parameters \n",
    "K = [1,5,11], C=[1,10,100], SVC kernel can be linear or rbf\n",
    "\n",
    "b) Write down which one performed best. \n",
    "\n"
   ]
  },
  {
   "cell_type": "markdown",
   "metadata": {},
   "source": [
    "## q9\n",
    "\n",
    "Using only python syntax, numpy, sklearn libs\n",
    "\n",
    "For sklearn dataset X, classifier KNN \n",
    "\n",
    "a) Plot KNN prediction-recall curves for different K = [1,5,11], C=[1,10,100]\n",
    "\n",
    "b) Write down which one performed best. "
   ]
  },
  {
   "cell_type": "markdown",
   "metadata": {},
   "source": [
    "## q10\n",
    "\n",
    "Using only python syntax, numpy, sklearn libs\n",
    "\n",
    "For sklearn dataset X,  use classifier B\n",
    "\n",
    "a) Plot prediction-recall curves \n",
    "\n",
    "b) Show confusion matrix for test\n",
    "\n",
    "b) Write down which class was classified best, which one classified purely?"
   ]
  },
  {
   "cell_type": "markdown",
   "metadata": {},
   "source": [
    "## q11\n",
    "\n",
    "Using only python syntax, numpy, sklearn libs\n",
    "\n",
    "For sklearn dataset X, classifier B (e.g. SVC)\n",
    "\n",
    "a) Plot prediction-recall curves for different  C=[1,10,100], linear and rbf kernels\n",
    "\n",
    "b) Write down which one performed best. "
   ]
  },
  {
   "cell_type": "code",
   "execution_count": null,
   "metadata": {},
   "outputs": [],
   "source": []
  }
 ],
 "metadata": {
  "kernelspec": {
   "display_name": "Python 3",
   "language": "python",
   "name": "python3"
  },
  "language_info": {
   "codemirror_mode": {
    "name": "ipython",
    "version": 3
   },
   "file_extension": ".py",
   "mimetype": "text/x-python",
   "name": "python",
   "nbconvert_exporter": "python",
   "pygments_lexer": "ipython3",
   "version": "3.7.3"
  }
 },
 "nbformat": 4,
 "nbformat_minor": 2
}
