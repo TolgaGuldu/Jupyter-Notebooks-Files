{
 "cells": [
  {
   "cell_type": "markdown",
   "metadata": {},
   "source": [
    "# CSE 485 Datamining Exam Questions\n",
    "\n",
    "                                                                                                19 April 2019\n",
    "\n",
    "\n",
    "- **TIME: 150 Minutes** \n",
    "- **DO NOT COPY CODE FROM INTERNET, FROM YOUR FRIENDS PAST HWS, OR SOLUTIONS**\n",
    "- **MAKE SURE YOU HAVE DOWNLOADED THE LIBRARY DOCUMENTS BEFORE THE EXAM**\n",
    "\n",
    "prepared by F. B. Tek."
   ]
  },
  {
   "cell_type": "code",
   "execution_count": 3,
   "metadata": {},
   "outputs": [],
   "source": [
    "import pandas as pd\n",
    "import numpy as np\n",
    "import sklearn as sk\n",
    "import scipy.stats as stats\n",
    "import matplotlib.pyplot as plt\n",
    "%matplotlib inline"
   ]
  },
  {
   "cell_type": "markdown",
   "metadata": {},
   "source": [
    "## Q1 (10pts)\n",
    "\n",
    "Using only numpy lib and python syntax\n",
    "\n",
    "a) Create an array of 100 random double elements in range 0,100\n",
    "\n",
    "b) calculate sum, mean, std, min, max, median\n"
   ]
  },
  {
   "cell_type": "code",
   "execution_count": 10,
   "metadata": {},
   "outputs": [
    {
     "data": {
      "text/plain": [
       "array([15, 26, 27,  9, 21, 18,  4, 76, 79, 39,  1, 38, 12, 22, 90, 26, 38,\n",
       "       72,  1, 13, 60,  9, 23, 46, 32,  6, 96, 24, 32, 94, 38,  6, 73, 25,\n",
       "       46, 12, 84, 93, 48, 90, 92, 39, 20, 17, 95, 88, 28, 77, 89, 41, 68,\n",
       "       34, 10, 85, 68, 97, 78, 64, 69, 60, 82, 23, 73, 12, 15, 81, 83, 80,\n",
       "       84, 45, 26, 92, 13, 67, 11, 64, 16, 49, 27, 70, 15, 94, 92, 36, 49,\n",
       "       62, 41, 16, 56, 71, 25, 27, 70, 92, 45, 36, 82, 91, 62, 26])"
      ]
     },
     "execution_count": 10,
     "metadata": {},
     "output_type": "execute_result"
    }
   ],
   "source": [
    "# a) \n",
    "arr = np.random.randint(low =-0,high = 100 ,size=100)\n",
    "arr"
   ]
  },
  {
   "cell_type": "code",
   "execution_count": 3,
   "metadata": {},
   "outputs": [
    {
     "data": {
      "text/plain": [
       "(4933, 28.27792602013097, 1, 99, 52.0)"
      ]
     },
     "execution_count": 3,
     "metadata": {},
     "output_type": "execute_result"
    }
   ],
   "source": [
    "# b) \n",
    "sum(arr), np.std(arr), np.min(arr), np.max(arr), np.median(arr)"
   ]
  },
  {
   "cell_type": "markdown",
   "metadata": {},
   "source": [
    "## Q2 (20pts)\n",
    "\n",
    "Using only python syntax, numpy or **pandas**, matplotlib lib\n",
    "\n",
    "a) Load the data in master.csv\n",
    "\"Data shows suicide data of individuals in different countries on different years. \"\n",
    "Columns are:\n",
    "\n",
    "\"country, year,sex,\tage,\tsuicides_no,\tpopulation,\tsuicides/100k, pop,\tcountry-year, HDI for year\t gdp_for_year ($) \tgdp_per_capita ($)\tgeneration\"\n",
    "\n",
    "*population is the population of city where the suicide\n",
    "\n",
    "b) describe the data with column means, std, min, max, median (50%quartile)\n",
    "\n",
    "c) print the name of the country of the maximum suicides/100k population\n",
    "\n",
    "d) plot histograms of columns. How does global suicide numbers change over years? \n",
    "\n",
    "e) Is there a correlation between suicides/100k pop and GDP_PER_CAPITA or HDI for year? Is it positive or negative? \n"
   ]
  },
  {
   "cell_type": "code",
   "execution_count": 12,
   "metadata": {},
   "outputs": [],
   "source": [
    "# a) \n",
    "master = pd.read_csv(\"master.csv\", encoding = \"ISO-8859-1\")\n",
    "\n"
   ]
  },
  {
   "cell_type": "code",
   "execution_count": 5,
   "metadata": {},
   "outputs": [
    {
     "data": {
      "text/html": [
       "<div>\n",
       "<style scoped>\n",
       "    .dataframe tbody tr th:only-of-type {\n",
       "        vertical-align: middle;\n",
       "    }\n",
       "\n",
       "    .dataframe tbody tr th {\n",
       "        vertical-align: top;\n",
       "    }\n",
       "\n",
       "    .dataframe thead th {\n",
       "        text-align: right;\n",
       "    }\n",
       "</style>\n",
       "<table border=\"1\" class=\"dataframe\">\n",
       "  <thead>\n",
       "    <tr style=\"text-align: right;\">\n",
       "      <th></th>\n",
       "      <th>year</th>\n",
       "      <th>suicides_no</th>\n",
       "      <th>population</th>\n",
       "      <th>suicides/100k pop</th>\n",
       "      <th>HDI for year</th>\n",
       "      <th>gdp_per_capita ($)</th>\n",
       "    </tr>\n",
       "  </thead>\n",
       "  <tbody>\n",
       "    <tr>\n",
       "      <th>count</th>\n",
       "      <td>27820.000000</td>\n",
       "      <td>27820.000000</td>\n",
       "      <td>2.782000e+04</td>\n",
       "      <td>27820.000000</td>\n",
       "      <td>8364.000000</td>\n",
       "      <td>27820.000000</td>\n",
       "    </tr>\n",
       "    <tr>\n",
       "      <th>mean</th>\n",
       "      <td>2001.258375</td>\n",
       "      <td>242.574407</td>\n",
       "      <td>1.844794e+06</td>\n",
       "      <td>12.816097</td>\n",
       "      <td>0.776601</td>\n",
       "      <td>16866.464414</td>\n",
       "    </tr>\n",
       "    <tr>\n",
       "      <th>std</th>\n",
       "      <td>8.469055</td>\n",
       "      <td>902.047917</td>\n",
       "      <td>3.911779e+06</td>\n",
       "      <td>18.961511</td>\n",
       "      <td>0.093367</td>\n",
       "      <td>18887.576472</td>\n",
       "    </tr>\n",
       "    <tr>\n",
       "      <th>min</th>\n",
       "      <td>1985.000000</td>\n",
       "      <td>0.000000</td>\n",
       "      <td>2.780000e+02</td>\n",
       "      <td>0.000000</td>\n",
       "      <td>0.483000</td>\n",
       "      <td>251.000000</td>\n",
       "    </tr>\n",
       "    <tr>\n",
       "      <th>25%</th>\n",
       "      <td>1995.000000</td>\n",
       "      <td>3.000000</td>\n",
       "      <td>9.749850e+04</td>\n",
       "      <td>0.920000</td>\n",
       "      <td>0.713000</td>\n",
       "      <td>3447.000000</td>\n",
       "    </tr>\n",
       "    <tr>\n",
       "      <th>50%</th>\n",
       "      <td>2002.000000</td>\n",
       "      <td>25.000000</td>\n",
       "      <td>4.301500e+05</td>\n",
       "      <td>5.990000</td>\n",
       "      <td>0.779000</td>\n",
       "      <td>9372.000000</td>\n",
       "    </tr>\n",
       "    <tr>\n",
       "      <th>75%</th>\n",
       "      <td>2008.000000</td>\n",
       "      <td>131.000000</td>\n",
       "      <td>1.486143e+06</td>\n",
       "      <td>16.620000</td>\n",
       "      <td>0.855000</td>\n",
       "      <td>24874.000000</td>\n",
       "    </tr>\n",
       "    <tr>\n",
       "      <th>max</th>\n",
       "      <td>2016.000000</td>\n",
       "      <td>22338.000000</td>\n",
       "      <td>4.380521e+07</td>\n",
       "      <td>224.970000</td>\n",
       "      <td>0.944000</td>\n",
       "      <td>126352.000000</td>\n",
       "    </tr>\n",
       "  </tbody>\n",
       "</table>\n",
       "</div>"
      ],
      "text/plain": [
       "               year   suicides_no    population  suicides/100k pop  \\\n",
       "count  27820.000000  27820.000000  2.782000e+04       27820.000000   \n",
       "mean    2001.258375    242.574407  1.844794e+06          12.816097   \n",
       "std        8.469055    902.047917  3.911779e+06          18.961511   \n",
       "min     1985.000000      0.000000  2.780000e+02           0.000000   \n",
       "25%     1995.000000      3.000000  9.749850e+04           0.920000   \n",
       "50%     2002.000000     25.000000  4.301500e+05           5.990000   \n",
       "75%     2008.000000    131.000000  1.486143e+06          16.620000   \n",
       "max     2016.000000  22338.000000  4.380521e+07         224.970000   \n",
       "\n",
       "       HDI for year  gdp_per_capita ($)  \n",
       "count   8364.000000        27820.000000  \n",
       "mean       0.776601        16866.464414  \n",
       "std        0.093367        18887.576472  \n",
       "min        0.483000          251.000000  \n",
       "25%        0.713000         3447.000000  \n",
       "50%        0.779000         9372.000000  \n",
       "75%        0.855000        24874.000000  \n",
       "max        0.944000       126352.000000  "
      ]
     },
     "execution_count": 5,
     "metadata": {},
     "output_type": "execute_result"
    }
   ],
   "source": [
    "# b) \n",
    "master.describe()"
   ]
  },
  {
   "cell_type": "code",
   "execution_count": 6,
   "metadata": {},
   "outputs": [
    {
     "name": "stdout",
     "output_type": "stream",
     "text": [
      "                        year     sex          age  population  \\\n",
      "country    suicides_no                                          \n",
      "Albania    0            2010    male    75+ years      394286   \n",
      "           1            2008    male    75+ years      374900   \n",
      "           2            2010    male    75+ years      388400   \n",
      "           3            2007    male    75+ years      286705   \n",
      "           4            2007    male    75+ years      381500   \n",
      "           5            2008    male    75+ years      373600   \n",
      "           6            2010    male    75+ years      376500   \n",
      "           7            2010    male  55-74 years      370100   \n",
      "           8            2007    male    75+ years      356400   \n",
      "           9            2010    male  55-74 years      372100   \n",
      "           10           2010    male  55-74 years      350300   \n",
      "           11           2008    male  55-74 years      286702   \n",
      "           12           2010    male  55-74 years      394593   \n",
      "           13           2007    male  55-74 years      381760   \n",
      "           14           2007    male  55-74 years      391811   \n",
      "           15           2003    male  35-54 years      375113   \n",
      "           16           2004    male  55-74 years      308000   \n",
      "           17           2004    male  35-54 years      391436   \n",
      "           18           1993    male  25-34 years      283600   \n",
      "           19           2008    male  35-54 years      393832   \n",
      "           20           2010    male  55-74 years      371611   \n",
      "           21           2008    male  55-74 years      312900   \n",
      "           22           2001    male  25-34 years      206484   \n",
      "           23           2002    male  25-34 years      206286   \n",
      "           24           1999    male  15-24 years      250600   \n",
      "           26           1998    male  25-34 years      240400   \n",
      "           27           1998    male  15-24 years      248800   \n",
      "           28           2003    male  35-54 years      386196   \n",
      "           29           2007    male  35-54 years      388200   \n",
      "           30           1997    male  35-54 years      380800   \n",
      "...                      ...     ...          ...         ...   \n",
      "Uzbekistan 323          2013  female  15-24 years     3039740   \n",
      "           325          2002    male  15-24 years     2672936   \n",
      "           328          2013    male  25-34 years     2644648   \n",
      "           332          1993    male  35-54 years     1635000   \n",
      "           333          2012  female  15-24 years     3072826   \n",
      "           334          1996    male  25-34 years     1725200   \n",
      "           343          1990    male  35-54 years     1491700   \n",
      "           347          2014    male  15-24 years     3126905   \n",
      "           350          2004    male  35-54 years     2639741   \n",
      "           353          1991    male  35-54 years     1510300   \n",
      "           355          2000    male  25-34 years     1843476   \n",
      "           361          1999    male  25-34 years     1811725   \n",
      "           362          2005    male  35-54 years     2712283   \n",
      "           363          2001    male  15-24 years     2580294   \n",
      "           371          2010    male  35-54 years     3142694   \n",
      "           374          1994    male  35-54 years     1737700   \n",
      "           377          2001    male  25-34 years     1884542   \n",
      "           385          2003    male  35-54 years     2557625   \n",
      "           398          2002    male  35-54 years     2474921   \n",
      "           404          2012    male  35-54 years     3273281   \n",
      "           415          1997    male  35-54 years     1958400   \n",
      "           423          1995    male  35-54 years     1817200   \n",
      "           457          2011    male  35-54 years     3204569   \n",
      "           460          1998    male  35-54 years     2062500   \n",
      "           481          2013    male  35-54 years     3346411   \n",
      "           491          1999    male  35-54 years     2177216   \n",
      "           496          1996    male  35-54 years     1864100   \n",
      "           513          2001    male  35-54 years     2389813   \n",
      "           519          2014    male  35-54 years     3421300   \n",
      "           528          2000    male  35-54 years     2289656   \n",
      "\n",
      "                        suicides/100k pop    country-year  HDI for year  \\\n",
      "country    suicides_no                                                    \n",
      "Albania    0                         0.00     Albania2010         0.722   \n",
      "           1                         4.59     Albania2008         0.656   \n",
      "           2                         8.89     Albania2010         0.722   \n",
      "           3                        11.81     Albania2007         0.656   \n",
      "           4                        12.90     Albania2007         0.656   \n",
      "           5                         8.42     Albania2008         0.656   \n",
      "           6                        12.22     Albania2010         0.722   \n",
      "           7                         4.24     Albania2010         0.722   \n",
      "           8                        18.88     Albania2007         0.619   \n",
      "           9                         5.22     Albania2010         0.722   \n",
      "           10                        5.64     Albania2010         0.722   \n",
      "           11                        6.42     Albania2008         0.619   \n",
      "           12                        6.66     Albania2010         0.722   \n",
      "           13                        6.56     Albania2007         0.619   \n",
      "           14                        7.56     Albania2007         0.619   \n",
      "           15                        5.70     Albania2003           NaN   \n",
      "           16                        7.94     Albania2004           NaN   \n",
      "           17                        7.33     Albania2004         0.656   \n",
      "           18                        7.40     Albania1993           NaN   \n",
      "           19                        7.84     Albania2008           NaN   \n",
      "           20                        8.27     Albania2010         0.722   \n",
      "           21                       12.15     Albania2008           NaN   \n",
      "           22                       10.65     Albania2001           NaN   \n",
      "           23                       11.15     Albania2002           NaN   \n",
      "           24                        9.58     Albania1999           NaN   \n",
      "           26                       10.82     Albania1998           NaN   \n",
      "           27                       10.85     Albania1998           NaN   \n",
      "           28                        7.25     Albania2003           NaN   \n",
      "           29                        7.66     Albania2007           NaN   \n",
      "           30                        7.88     Albania1997           NaN   \n",
      "...                                   ...             ...           ...   \n",
      "Uzbekistan 323                      10.63  Uzbekistan2013         0.672   \n",
      "           325                      12.16  Uzbekistan2002           NaN   \n",
      "           328                      13.63  Uzbekistan2013         0.672   \n",
      "           332                      20.31  Uzbekistan1993           NaN   \n",
      "           333                      10.84  Uzbekistan2012         0.668   \n",
      "           334                      19.36  Uzbekistan1996           NaN   \n",
      "           343                      22.99  Uzbekistan1990           NaN   \n",
      "           347                      11.59  Uzbekistan2014         0.675   \n",
      "           350                      14.04  Uzbekistan2004         0.594   \n",
      "           353                      23.37  Uzbekistan1991           NaN   \n",
      "           355                      19.26  Uzbekistan2000         0.594   \n",
      "           361                      19.93  Uzbekistan1999           NaN   \n",
      "           362                      13.35  Uzbekistan2005         0.625   \n",
      "           363                      14.07  Uzbekistan2001           NaN   \n",
      "           371                      11.81  Uzbekistan2010         0.655   \n",
      "           374                      21.52  Uzbekistan1994           NaN   \n",
      "           377                      20.00  Uzbekistan2001           NaN   \n",
      "           385                      15.05  Uzbekistan2003           NaN   \n",
      "           398                      16.08  Uzbekistan2002           NaN   \n",
      "           404                      13.15  Uzbekistan2012         0.668   \n",
      "           415                      21.19  Uzbekistan1997           NaN   \n",
      "           423                      23.28  Uzbekistan1995           NaN   \n",
      "           457                      14.26  Uzbekistan2011         0.661   \n",
      "           460                      22.30  Uzbekistan1998           NaN   \n",
      "           481                      14.37  Uzbekistan2013         0.672   \n",
      "           491                      22.55  Uzbekistan1999           NaN   \n",
      "           496                      26.61  Uzbekistan1996           NaN   \n",
      "           513                      21.47  Uzbekistan2001           NaN   \n",
      "           519                      15.17  Uzbekistan2014         0.675   \n",
      "           528                      23.06  Uzbekistan2000         0.594   \n",
      "\n",
      "                        gdp_for_year ($)   gdp_per_capita ($)    generation  \n",
      "country    suicides_no                                                       \n",
      "Albania    0                8,992,642,349                4387        Silent  \n",
      "           1                  709,452,584                4672        Silent  \n",
      "           2                  709,452,584                4672        Silent  \n",
      "           3                7,314,865,176                3863        Silent  \n",
      "           4                  709,452,584                3863        Silent  \n",
      "           5                  709,452,584                4672        Silent  \n",
      "           6                5,746,945,913                4359        Silent  \n",
      "           7                  709,452,584                4672        Silent  \n",
      "           8                2,424,499,009                3863        Silent  \n",
      "           9                  709,452,584                4672        Silent  \n",
      "           10               7,314,865,176                4359        Silent  \n",
      "           11               7,314,865,176                4672        Silent  \n",
      "           12                 709,452,584                4359        Silent  \n",
      "           13               5,746,945,913                3863        Silent  \n",
      "           14               5,746,945,913                3863        Silent  \n",
      "           15               5,746,945,913                2021        Silent  \n",
      "           16               7,314,865,176                2544        Silent  \n",
      "           17               7,314,865,176                2544  Generation X  \n",
      "           18               2,335,124,988                 833  Generation X  \n",
      "           19               7,314,865,176                4672    Millenials  \n",
      "           20               7,314,865,176                4672        Silent  \n",
      "           21               2,359,903,108                4672        Silent  \n",
      "           22               4,060,758,804                1451  Generation X  \n",
      "           23               4,435,078,648                1573  Generation X  \n",
      "           24               3,414,760,915                1127  Generation X  \n",
      "           26               2,707,123,772                 899  Generation X  \n",
      "           27               2,707,123,772                 899  Generation X  \n",
      "           28               5,746,945,913                2021       Boomers  \n",
      "           29               2,707,123,772                3863       Boomers  \n",
      "           30               2,359,903,108                 793       Boomers  \n",
      "...                                   ...                 ...           ...  \n",
      "Uzbekistan 323             57,690,453,461                2150    Millenials  \n",
      "           325              9,687,951,055                 428    Millenials  \n",
      "           328             57,690,453,461                2150    Millenials  \n",
      "           332             13,099,013,836                 708       Boomers  \n",
      "           333             51,821,573,338                1964    Millenials  \n",
      "           334             13,948,892,216                 703  Generation X  \n",
      "           343             13,360,607,918                 778        Silent  \n",
      "           347             63,067,077,179                2309    Millenials  \n",
      "           350             13,760,374,488                 632  Generation X  \n",
      "           353             13,677,622,222                 788       Boomers  \n",
      "           355             13,760,374,488                 632  Generation X  \n",
      "           361             17,078,465,982                 801  Generation X  \n",
      "           362             14,307,509,839                 606       Boomers  \n",
      "           363             11,401,351,420                 513    Millenials  \n",
      "           371             39,332,770,929                1533  Generation X  \n",
      "           374             12,899,156,991                 674       Boomers  \n",
      "           377             11,401,351,420                 513  Generation X  \n",
      "           385             10,128,112,401                 441       Boomers  \n",
      "           398              9,687,951,055                 428       Boomers  \n",
      "           404             51,821,573,338                1964  Generation X  \n",
      "           415             14,744,603,774                 724       Boomers  \n",
      "           423             13,350,468,917                 681       Boomers  \n",
      "           457             45,915,191,189                1767  Generation X  \n",
      "           460             14,988,971,211                 719       Boomers  \n",
      "           481             57,690,453,461                2150  Generation X  \n",
      "           491             17,078,465,982                 801       Boomers  \n",
      "           496             13,948,892,216                 703       Boomers  \n",
      "           513             11,401,351,420                 513       Boomers  \n",
      "           519             63,067,077,179                2309  Generation X  \n",
      "           528             13,760,374,488                 632       Boomers  \n",
      "\n",
      "[11466 rows x 10 columns]\n"
     ]
    }
   ],
   "source": [
    "# c) print the name of the country of the maximum suicides/100k population\n",
    "\n",
    "mast = master.groupby([master.country, master.suicides_no])\n",
    "print(mast.max())\n",
    "\n"
   ]
  },
  {
   "cell_type": "code",
   "execution_count": 14,
   "metadata": {},
   "outputs": [
    {
     "data": {
      "text/plain": [
       "array([[<matplotlib.axes._subplots.AxesSubplot object at 0x000001BBCD151A20>,\n",
       "        <matplotlib.axes._subplots.AxesSubplot object at 0x000001BBCEF7E470>],\n",
       "       [<matplotlib.axes._subplots.AxesSubplot object at 0x000001BBCEF8C828>,\n",
       "        <matplotlib.axes._subplots.AxesSubplot object at 0x000001BBCECD9DA0>],\n",
       "       [<matplotlib.axes._subplots.AxesSubplot object at 0x000001BBCED04358>,\n",
       "        <matplotlib.axes._subplots.AxesSubplot object at 0x000001BBCED288D0>]],\n",
       "      dtype=object)"
      ]
     },
     "execution_count": 14,
     "metadata": {},
     "output_type": "execute_result"
    },
    {
     "data": {
      "image/png": "[encoded data removed]",
      "text/plain": [
       "<Figure size 432x288 with 6 Axes>"
      ]
     },
     "metadata": {
      "needs_background": "light"
     },
     "output_type": "display_data"
    }
   ],
   "source": [
    "# d) plot histograms of columns. How does global suicide numbers change over years?\n",
    "master.hist()\n",
    "\n",
    "#or that one is better\n",
    "\n",
    "pd.plotting.scatter_matrix(master,figsize=(10,10))"
   ]
  },
  {
   "cell_type": "code",
   "execution_count": 140,
   "metadata": {},
   "outputs": [
    {
     "data": {
      "text/html": [
       "<div>\n",
       "<style scoped>\n",
       "    .dataframe tbody tr th:only-of-type {\n",
       "        vertical-align: middle;\n",
       "    }\n",
       "\n",
       "    .dataframe tbody tr th {\n",
       "        vertical-align: top;\n",
       "    }\n",
       "\n",
       "    .dataframe thead th {\n",
       "        text-align: right;\n",
       "    }\n",
       "</style>\n",
       "<table border=\"1\" class=\"dataframe\">\n",
       "  <thead>\n",
       "    <tr style=\"text-align: right;\">\n",
       "      <th></th>\n",
       "      <th>year</th>\n",
       "      <th>suicides_no</th>\n",
       "      <th>population</th>\n",
       "      <th>suicides/100k pop</th>\n",
       "      <th>HDI for year</th>\n",
       "      <th>gdp_per_capita ($)</th>\n",
       "    </tr>\n",
       "  </thead>\n",
       "  <tbody>\n",
       "    <tr>\n",
       "      <th>year</th>\n",
       "      <td>1.000000</td>\n",
       "      <td>-0.004546</td>\n",
       "      <td>0.008850</td>\n",
       "      <td>-0.039037</td>\n",
       "      <td>0.366786</td>\n",
       "      <td>0.339134</td>\n",
       "    </tr>\n",
       "    <tr>\n",
       "      <th>suicides_no</th>\n",
       "      <td>-0.004546</td>\n",
       "      <td>1.000000</td>\n",
       "      <td>0.616162</td>\n",
       "      <td>0.306604</td>\n",
       "      <td>0.151399</td>\n",
       "      <td>0.061330</td>\n",
       "    </tr>\n",
       "    <tr>\n",
       "      <th>population</th>\n",
       "      <td>0.008850</td>\n",
       "      <td>0.616162</td>\n",
       "      <td>1.000000</td>\n",
       "      <td>0.008285</td>\n",
       "      <td>0.102943</td>\n",
       "      <td>0.081510</td>\n",
       "    </tr>\n",
       "    <tr>\n",
       "      <th>suicides/100k pop</th>\n",
       "      <td>-0.039037</td>\n",
       "      <td>0.306604</td>\n",
       "      <td>0.008285</td>\n",
       "      <td>1.000000</td>\n",
       "      <td>0.074279</td>\n",
       "      <td>0.001785</td>\n",
       "    </tr>\n",
       "    <tr>\n",
       "      <th>HDI for year</th>\n",
       "      <td>0.366786</td>\n",
       "      <td>0.151399</td>\n",
       "      <td>0.102943</td>\n",
       "      <td>0.074279</td>\n",
       "      <td>1.000000</td>\n",
       "      <td>0.771228</td>\n",
       "    </tr>\n",
       "    <tr>\n",
       "      <th>gdp_per_capita ($)</th>\n",
       "      <td>0.339134</td>\n",
       "      <td>0.061330</td>\n",
       "      <td>0.081510</td>\n",
       "      <td>0.001785</td>\n",
       "      <td>0.771228</td>\n",
       "      <td>1.000000</td>\n",
       "    </tr>\n",
       "  </tbody>\n",
       "</table>\n",
       "</div>"
      ],
      "text/plain": [
       "                        year  suicides_no  population  suicides/100k pop  \\\n",
       "year                1.000000    -0.004546    0.008850          -0.039037   \n",
       "suicides_no        -0.004546     1.000000    0.616162           0.306604   \n",
       "population          0.008850     0.616162    1.000000           0.008285   \n",
       "suicides/100k pop  -0.039037     0.306604    0.008285           1.000000   \n",
       "HDI for year        0.366786     0.151399    0.102943           0.074279   \n",
       "gdp_per_capita ($)  0.339134     0.061330    0.081510           0.001785   \n",
       "\n",
       "                    HDI for year  gdp_per_capita ($)  \n",
       "year                    0.366786            0.339134  \n",
       "suicides_no             0.151399            0.061330  \n",
       "population              0.102943            0.081510  \n",
       "suicides/100k pop       0.074279            0.001785  \n",
       "HDI for year            1.000000            0.771228  \n",
       "gdp_per_capita ($)      0.771228            1.000000  "
      ]
     },
     "execution_count": 140,
     "metadata": {},
     "output_type": "execute_result"
    }
   ],
   "source": [
    "# e) Is there a correlation between suicides/100k pop and GDP_PER_CAPITA or HDI for year? Is it positive or negative?\n",
    "master.corr()\n",
    "#GDP_PER_CAPITA / SUICIDES/100KPOP are weakly correlated. \n",
    "#HDI for year attribute is more correlated with the suicides/100k population. "
   ]
  },
  {
   "cell_type": "markdown",
   "metadata": {},
   "source": [
    "## Q3 (20pts)\n",
    "\n",
    "Using only python syntax, numpy or pandas,matplotlib lib\n",
    "\n",
    "a) Load skin.png into a numpy array\n",
    "\n",
    "b) separate green channel\n",
    "\n",
    "c) plot histogram of green channel\n",
    "\n",
    "d) create and display a binary mask where the mole (skin lesion) is white and skin is black.\n",
    "\n",
    "e) what is the size of the mole approximately (in pixels)? calculate and print it. "
   ]
  },
  {
   "cell_type": "code",
   "execution_count": 7,
   "metadata": {},
   "outputs": [
    {
     "data": {
      "text/plain": [
       "(71, 65, 3)"
      ]
     },
     "execution_count": 7,
     "metadata": {},
     "output_type": "execute_result"
    },
    {
     "data": {
      "image/png": "[encoded data removed]",
      "text/plain": [
       "<Figure size 432x288 with 1 Axes>"
      ]
     },
     "metadata": {
      "needs_background": "light"
     },
     "output_type": "display_data"
    }
   ],
   "source": [
    "# a) \n",
    "import matplotlib.image as mpimg\n",
    "#Read image.png into a numpy array\n",
    "image = mpimg.imread('skin.png','rb')\n",
    "plt.imshow(image)\n",
    "image.shape"
   ]
  },
  {
   "cell_type": "code",
   "execution_count": 22,
   "metadata": {},
   "outputs": [],
   "source": [
    "# b) \n",
    "im_r = image[:,:,0]\n",
    "im_g = image[:,:,1]\n",
    "im_b = image[:,:,2]"
   ]
  },
  {
   "cell_type": "code",
   "execution_count": 23,
   "metadata": {},
   "outputs": [
    {
     "data": {
      "image/png": "[encoded data removed]",
      "text/plain": [
       "<Figure size 432x288 with 1 Axes>"
      ]
     },
     "metadata": {
      "needs_background": "light"
     },
     "output_type": "display_data"
    }
   ],
   "source": [
    "# c) plot histogram of green channel\n",
    "plt.hist(im_g.flatten(),200)\n",
    "plt.show()"
   ]
  },
  {
   "cell_type": "code",
   "execution_count": 33,
   "metadata": {},
   "outputs": [
    {
     "data": {
      "text/plain": [
       "Text(0.5, 1.0, 'foreground mask')"
      ]
     },
     "execution_count": 33,
     "metadata": {},
     "output_type": "execute_result"
    },
    {
     "data": {
      "image/png": "[encoded data removed]",
      "text/plain": [
       "<Figure size 432x288 with 1 Axes>"
      ]
     },
     "metadata": {
      "needs_background": "light"
     },
     "output_type": "display_data"
    }
   ],
   "source": [
    "# d)  create and display a binary mask where the mole (skin lesion) is white and skin is black.\n",
    "msk_fg = im_r<220\n",
    "plt.imshow(msk_fg, cmap=\"gray\")\n",
    "plt.title('foreground mask')"
   ]
  },
  {
   "cell_type": "code",
   "execution_count": 139,
   "metadata": {},
   "outputs": [
    {
     "name": "stdout",
     "output_type": "stream",
     "text": [
      "Object has 71 pixels area\n"
     ]
    }
   ],
   "source": [
    "# e) what is the size of the mole approximately (in pixels)? calculate and print it.\n",
    "print(\"Object has\", len(msk_fg), \"pixels area\")   \n",
    "m = im_r>220\n"
   ]
  },
  {
   "cell_type": "markdown",
   "metadata": {},
   "source": [
    "## Q4 (10pts)\n",
    "\n",
    "Using only python syntax, numpy or pandas , stats, matplotlib libs\n",
    "\n",
    "We are trying to compare two classifiers. You have made a cross validation test and accuracy scores are as below\n",
    "\n",
    "A: [ 61.66, 61.72, 60.86, 61.23, 61.28]\n",
    "B: [ 62.03, 61.50, 60.43, 61.20, 61.19]\n",
    "\n",
    "Which one is better? Prove your hypothesis with statistical t-tests."
   ]
  },
  {
   "cell_type": "code",
   "execution_count": 19,
   "metadata": {},
   "outputs": [
    {
     "name": "stdout",
     "output_type": "stream",
     "text": [
      "0.15690761613127613\n",
      "0.2595573154430445\n",
      "(0.9263423681259155, 0.571649432182312)\n",
      "(0.9615569114685059, 0.8187816739082336)\n",
      "Ttest_indResult(statistic=0.26376652488509406, pvalue=0.7986269216296343)\n"
     ]
    }
   ],
   "source": [
    "# a) \n",
    "A= [ 61.66, 61.72, 60.86, 61.23, 61.28]\n",
    "B= [ 62.03, 61.50, 60.43, 61.20, 61.19]\n",
    "\n",
    "print(stats.sem(A))\n",
    "print(stats.sem(B))\n",
    "\n",
    "print(stats.shapiro(A))\n",
    "print(stats.shapiro(B))\n",
    "print(stats.ttest_ind(A, B, equal_var=True))\n",
    "\n",
    "#A is better than B\n",
    "#Standart error of the mean is less than the other.\n",
    "#P value is bigger than 0.5, close to 1. "
   ]
  },
  {
   "cell_type": "markdown",
   "metadata": {},
   "source": [
    "## Q5 (20pts)\n",
    "Using only python syntax, numpy, sklearn libs\n",
    "\n",
    "x and y given as below\n",
    "\n",
    "x = np.linspace(-1,1,20)\n",
    "\n",
    "y = 3*x*x*x - 2*x + 1\n",
    "\n",
    "a) using sklearn linear models fit a linear  regression model to this data. \n",
    "Print the coefficients for  \n",
    "\n",
    "Coefficients: $x^3$ ?\n",
    "Coefficients: $x^2$ ?\n",
    "Coefficients: $x^1$ ?\n",
    "Coefficients: (bias) ?\n",
    "\n",
    "b) Plot the points x and y, blue dots\n",
    "\n",
    "c) Plot the fitted model line with red\n"
   ]
  },
  {
   "cell_type": "code",
   "execution_count": null,
   "metadata": {},
   "outputs": [],
   "source": [
    "# a) \n",
    "from sklearn.linear_model import LinearRegression\n",
    "x = np.linspeace(-1,1,20)\n",
    "y = (3*x**3)-(2*x)+1\n"
   ]
  },
  {
   "cell_type": "code",
   "execution_count": null,
   "metadata": {},
   "outputs": [],
   "source": [
    "# b) "
   ]
  },
  {
   "cell_type": "code",
   "execution_count": null,
   "metadata": {},
   "outputs": [],
   "source": [
    "# c) "
   ]
  },
  {
   "cell_type": "markdown",
   "metadata": {},
   "source": [
    "## Q6 (20pts)\n",
    "\n",
    "Using only python syntax, numpy, sklearn libs\n",
    "\n",
    "a) Create a synthetic dataset using sklearn.datasets.make_classification, for 1000 2D samples, with 4 classes.\n",
    "Set the cluster standard deviation to 2.0, and random state to 11\n",
    "\n",
    "b) Plot scatter matrix of generated points, colors should indicate class labels. \n",
    "\n",
    "c) Compare KNN and SVC classification performance with cross validation scores using parameters \n",
    "K = [1,5,11,23,35], C=[1,10,100,1000], SVC kernel can be linear. \n",
    "when taking cross validation, use the **mean value of  5 repeats (cv=5)**\n",
    "\n",
    "d) Write the result of the comparison, which one performs better?\n",
    "\n",
    "\n"
   ]
  },
  {
   "cell_type": "code",
   "execution_count": 131,
   "metadata": {},
   "outputs": [
    {
     "data": {
      "text/plain": [
       "<matplotlib.collections.PathCollection at 0x2cb543cd5c0>"
      ]
     },
     "execution_count": 131,
     "metadata": {},
     "output_type": "execute_result"
    },
    {
     "data": {
      "image/png": "[encoded data removed]",
      "text/plain": [
       "<Figure size 432x288 with 1 Axes>"
      ]
     },
     "metadata": {
      "needs_background": "light"
     },
     "output_type": "display_data"
    }
   ],
   "source": [
    "# a) \n",
    "#sk.datasets.make_blobs(n_samples = 1000, n_features = 2, cluster_std=2.0, random_state=11)\n",
    "#sk.datasets.make_blobs\n",
    "from sklearn.datasets.samples_generator import make_blobs\n",
    "X, y = make_blobs(n_samples=1000,  n_features=4, cluster_std = 2.0, random_state=11)\n",
    "plt.scatter(X[:,0],X[:,1], c=y)"
   ]
  },
  {
   "cell_type": "code",
   "execution_count": 100,
   "metadata": {},
   "outputs": [
    {
     "name": "stdout",
     "output_type": "stream",
     "text": [
      "pred [1 1 2 1 1 2 2 1 0 1 2 0 0 0 1 2 1 2 0 1 0 0 0 1 0 1 2 0 2 0 0 1 1 1 2 1 2\n",
      " 2 2 0 0 0 0 2 1 1 0 0 1 1 1 0 1 1 1 0 0 0 1 2 1 2 1 0 2 0 2 1 2 2 2 0 0 1\n",
      " 2 0 0 2 2 1 1 2 0 0 0 0 2 1 1 0 0 1 0 1 2 2 1 2 0 0 2 0 2 1 0 0 2 1 0 0 2\n",
      " 0 2 2 0 0 0 2 2 0 0 0 1 2 2 0 2 0 1 2 2 0 0 1 1 0 1 2 2 0 1 0 1 2 1 1 2 1\n",
      " 1 0 2 1 2 2 1 0 1 1 1 2 2 1 2 0 0 2 2 1 0 0 0 0 2 0 2 1 0 0 2 2 0 2 2 0 0\n",
      " 0 2 1 1 2 0 2 0 0 2 1 0 0 0 0 2 1 0 0 0 2 2 1 2 0 0 0 0 0 0 2 0 0 1 0 1 1\n",
      " 1 1 2 2 2 2 1 1 0 1 0 2 1 2 1 1 0 0 1 1 2 0 2 0 2 0 2 2 1 0 1 0 0 1 0 1 0\n",
      " 1 1 2 2 0 1 1 1 0 1 1 0 2 2 1 1 0 1 1 1 2 2 0 1 1 0 0 2 2 1 0 1 1 2 2 2 0\n",
      " 2 0 0 0 1 1 1 2 2 2 1 1 1 2 2 0 1 2 1 0 2 1 0 0 2 2 1 1 0 0 0 1 1 1 1 1 1\n",
      " 1 0 1 0 1 0 1 1 0 1 0 2 1 2 1 1 2 2 1 0 1 2 1 2 2 2 0 2 2 2 2 0 2 0 0 2 1\n",
      " 0 1 2 0 2 2 1 2 2 1 2 1 2 0 2 1 1 0 0 2 0 2 2 0 1 1 2 1 1 0 1 2 2 1 2 0 2\n",
      " 1 0 2 2 1 2 0 2 2 2 1 1 1 0 1 1 0 0 0 0 1 2 1 0 1 2 0 2 1 0 2 1 1 1 1 0 0\n",
      " 2 2 0 2 2 1 0 0 1 1 2 0 0 1 1 2 0 2 2 1 1 1 2 1 1 2 2 0 1 0 1 0 2 1 1 0 1\n",
      " 2 0 0 2 2 0 1 1 2 1 1 1 1 0 2 0 1 0 1 2 2 1 0 1 2 0 1 2 0 1 0 0 2 1 2 1 0\n",
      " 2 2 2 0 1 0 2 0 2 0 2 1 0 0 0 0 0 2 2 0 0 1 2 1 2 0 1 1 2 1 1 2 2 2 1 0 1\n",
      " 2 2 2 1 1 1 1 2 0 2 2 1 2 1 2 2 2 2 0 1 0 2 1 2 1 0 2 2 0 1 2 1 1 0 2 1 1\n",
      " 2 2 1 2 2 0 0 0 1 0 1 1 1 0 0 0 2 2 2 0 1 2 1 1 1 0 2 1 1 0 1 1 0 0 2 1 1\n",
      " 2 1 0 0 0 0 1 0 2 2 0 2 1 2 0 0 1 1 2 2 0 1 2 2 2 2 1 0 1 0 2 0 2 2 2 2 2\n",
      " 0 0 0 0 0 1 0 2 2 2 2 1 0 0 0 2 2 0 2 0 2 0 1 2 2 1 1 1 2 1 2 1 0 2 0 2 1\n",
      " 0 2 2 1 0 2 0 1 2 1 1 1 2 2 0 2 0 1 2 2 2 0 2 2 0 1 1 1 2 1 1 0 0 0 1 0 0\n",
      " 1 2 2 1 0 2 2 1 2 2 0 2 1 2 1 1 0 2 0 2 1 2 0 2 0 2 0 0 2 0 0 1 0 0 0 1 0\n",
      " 2 2 2 2 0 1 2 0 2 0 2 1 0 1 0 1 2 0 1 2 1 0 1 0 2 0 0 2 0 0 1 0 2 1 1 1 0\n",
      " 2 0 0 2 2 0 2 0 1 1 0 0 1 2 1 2 1 0 2 1 2 2 1 1 1 2 1 0 0 1 2 2 1 0 0 0 1\n",
      " 1 2 2 2 0 2 2 2 2 2 2 0 0 0 2 0 1 0 1 0 1 0 0 2 1 1 2 1 0 1 2 0 2 1 1 1 1\n",
      " 2 1 2 0 2 2 0 1 2 0 0 1 2 1 1 2 2 1 2 0 0 1 1 0 2 0 0 2 1 2 2 0 1 1 0 0 0\n",
      " 2 1 1 2 2 0 0 1 1 1 1 0 0 1 2 0 2 0 1 1 0 0 2 2 1 0 0 1 2 0 2 2 0 1 0 2 0\n",
      " 1 0 0 0 1 1 2 0 0 1 1 2 0 2 1 0 1 1 1 1 2 0 2 2 1 0 0 0 0 2 1 2 1 1 2 0 1\n",
      " 1]\n",
      "prob [[0. 1. 0.]\n",
      " [0. 1. 0.]\n",
      " [0. 0. 1.]\n",
      " ...\n",
      " [1. 0. 0.]\n",
      " [0. 1. 0.]\n",
      " [0. 1. 0.]]\n"
     ]
    }
   ],
   "source": [
    "# b)Compare KNN and SVC classification performance with cross validation scores using parameters\n",
    "#K = [1,5,11,23,35], C=[1,10,100,1000], SVC kernel can be linear.\n",
    "#when taking cross validation, use the mean value of 5 repeats (cv=5)\n",
    "from sklearn.neighbors import KNeighborsClassifier\n",
    "\n",
    "knn = KNeighborsClassifier(n_neighbors=5)\n",
    "knn.fit(X,y)\n",
    "ypred = knn.predict(X)\n",
    "print(\"pred\",ypred)\n",
    "yprob = knn.predict_proba(X)\n",
    "print(\"prob\",yprob)\n",
    "\n",
    "\n"
   ]
  },
  {
   "cell_type": "code",
   "execution_count": 136,
   "metadata": {},
   "outputs": [
    {
     "ename": "AttributeError",
     "evalue": "predict_proba is not available when  probability=False",
     "output_type": "error",
     "traceback": [
      "\u001b[1;31m---------------------------------------------------------------------------\u001b[0m",
      "\u001b[1;31mAttributeError\u001b[0m                            Traceback (most recent call last)",
      "\u001b[1;32m<ipython-input-136-ede0e539ffc3>\u001b[0m in \u001b[0;36m<module>\u001b[1;34m\u001b[0m\n\u001b[0;32m      2\u001b[0m \u001b[0mX_train\u001b[0m\u001b[1;33m,\u001b[0m \u001b[0mX_test\u001b[0m\u001b[1;33m,\u001b[0m \u001b[0my_train\u001b[0m\u001b[1;33m,\u001b[0m \u001b[0my_test\u001b[0m \u001b[1;33m=\u001b[0m \u001b[0mtrain_test_split\u001b[0m\u001b[1;33m(\u001b[0m\u001b[0mX\u001b[0m\u001b[1;33m,\u001b[0m \u001b[0my\u001b[0m\u001b[1;33m,\u001b[0m \u001b[0mtest_size\u001b[0m\u001b[1;33m=\u001b[0m\u001b[1;36m0.1\u001b[0m\u001b[1;33m,\u001b[0m \u001b[0mrandom_state\u001b[0m\u001b[1;33m=\u001b[0m\u001b[1;36m11\u001b[0m\u001b[1;33m)\u001b[0m\u001b[1;33m\u001b[0m\u001b[1;33m\u001b[0m\u001b[0m\n\u001b[0;32m      3\u001b[0m \u001b[0mmodel\u001b[0m\u001b[1;33m.\u001b[0m\u001b[0mfit\u001b[0m\u001b[1;33m(\u001b[0m\u001b[0mX_train\u001b[0m\u001b[1;33m,\u001b[0m \u001b[0my_train\u001b[0m\u001b[1;33m)\u001b[0m\u001b[1;33m\u001b[0m\u001b[1;33m\u001b[0m\u001b[0m\n\u001b[1;32m----> 4\u001b[1;33m \u001b[0myprob\u001b[0m \u001b[1;33m=\u001b[0m \u001b[0mmodel\u001b[0m\u001b[1;33m.\u001b[0m\u001b[0mpredict_proba\u001b[0m\u001b[1;33m(\u001b[0m\u001b[0mX_train\u001b[0m\u001b[1;33m)\u001b[0m\u001b[1;33m\u001b[0m\u001b[1;33m\u001b[0m\u001b[0m\n\u001b[0m\u001b[0;32m      5\u001b[0m \u001b[0mypred\u001b[0m \u001b[1;33m=\u001b[0m \u001b[0mmodel\u001b[0m\u001b[1;33m.\u001b[0m\u001b[0mpredict\u001b[0m\u001b[1;33m(\u001b[0m\u001b[0mX_train\u001b[0m\u001b[1;33m)\u001b[0m\u001b[1;33m\u001b[0m\u001b[1;33m\u001b[0m\u001b[0m\n\u001b[0;32m      6\u001b[0m \u001b[1;32mfrom\u001b[0m \u001b[0msklearn\u001b[0m\u001b[1;33m.\u001b[0m\u001b[0mlinear_model\u001b[0m \u001b[1;32mimport\u001b[0m \u001b[0mLogisticRegression\u001b[0m\u001b[1;33m\u001b[0m\u001b[1;33m\u001b[0m\u001b[0m\n",
      "\u001b[1;32m~\\Anaconda3\\lib\\site-packages\\sklearn\\svm\\base.py\u001b[0m in \u001b[0;36mpredict_proba\u001b[1;34m(self)\u001b[0m\n\u001b[0;32m    616\u001b[0m         \u001b[0mdatasets\u001b[0m\u001b[1;33m.\u001b[0m\u001b[1;33m\u001b[0m\u001b[1;33m\u001b[0m\u001b[0m\n\u001b[0;32m    617\u001b[0m         \"\"\"\n\u001b[1;32m--> 618\u001b[1;33m         \u001b[0mself\u001b[0m\u001b[1;33m.\u001b[0m\u001b[0m_check_proba\u001b[0m\u001b[1;33m(\u001b[0m\u001b[1;33m)\u001b[0m\u001b[1;33m\u001b[0m\u001b[1;33m\u001b[0m\u001b[0m\n\u001b[0m\u001b[0;32m    619\u001b[0m         \u001b[1;32mreturn\u001b[0m \u001b[0mself\u001b[0m\u001b[1;33m.\u001b[0m\u001b[0m_predict_proba\u001b[0m\u001b[1;33m\u001b[0m\u001b[1;33m\u001b[0m\u001b[0m\n\u001b[0;32m    620\u001b[0m \u001b[1;33m\u001b[0m\u001b[0m\n",
      "\u001b[1;32m~\\Anaconda3\\lib\\site-packages\\sklearn\\svm\\base.py\u001b[0m in \u001b[0;36m_check_proba\u001b[1;34m(self)\u001b[0m\n\u001b[0;32m    583\u001b[0m     \u001b[1;32mdef\u001b[0m \u001b[0m_check_proba\u001b[0m\u001b[1;33m(\u001b[0m\u001b[0mself\u001b[0m\u001b[1;33m)\u001b[0m\u001b[1;33m:\u001b[0m\u001b[1;33m\u001b[0m\u001b[1;33m\u001b[0m\u001b[0m\n\u001b[0;32m    584\u001b[0m         \u001b[1;32mif\u001b[0m \u001b[1;32mnot\u001b[0m \u001b[0mself\u001b[0m\u001b[1;33m.\u001b[0m\u001b[0mprobability\u001b[0m\u001b[1;33m:\u001b[0m\u001b[1;33m\u001b[0m\u001b[1;33m\u001b[0m\u001b[0m\n\u001b[1;32m--> 585\u001b[1;33m             raise AttributeError(\"predict_proba is not available when \"\n\u001b[0m\u001b[0;32m    586\u001b[0m                                  \" probability=False\")\n\u001b[0;32m    587\u001b[0m         \u001b[1;32mif\u001b[0m \u001b[0mself\u001b[0m\u001b[1;33m.\u001b[0m\u001b[0m_impl\u001b[0m \u001b[1;32mnot\u001b[0m \u001b[1;32min\u001b[0m \u001b[1;33m(\u001b[0m\u001b[1;34m'c_svc'\u001b[0m\u001b[1;33m,\u001b[0m \u001b[1;34m'nu_svc'\u001b[0m\u001b[1;33m)\u001b[0m\u001b[1;33m:\u001b[0m\u001b[1;33m\u001b[0m\u001b[1;33m\u001b[0m\u001b[0m\n",
      "\u001b[1;31mAttributeError\u001b[0m: predict_proba is not available when  probability=False"
     ]
    }
   ],
   "source": [
    "from sklearn.model_selection import train_test_split\n",
    "X_train, X_test, y_train, y_test = train_test_split(X, y, test_size=0.1, random_state=11)\n",
    "model.fit(X_train, y_train)\n",
    "yprob = model.predict_proba(X_train)\n",
    "ypred = model.predict(X_train)\n",
    "from sklearn.linear_model import LogisticRegression\n",
    "bin_logreg_model = LogisticRegression()\n",
    "bin_logreg_model.fit(X_train, y_train)\n",
    "y_train_pred = bin_logreg_model.predict(X_train)\n",
    "print(classification_report(y_train, y_train_pred))"
   ]
  },
  {
   "cell_type": "code",
   "execution_count": 124,
   "metadata": {},
   "outputs": [
    {
     "data": {
      "text/plain": [
       "SVC(C=1, cache_size=200, class_weight=None, coef0=0.0,\n",
       "  decision_function_shape='ovr', degree=3, gamma='auto_deprecated',\n",
       "  kernel='linear', max_iter=-1, probability=False, random_state=None,\n",
       "  shrinking=True, tol=0.001, verbose=False)"
      ]
     },
     "execution_count": 124,
     "metadata": {},
     "output_type": "execute_result"
    }
   ],
   "source": [
    "# c)\n",
    "from sklearn.model_selection import cross_val_score \n",
    "from sklearn.svm import SVC # \"Support vector classifier\"\n",
    "model = SVC(kernel='linear', C=1)\n",
    "model.fit(X, y)"
   ]
  },
  {
   "cell_type": "code",
   "execution_count": null,
   "metadata": {},
   "outputs": [],
   "source": [
    "# d) "
   ]
  },
  {
   "cell_type": "markdown",
   "metadata": {},
   "source": [
    "## Q7 (10pts)\n",
    "\n",
    "For a binary classification true labels and predictions are given below. You can use sklearn library functions.\n",
    "\n",
    "labels = [1,2,1,2,1,2,1,1,1,1,2,2,2,1,1]\n",
    "\n",
    "predictions = [1,1,2,2,1,2,2,2,1,1,2,2,2,1,2]\n",
    "\n",
    "Assume that label 2 is for positive, 1 is for negative class.\n",
    "\n",
    "Calculate and print \n",
    "\n",
    "a) number of true positives\n",
    "tp,\n",
    "and number of false positives\n",
    "fp .\n",
    "\n",
    "b) confusion matrix (rows show true labels, columns show prediction results)\n",
    "tn|fp\n",
    "fn|tp\n",
    "\n",
    "c) recall, precision, f-1 scores\n"
   ]
  },
  {
   "cell_type": "code",
   "execution_count": 125,
   "metadata": {},
   "outputs": [
    {
     "data": {
      "text/plain": [
       "(5, 5, 1, 4)"
      ]
     },
     "execution_count": 125,
     "metadata": {},
     "output_type": "execute_result"
    }
   ],
   "source": [
    "# a) \n",
    "from numpy import logical_and as land\n",
    "from sklearn.metrics import f1_score, recall_score, precision_score\n",
    "labels = np.array([0,1,0,1,0,1,0,0,0,0,1,1,1,0,0])\n",
    "predictions = np.array([0,0,1,1,0,1,1,1,0,0,1,1,1,0,1])\n",
    "\n",
    "tpos = np.count_nonzero(land(predictions == 1, labels==1)) # label is pos , prediction is pos\n",
    "tneg = np.count_nonzero(land(predictions == 0, labels==0)) # label is neg , prediction is neg\n",
    "fneg = np.count_nonzero(land(predictions == 0, labels==1)) # label is pos, prediction is neg\n",
    "fpos = np.count_nonzero(land(predictions == 1, labels==0))  # label is neg, prediction is pos\n",
    "tpos, tneg, fneg, fpos\n",
    "\n"
   ]
  },
  {
   "cell_type": "code",
   "execution_count": 119,
   "metadata": {},
   "outputs": [
    {
     "name": "stdout",
     "output_type": "stream",
     "text": [
      "[[5 1]\n",
      " [4 5]]\n"
     ]
    }
   ],
   "source": [
    "# b) \n",
    "conf_mat= np.array([[tneg,fneg],[fpos, tpos]])\n",
    "print(conf_mat)"
   ]
  },
  {
   "cell_type": "code",
   "execution_count": 122,
   "metadata": {},
   "outputs": [
    {
     "data": {
      "text/plain": [
       "(0.6666666666666667, 0.8333333333333334, 0.5555555555555556)"
      ]
     },
     "execution_count": 122,
     "metadata": {},
     "output_type": "execute_result"
    }
   ],
   "source": [
    "# c) \n",
    "f1_score(l, pred), recall_score(l,pred), precision_score(l,pred)"
   ]
  }
 ],
 "metadata": {
  "kernelspec": {
   "display_name": "Python 3",
   "language": "python",
   "name": "python3"
  },
  "language_info": {
   "codemirror_mode": {
    "name": "ipython",
    "version": 3
   },
   "file_extension": ".py",
   "mimetype": "text/x-python",
   "name": "python",
   "nbconvert_exporter": "python",
   "pygments_lexer": "ipython3",
   "version": "3.7.3"
  }
 },
 "nbformat": 4,
 "nbformat_minor": 2
}
