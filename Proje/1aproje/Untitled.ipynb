{
 "cells": [
  {
   "cell_type": "code",
   "execution_count": 200,
   "metadata": {
    "scrolled": true
   },
   "outputs": [
    {
     "name": "stdout",
     "output_type": "stream",
     "text": [
      "{\n",
      "    \"_id\": 54925078,\n",
      "    \"_links\": {\n",
      "        \"chat\": \"https://api.twitch.tv/kraken/chat/robotcaleb\",\n",
      "        \"commercial\": \"https://api.twitch.tv/kraken/channels/robotcaleb/commercial\",\n",
      "        \"editors\": \"https://api.twitch.tv/kraken/channels/robotcaleb/editors\",\n",
      "        \"follows\": \"https://api.twitch.tv/kraken/channels/robotcaleb/follows\",\n",
      "        \"self\": \"https://api.twitch.tv/kraken/channels/robotcaleb\",\n",
      "        \"stream_key\": \"https://api.twitch.tv/kraken/channels/robotcaleb/stream_key\",\n",
      "        \"subscriptions\": \"https://api.twitch.tv/kraken/channels/robotcaleb/subscriptions\",\n",
      "        \"teams\": \"https://api.twitch.tv/kraken/channels/robotcaleb/teams\",\n",
      "        \"videos\": \"https://api.twitch.tv/kraken/channels/robotcaleb/videos\"\n",
      "    },\n",
      "    \"background\": null,\n",
      "    \"banner\": null,\n",
      "    \"broadcaster_language\": \"en\",\n",
      "    \"created_at\": \"2014-01-13T04:07:33Z\",\n",
      "    \"delay\": null,\n",
      "    \"display_name\": \"RobotCaleb\",\n",
      "    \"followers\": 20,\n",
      "    \"game\": \"Programming\",\n",
      "    \"language\": \"en\",\n",
      "    \"logo\": \"https://static-cdn.jtvnw.net/jtv_user_pictures/robotcaleb-profile_image-9422645f2f0f093c-300x300.png\",\n",
      "    \"mature\": false,\n",
      "    \"name\": \"robotcaleb\",\n",
      "    \"partner\": false,\n",
      "    \"profile_banner\": \"https://static-cdn.jtvnw.net/jtv_user_pictures/robotcaleb-profile_banner-7167a1b68fb1c502-480.png\",\n",
      "    \"profile_banner_background_color\": null,\n",
      "    \"status\": \"Code wrangling\",\n",
      "    \"updated_at\": \"2016-10-10T18:01:58Z\",\n",
      "    \"url\": \"https://www.twitch.tv/robotcaleb\",\n",
      "    \"video_banner\": null,\n",
      "    \"views\": 4602\n",
      "}\n"
     ]
    }
   ],
   "source": [
    "import numpy as np\n",
    "import pandas as pd\n",
    "import requests\n",
    "import json\n",
    "from bs4 import BeautifulSoup\n",
    "\n",
    "r = \"https://wind-bow.glitch.me/twitch-api/channels/RobotCaleb\"\n",
    "JSONContent = requests.get(r).json()\n",
    "content = json.dumps(JSONContent, indent = 4, sort_keys=True)\n",
    "print(content)"
   ]
  },
  {
   "cell_type": "code",
   "execution_count": 154,
   "metadata": {},
   "outputs": [],
   "source": [
    "channels = [\"noobs2ninjas\", \"OgamingSC2\", \"storbeck\",\"cretetion\", \"RobotCaleb\", \"ESL_SC2\", \"habathcx\"]\n",
    "channels_list = []"
   ]
  },
  {
   "cell_type": "code",
   "execution_count": 155,
   "metadata": {},
   "outputs": [],
   "source": [
    "for channel in channels:\n",
    "    JSONContent = requests.get(\"https://wind-bow.glitch.me/twitch-api/channels/\" + channel).json()\n",
    "    channels_list.append([JSONContent['_id'], JSONContent['display_name'], JSONContent['status'],\n",
    "                         JSONContent['followers'], JSONContent['views']])"
   ]
  },
  {
   "cell_type": "code",
   "execution_count": 156,
   "metadata": {},
   "outputs": [],
   "source": [
    "dataset = pd.DataFrame(channels_list)"
   ]
  },
  {
   "cell_type": "code",
   "execution_count": 157,
   "metadata": {},
   "outputs": [],
   "source": [
    "dataset.columns = ['Id', 'Name', 'Status', 'Followers', 'Views']\n",
    "dataset.dropna(axis = 0, how = 'any', inplace = True)\n",
    "dataset.index = pd.RangeIndex(len(dataset.index))"
   ]
  },
  {
   "cell_type": "code",
   "execution_count": 158,
   "metadata": {},
   "outputs": [],
   "source": [
    "dataset.to_csv(path_or_buf='a.csv',index=False)"
   ]
  },
  {
   "cell_type": "code",
   "execution_count": 159,
   "metadata": {
    "scrolled": true
   },
   "outputs": [
    {
     "data": {
      "text/html": [
       "<div>\n",
       "<style scoped>\n",
       "    .dataframe tbody tr th:only-of-type {\n",
       "        vertical-align: middle;\n",
       "    }\n",
       "\n",
       "    .dataframe tbody tr th {\n",
       "        vertical-align: top;\n",
       "    }\n",
       "\n",
       "    .dataframe thead th {\n",
       "        text-align: right;\n",
       "    }\n",
       "</style>\n",
       "<table border=\"1\" class=\"dataframe\">\n",
       "  <thead>\n",
       "    <tr style=\"text-align: right;\">\n",
       "      <th></th>\n",
       "      <th>Id</th>\n",
       "      <th>Name</th>\n",
       "      <th>Status</th>\n",
       "      <th>Followers</th>\n",
       "      <th>Views</th>\n",
       "    </tr>\n",
       "  </thead>\n",
       "  <tbody>\n",
       "    <tr>\n",
       "      <th>0</th>\n",
       "      <td>82534701</td>\n",
       "      <td>noobs2ninjas</td>\n",
       "      <td>Building a new hackintosh for #programming and...</td>\n",
       "      <td>835</td>\n",
       "      <td>48102</td>\n",
       "    </tr>\n",
       "    <tr>\n",
       "      <th>1</th>\n",
       "      <td>71852806</td>\n",
       "      <td>OgamingSC2</td>\n",
       "      <td>UnderDogs - Rediffusion - Qualifier.</td>\n",
       "      <td>40895</td>\n",
       "      <td>20694507</td>\n",
       "    </tr>\n",
       "    <tr>\n",
       "      <th>2</th>\n",
       "      <td>90401618</td>\n",
       "      <td>cretetion</td>\n",
       "      <td>It's a Divison kind of Day</td>\n",
       "      <td>908</td>\n",
       "      <td>11631</td>\n",
       "    </tr>\n",
       "    <tr>\n",
       "      <th>3</th>\n",
       "      <td>54925078</td>\n",
       "      <td>RobotCaleb</td>\n",
       "      <td>Code wrangling</td>\n",
       "      <td>20</td>\n",
       "      <td>4602</td>\n",
       "    </tr>\n",
       "    <tr>\n",
       "      <th>4</th>\n",
       "      <td>30220059</td>\n",
       "      <td>ESL_SC2</td>\n",
       "      <td>RERUN: StarCraft 2 - Terminator vs. Parting (P...</td>\n",
       "      <td>135394</td>\n",
       "      <td>60991791</td>\n",
       "    </tr>\n",
       "    <tr>\n",
       "      <th>5</th>\n",
       "      <td>6726509</td>\n",
       "      <td>Habathcx</td>\n",
       "      <td>Massively Effective</td>\n",
       "      <td>14</td>\n",
       "      <td>764</td>\n",
       "    </tr>\n",
       "  </tbody>\n",
       "</table>\n",
       "</div>"
      ],
      "text/plain": [
       "         Id          Name                                             Status  \\\n",
       "0  82534701  noobs2ninjas  Building a new hackintosh for #programming and...   \n",
       "1  71852806    OgamingSC2               UnderDogs - Rediffusion - Qualifier.   \n",
       "2  90401618     cretetion                         It's a Divison kind of Day   \n",
       "3  54925078    RobotCaleb                                     Code wrangling   \n",
       "4  30220059       ESL_SC2  RERUN: StarCraft 2 - Terminator vs. Parting (P...   \n",
       "5   6726509      Habathcx                                Massively Effective   \n",
       "\n",
       "   Followers     Views  \n",
       "0        835     48102  \n",
       "1      40895  20694507  \n",
       "2        908     11631  \n",
       "3         20      4602  \n",
       "4     135394  60991791  \n",
       "5         14       764  "
      ]
     },
     "execution_count": 159,
     "metadata": {},
     "output_type": "execute_result"
    }
   ],
   "source": [
    "dataset"
   ]
  },
  {
   "cell_type": "code",
   "execution_count": null,
   "metadata": {},
   "outputs": [],
   "source": []
  }
 ],
 "metadata": {
  "kernelspec": {
   "display_name": "Python 3",
   "language": "python",
   "name": "python3"
  },
  "language_info": {
   "codemirror_mode": {
    "name": "ipython",
    "version": 3
   },
   "file_extension": ".py",
   "mimetype": "text/x-python",
   "name": "python",
   "nbconvert_exporter": "python",
   "pygments_lexer": "ipython3",
   "version": "3.7.3"
  }
 },
 "nbformat": 4,
 "nbformat_minor": 2
}
