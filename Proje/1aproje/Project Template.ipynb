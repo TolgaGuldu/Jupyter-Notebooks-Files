{
 "cells": [
  {
   "cell_type": "markdown",
   "metadata": {},
   "source": [
    "# Title: Spotify & Listener research\n",
    "\n",
    "## Author:   TOLGA GÜLDÜTUNA\n",
    "\n",
    "### Date:  03.05.2019\n",
    "\n",
    "### Data sources:  Spotify\n",
    "\n",
    "### Code sources:  Spotify\n",
    "\n",
    "### Summary (Abstract): \n",
    "\n",
    "#### Spotify is the comparison of daily, weekly, monthly rest counts and search queries for Artists. It is a return to the artists and the development of their creativity by questioning the artists' PR work. Increasing the interaction between the artists and the audience is the positive results on both sides. Understand which listeners listen more during the week and the week of the week; is to create a calendar for artists to edit their monthly song or album plans.\n"
   ]
  },
  {
   "cell_type": "markdown",
   "metadata": {},
   "source": [
    "## Introduction and Problem  Statement  \n",
    "\n",
    "Explain data, your aim in analyzing this data\n",
    "Write at least one hypothesis which you can test statiscally.\n",
    "Write another hypothesis which you can test with machine learning. \n",
    "See the examples in lectures.\n",
    "(2pts)"
   ]
  },
  {
   "cell_type": "markdown",
   "metadata": {},
   "source": [
    "##### As mentioned above, the number of rests and listener is the comparison of search queries and the implementation of 1vs1 set. In addition, daily, weekly and monthly resting numbers are clustered by k-means method.;"
   ]
  },
  {
   "cell_type": "markdown",
   "metadata": {},
   "source": [
    "## Data Description \n",
    "Type, format, size, sources, etc \n",
    "(2pts)"
   ]
  },
  {
   "cell_type": "code",
   "execution_count": null,
   "metadata": {},
   "outputs": [],
   "source": []
  },
  {
   "cell_type": "markdown",
   "metadata": {},
   "source": [
    "## Explatory Data Analysis\n",
    "Describe your data statistically, distribution of demographics, etc. means, variance, covariance, correlations.\n",
    "Use statistical tests (normality, t-test) for your hypotheses.\n",
    "(4pts)\n",
    "\n",
    "Note: If your data is image dataset or similar. You can calculate mean images, variance images etc. Pixel distributions, Hypothesis can test pixel distribution differences between classes."
   ]
  },
  {
   "cell_type": "markdown",
   "metadata": {},
   "source": [
    "## Machine Learning \n",
    "Here, you must apply machine learning concepts to your data.  Use\n",
    "\n",
    "1) Use an unsupervised learning (can be data dimension reduction for displaying data in lower dimensions)\n",
    "\n",
    "2) Use an supervised learning algorithm to solve regression or classification problem with your data. \n",
    "\n",
    "3) You must explain parameters of your classifier regressor method\n",
    "\n",
    "4) Plot the result with respect to parameters. Put a table comparing different cases, classifiers, parameters. \n",
    "\n",
    "5) Make sure you separate train/validate/test sets. \n",
    "\n",
    "Note: You can mix 2-3 for example compare the algorithms\n",
    "(6pts)"
   ]
  },
  {
   "cell_type": "markdown",
   "metadata": {},
   "source": [
    "## Conclusion \n",
    "\n",
    "Summarize your data, work, results. \n",
    "Were you able to prove your hypotheses?\n",
    "How can you improve your results?"
   ]
  }
 ],
 "metadata": {
  "kernelspec": {
   "display_name": "Python 3",
   "language": "python",
   "name": "python3"
  },
  "language_info": {
   "codemirror_mode": {
    "name": "ipython",
    "version": 3
   },
   "file_extension": ".py",
   "mimetype": "text/x-python",
   "name": "python",
   "nbconvert_exporter": "python",
   "pygments_lexer": "ipython3",
   "version": "3.7.3"
  }
 },
 "nbformat": 4,
 "nbformat_minor": 2
}
