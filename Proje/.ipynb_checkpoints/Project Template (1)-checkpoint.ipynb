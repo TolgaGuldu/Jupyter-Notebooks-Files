{
 "cells": [
  {
   "cell_type": "markdown",
   "metadata": {},
   "source": [
    "# Title: Your project Title\n",
    "\n",
    "## Author:\n",
    "\n",
    "#### Date:\n",
    "\n",
    "#### Data sources:\n",
    "\n",
    "#### Code sources:\n",
    "\n",
    "#### Summary (Abstract): \n",
    "What do you present in this report. Make a (abstract) summary with 4 5 sentences,\n"
   ]
  },
  {
   "cell_type": "markdown",
   "metadata": {},
   "source": [
    "## Introduction and Problem  Statement  \n",
    "\n",
    "Explain data, your aim in analyzing this data\n",
    "Write at least one hypothesis which you can test statiscally.\n",
    "Write another hypothesis which you can test with machine learning. \n",
    "See the examples in lectures.\n",
    "(2pts)"
   ]
  },
  {
   "cell_type": "markdown",
   "metadata": {},
   "source": [
    "## Data Description \n",
    "Type, format, size, sources, etc \n",
    "(2pts)"
   ]
  },
  {
   "cell_type": "markdown",
   "metadata": {},
   "source": [
    "## Explatory Data Analysis\n",
    "Describe your data statistically, distribution of demographics, etc. means, variance, covariance, correlations.\n",
    "Use statistical tests (normality, t-test) for your hypotheses.\n",
    "(4pts)\n",
    "\n",
    "Note: If your data is image dataset or similar. You can calculate mean images, variance images etc. Pixel distributions, Hypothesis can test pixel distribution differences between classes."
   ]
  },
  {
   "cell_type": "markdown",
   "metadata": {},
   "source": [
    "## Machine Learning \n",
    "Here, you must apply machine learning concepts to your data.  Use\n",
    "\n",
    "1) Use an unsupervised learning (can be data dimension reduction for displaying data in lower dimensions)\n",
    "\n",
    "2) Use an supervised learning algorithm to solve regression or classification problem with your data. \n",
    "\n",
    "3) You must explain parameters of your classifier regressor method\n",
    "\n",
    "4) Plot the result with respect to parameters. Put a table comparing different cases, classifiers, parameters. \n",
    "\n",
    "5) Make sure you separate train/validate/test sets. \n",
    "\n",
    "Note: You can mix 2-3 for example compare the algorithms\n",
    "(6pts)"
   ]
  },
  {
   "cell_type": "markdown",
   "metadata": {},
   "source": [
    "## Conclusion \n",
    "\n",
    "Summarize your data, work, results. \n",
    "Were you able to prove your hypotheses?\n",
    "How can you improve your results?"
   ]
  }
 ],
 "metadata": {
  "kernelspec": {
   "display_name": "Python 3",
   "language": "python",
   "name": "python3"
  },
  "language_info": {
   "codemirror_mode": {
    "name": "ipython",
    "version": 3
   },
   "file_extension": ".py",
   "mimetype": "text/x-python",
   "name": "python",
   "nbconvert_exporter": "python",
   "pygments_lexer": "ipython3",
   "version": "3.7.3"
  }
 },
 "nbformat": 4,
 "nbformat_minor": 2
}
