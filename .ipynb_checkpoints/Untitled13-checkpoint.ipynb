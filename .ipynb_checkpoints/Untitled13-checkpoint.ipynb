{
 "cells": [
  {
   "cell_type": "code",
   "execution_count": 1,
   "metadata": {},
   "outputs": [],
   "source": [
    "import pandas as pd"
   ]
  },
  {
   "cell_type": "code",
   "execution_count": 48,
   "metadata": {},
   "outputs": [
    {
     "data": {
      "text/plain": [
       "0     20410000\n",
       "1     14090000\n",
       "2      5170000\n",
       "3      4210000\n",
       "4      2940000\n",
       "5      2930000\n",
       "6      2850000\n",
       "7      2180000\n",
       "8      2140000\n",
       "9      1800000\n",
       "10     1720000\n",
       "11     1690000\n",
       "12     1510000\n",
       "13     1500000\n",
       "14     1210000\n",
       "15     1070000\n",
       "16      945000\n",
       "17      910000\n",
       "18      748000\n",
       "19      741000\n",
       "Name: Milli Gelir, dtype: int64"
      ]
     },
     "execution_count": 48,
     "metadata": {},
     "output_type": "execute_result"
    }
   ],
   "source": [
    "ülke = pd.read_csv(\"ülke.csv\",squeeze=True)\n",
    "gelir = pd.read_csv(\"milligelir.csv\",squeeze=True)\n",
    "gelir"
   ]
  },
  {
   "cell_type": "code",
   "execution_count": 5,
   "metadata": {},
   "outputs": [
    {
     "data": {
      "text/plain": [
       "0             ABD\n",
       "3         Almanya\n",
       "13    Avusturalya\n",
       "8        Brezilya\n",
       "15      Endonezya\n",
       "Name: Ülke, dtype: object"
      ]
     },
     "execution_count": 5,
     "metadata": {},
     "output_type": "execute_result"
    }
   ],
   "source": [
    "ülke.sort_values().head()"
   ]
  },
  {
   "cell_type": "code",
   "execution_count": 11,
   "metadata": {},
   "outputs": [
    {
     "data": {
      "text/plain": [
       "4     2940000\n",
       "3     4210000\n",
       "2     5170000\n",
       "1    14090000\n",
       "0    20410000\n",
       "Name: Milli Gelir, dtype: int64"
      ]
     },
     "execution_count": 11,
     "metadata": {},
     "output_type": "execute_result"
    }
   ],
   "source": [
    "gelir.sort_values(ascending=True).tail()"
   ]
  },
  {
   "cell_type": "code",
   "execution_count": 47,
   "metadata": {},
   "outputs": [
    {
     "data": {
      "text/plain": [
       "19      741000\n",
       "18      748000\n",
       "17      910000\n",
       "16      945000\n",
       "15     1070000\n",
       "14     1210000\n",
       "13     1500000\n",
       "12     1510000\n",
       "11     1690000\n",
       "10     1720000\n",
       "9      1800000\n",
       "8      2140000\n",
       "7      2180000\n",
       "6      2850000\n",
       "5      2930000\n",
       "4      2940000\n",
       "3      4210000\n",
       "2      5170000\n",
       "1     14090000\n",
       "0     20410000\n",
       "Name: Milli Gelir, dtype: int64"
      ]
     },
     "execution_count": 47,
     "metadata": {},
     "output_type": "execute_result"
    }
   ],
   "source": [
    "gelir.sort_values(ascending=True)\n",
    "gelir"
   ]
  },
  {
   "cell_type": "code",
   "execution_count": 15,
   "metadata": {},
   "outputs": [
    {
     "data": {
      "text/plain": [
       "0     20410000\n",
       "1     14090000\n",
       "2      5170000\n",
       "3      4210000\n",
       "4      2940000\n",
       "5      2930000\n",
       "6      2850000\n",
       "7      2180000\n",
       "8      2140000\n",
       "9      1800000\n",
       "10     1720000\n",
       "11     1690000\n",
       "12     1510000\n",
       "13     1500000\n",
       "14     1210000\n",
       "15     1070000\n",
       "16      945000\n",
       "17      910000\n",
       "18      748000\n",
       "19      741000\n",
       "Name: Milli Gelir, dtype: int64"
      ]
     },
     "execution_count": 15,
     "metadata": {},
     "output_type": "execute_result"
    }
   ],
   "source": [
    "gelir.sort_index()"
   ]
  },
  {
   "cell_type": "code",
   "execution_count": 16,
   "metadata": {},
   "outputs": [
    {
     "data": {
      "text/plain": [
       "True"
      ]
     },
     "execution_count": 16,
     "metadata": {},
     "output_type": "execute_result"
    }
   ],
   "source": [
    "1 in [1,2,3,4]"
   ]
  },
  {
   "cell_type": "code",
   "execution_count": 19,
   "metadata": {},
   "outputs": [
    {
     "data": {
      "text/plain": [
       "True"
      ]
     },
     "execution_count": 19,
     "metadata": {},
     "output_type": "execute_result"
    }
   ],
   "source": [
    "\"ABD\" in ülke.values"
   ]
  },
  {
   "cell_type": "code",
   "execution_count": 24,
   "metadata": {},
   "outputs": [
    {
     "data": {
      "text/plain": [
       "('ABD', 'Fransa', 0          ABD\n",
       " 1          Çin\n",
       " 2      Japonya\n",
       " 3      Almanya\n",
       " 4    İngiltere\n",
       " 5       Fransa\n",
       " 6    Hindistan\n",
       " 7       İtalya\n",
       " 8     Brezilya\n",
       " 9       Kanada\n",
       " Name: Ülke, dtype: object)"
      ]
     },
     "execution_count": 24,
     "metadata": {},
     "output_type": "execute_result"
    }
   ],
   "source": [
    "ülke[0],ülke[5],ülke[:10],"
   ]
  },
  {
   "cell_type": "code",
   "execution_count": 28,
   "metadata": {},
   "outputs": [
    {
     "data": {
      "text/plain": [
       "(20, 20, 70764000, 3538200.0, 4935789.411612845, 1760000.0, 20410000, 741000)"
      ]
     },
     "execution_count": 28,
     "metadata": {},
     "output_type": "execute_result"
    }
   ],
   "source": [
    "gelir.count(),len(gelir),gelir.sum(),gelir.mean(),gelir.std(),gelir.median(),gelir.max(),gelir.min()"
   ]
  },
  {
   "cell_type": "code",
   "execution_count": 29,
   "metadata": {},
   "outputs": [
    {
     "data": {
      "text/plain": [
       "count    2.000000e+01\n",
       "mean     3.538200e+06\n",
       "std      4.935789e+06\n",
       "min      7.410000e+05\n",
       "25%      1.175000e+06\n",
       "50%      1.760000e+06\n",
       "75%      2.932500e+06\n",
       "max      2.041000e+07\n",
       "Name: Milli Gelir, dtype: float64"
      ]
     },
     "execution_count": 29,
     "metadata": {},
     "output_type": "execute_result"
    }
   ],
   "source": [
    "gelir.describe()"
   ]
  },
  {
   "cell_type": "code",
   "execution_count": 32,
   "metadata": {},
   "outputs": [
    {
     "data": {
      "text/plain": [
       "0     Kuzey Amerika\n",
       "1              Asya\n",
       "2              Asya\n",
       "3            Avrupa\n",
       "4            Avrupa\n",
       "5            Avrupa\n",
       "6              Asya\n",
       "7            Avrupa\n",
       "8     Güney Amerika\n",
       "9     Kuzey Amerika\n",
       "10           Avrupa\n",
       "11             Asya\n",
       "12           Avrupa\n",
       "13        Okyanusya\n",
       "14    Kuzey Amerika\n",
       "15             Asya\n",
       "16           Avrupa\n",
       "17             Asya\n",
       "18             Asya\n",
       "19           Avrupa\n",
       "Name: KITA, dtype: object"
      ]
     },
     "execution_count": 32,
     "metadata": {},
     "output_type": "execute_result"
    }
   ],
   "source": [
    "kıta = pd.read_csv(\"kıta.csv\",squeeze=True)\n",
    "kıta"
   ]
  },
  {
   "cell_type": "code",
   "execution_count": 35,
   "metadata": {},
   "outputs": [
    {
     "data": {
      "text/plain": [
       "Okyanusya        1\n",
       "Güney Amerika    1\n",
       "Kuzey Amerika    3\n",
       "Asya             7\n",
       "Avrupa           8\n",
       "Name: KITA, dtype: int64"
      ]
     },
     "execution_count": 35,
     "metadata": {},
     "output_type": "execute_result"
    }
   ],
   "source": [
    "kıta.value_counts(ascending=True)"
   ]
  },
  {
   "cell_type": "code",
   "execution_count": 40,
   "metadata": {},
   "outputs": [
    {
     "data": {
      "text/plain": [
       "(0, 20410000, 19, 741000)"
      ]
     },
     "execution_count": 40,
     "metadata": {},
     "output_type": "execute_result"
    }
   ],
   "source": [
    "gelir.idxmax(),gelir[0],gelir.idxmin(),gelir[19]"
   ]
  },
  {
   "cell_type": "code",
   "execution_count": 45,
   "metadata": {},
   "outputs": [],
   "source": [
    "def sınıf(gel):\n",
    "    if gel < 2000000:\n",
    "        return \"orta\"\n",
    "    elif gel>=2000000 and gel<=5000000:\n",
    "        return \"yüksek\"\n",
    "    else:\n",
    "            return \"çok yüksek\""
   ]
  },
  {
   "cell_type": "code",
   "execution_count": 49,
   "metadata": {},
   "outputs": [
    {
     "data": {
      "text/plain": [
       "0     çok yüksek\n",
       "1     çok yüksek\n",
       "2     çok yüksek\n",
       "3         yüksek\n",
       "4         yüksek\n",
       "5         yüksek\n",
       "6         yüksek\n",
       "7         yüksek\n",
       "8         yüksek\n",
       "9           orta\n",
       "10          orta\n",
       "11          orta\n",
       "12          orta\n",
       "13          orta\n",
       "14          orta\n",
       "15          orta\n",
       "16          orta\n",
       "17          orta\n",
       "18          orta\n",
       "19          orta\n",
       "Name: Milli Gelir, dtype: object"
      ]
     },
     "execution_count": 49,
     "metadata": {},
     "output_type": "execute_result"
    }
   ],
   "source": [
    "gelir.apply(sınıf)"
   ]
  },
  {
   "cell_type": "code",
   "execution_count": 50,
   "metadata": {},
   "outputs": [
    {
     "data": {
      "text/plain": [
       "0     40820000\n",
       "1     28180000\n",
       "2     10340000\n",
       "3      8420000\n",
       "4      5880000\n",
       "5      5860000\n",
       "6      5700000\n",
       "7      4360000\n",
       "8      4280000\n",
       "9      3600000\n",
       "10     3440000\n",
       "11     3380000\n",
       "12     3020000\n",
       "13     3000000\n",
       "14     2420000\n",
       "15     2140000\n",
       "16     1890000\n",
       "17     1820000\n",
       "18     1496000\n",
       "19     1482000\n",
       "Name: Milli Gelir, dtype: int64"
      ]
     },
     "execution_count": 50,
     "metadata": {},
     "output_type": "execute_result"
    }
   ],
   "source": [
    "gelir.apply(lambda gelir:gelir*2)"
   ]
  },
  {
   "cell_type": "code",
   "execution_count": 52,
   "metadata": {},
   "outputs": [
    {
     "data": {
      "text/html": [
       "<div>\n",
       "<style scoped>\n",
       "    .dataframe tbody tr th:only-of-type {\n",
       "        vertical-align: middle;\n",
       "    }\n",
       "\n",
       "    .dataframe tbody tr th {\n",
       "        vertical-align: top;\n",
       "    }\n",
       "\n",
       "    .dataframe thead th {\n",
       "        text-align: right;\n",
       "    }\n",
       "</style>\n",
       "<table border=\"1\" class=\"dataframe\">\n",
       "  <thead>\n",
       "    <tr style=\"text-align: right;\">\n",
       "      <th></th>\n",
       "      <th>Ülke</th>\n",
       "      <th>Gelir</th>\n",
       "      <th>Nüfus</th>\n",
       "      <th>Kişi Başına</th>\n",
       "      <th>KITA</th>\n",
       "    </tr>\n",
       "  </thead>\n",
       "  <tbody>\n",
       "    <tr>\n",
       "      <th>0</th>\n",
       "      <td>ABD</td>\n",
       "      <td>20410000</td>\n",
       "      <td>323,766</td>\n",
       "      <td>63039</td>\n",
       "      <td>Kuzey Amerika</td>\n",
       "    </tr>\n",
       "    <tr>\n",
       "      <th>1</th>\n",
       "      <td>Çin</td>\n",
       "      <td>14090000</td>\n",
       "      <td>1415,045</td>\n",
       "      <td>9957</td>\n",
       "      <td>Asya</td>\n",
       "    </tr>\n",
       "    <tr>\n",
       "      <th>2</th>\n",
       "      <td>Japonya</td>\n",
       "      <td>5170000</td>\n",
       "      <td>127,185</td>\n",
       "      <td>40649</td>\n",
       "      <td>Asya</td>\n",
       "    </tr>\n",
       "    <tr>\n",
       "      <th>3</th>\n",
       "      <td>Almanya</td>\n",
       "      <td>4210000</td>\n",
       "      <td>82,293</td>\n",
       "      <td>51158</td>\n",
       "      <td>Avrupa</td>\n",
       "    </tr>\n",
       "    <tr>\n",
       "      <th>4</th>\n",
       "      <td>İngiltere</td>\n",
       "      <td>2940000</td>\n",
       "      <td>66,573</td>\n",
       "      <td>44162</td>\n",
       "      <td>Avrupa</td>\n",
       "    </tr>\n",
       "    <tr>\n",
       "      <th>5</th>\n",
       "      <td>Fransa</td>\n",
       "      <td>2930000</td>\n",
       "      <td>65,233</td>\n",
       "      <td>44915</td>\n",
       "      <td>Avrupa</td>\n",
       "    </tr>\n",
       "    <tr>\n",
       "      <th>6</th>\n",
       "      <td>Hindistan</td>\n",
       "      <td>2850000</td>\n",
       "      <td>1354,051</td>\n",
       "      <td>2104</td>\n",
       "      <td>Asya</td>\n",
       "    </tr>\n",
       "    <tr>\n",
       "      <th>7</th>\n",
       "      <td>İtalya</td>\n",
       "      <td>2180000</td>\n",
       "      <td>59,29</td>\n",
       "      <td>36768</td>\n",
       "      <td>Avrupa</td>\n",
       "    </tr>\n",
       "    <tr>\n",
       "      <th>8</th>\n",
       "      <td>Brezilya</td>\n",
       "      <td>2140000</td>\n",
       "      <td>210,867</td>\n",
       "      <td>10148</td>\n",
       "      <td>Güney Amerika</td>\n",
       "    </tr>\n",
       "    <tr>\n",
       "      <th>9</th>\n",
       "      <td>Kanada</td>\n",
       "      <td>1800000</td>\n",
       "      <td>36,953</td>\n",
       "      <td>48710</td>\n",
       "      <td>Kuzey Amerika</td>\n",
       "    </tr>\n",
       "    <tr>\n",
       "      <th>10</th>\n",
       "      <td>Rusya</td>\n",
       "      <td>1720000</td>\n",
       "      <td>143,967</td>\n",
       "      <td>11947</td>\n",
       "      <td>Avrupa</td>\n",
       "    </tr>\n",
       "    <tr>\n",
       "      <th>11</th>\n",
       "      <td>GÜney Kore</td>\n",
       "      <td>1690000</td>\n",
       "      <td>51,164</td>\n",
       "      <td>33031</td>\n",
       "      <td>Asya</td>\n",
       "    </tr>\n",
       "    <tr>\n",
       "      <th>12</th>\n",
       "      <td>İspanya</td>\n",
       "      <td>1510000</td>\n",
       "      <td>46,397</td>\n",
       "      <td>32545</td>\n",
       "      <td>Avrupa</td>\n",
       "    </tr>\n",
       "    <tr>\n",
       "      <th>13</th>\n",
       "      <td>Avusturalya</td>\n",
       "      <td>1500000</td>\n",
       "      <td>24,772</td>\n",
       "      <td>60552</td>\n",
       "      <td>Okyanusya</td>\n",
       "    </tr>\n",
       "    <tr>\n",
       "      <th>14</th>\n",
       "      <td>Meksika</td>\n",
       "      <td>1210000</td>\n",
       "      <td>130,759</td>\n",
       "      <td>9253</td>\n",
       "      <td>Kuzey Amerika</td>\n",
       "    </tr>\n",
       "    <tr>\n",
       "      <th>15</th>\n",
       "      <td>Endonezya</td>\n",
       "      <td>1070000</td>\n",
       "      <td>266,794</td>\n",
       "      <td>4010</td>\n",
       "      <td>Asya</td>\n",
       "    </tr>\n",
       "    <tr>\n",
       "      <th>16</th>\n",
       "      <td>Hollanda</td>\n",
       "      <td>945000</td>\n",
       "      <td>17,084</td>\n",
       "      <td>55314</td>\n",
       "      <td>Avrupa</td>\n",
       "    </tr>\n",
       "    <tr>\n",
       "      <th>17</th>\n",
       "      <td>Türkiye</td>\n",
       "      <td>910000</td>\n",
       "      <td>81,916</td>\n",
       "      <td>11108</td>\n",
       "      <td>Asya</td>\n",
       "    </tr>\n",
       "    <tr>\n",
       "      <th>18</th>\n",
       "      <td>Suudi Arabistan</td>\n",
       "      <td>748000</td>\n",
       "      <td>33,554</td>\n",
       "      <td>22292</td>\n",
       "      <td>Asya</td>\n",
       "    </tr>\n",
       "    <tr>\n",
       "      <th>19</th>\n",
       "      <td>İsviçre</td>\n",
       "      <td>741000</td>\n",
       "      <td>8,554</td>\n",
       "      <td>86626</td>\n",
       "      <td>Avrupa</td>\n",
       "    </tr>\n",
       "  </tbody>\n",
       "</table>\n",
       "</div>"
      ],
      "text/plain": [
       "               Ülke     Gelir     Nüfus  Kişi Başına           KITA\n",
       "0               ABD  20410000   323,766        63039  Kuzey Amerika\n",
       "1               Çin  14090000  1415,045         9957           Asya\n",
       "2           Japonya   5170000   127,185        40649           Asya\n",
       "3           Almanya   4210000    82,293        51158         Avrupa\n",
       "4         İngiltere   2940000    66,573        44162         Avrupa\n",
       "5            Fransa   2930000    65,233        44915         Avrupa\n",
       "6         Hindistan   2850000  1354,051         2104           Asya\n",
       "7            İtalya   2180000     59,29        36768         Avrupa\n",
       "8          Brezilya   2140000   210,867        10148  Güney Amerika\n",
       "9            Kanada   1800000    36,953        48710  Kuzey Amerika\n",
       "10            Rusya   1720000   143,967        11947         Avrupa\n",
       "11       GÜney Kore   1690000    51,164        33031           Asya\n",
       "12          İspanya   1510000    46,397        32545         Avrupa\n",
       "13      Avusturalya   1500000    24,772        60552      Okyanusya\n",
       "14          Meksika   1210000   130,759         9253  Kuzey Amerika\n",
       "15        Endonezya   1070000   266,794         4010           Asya\n",
       "16         Hollanda    945000    17,084        55314         Avrupa\n",
       "17          Türkiye    910000    81,916        11108           Asya\n",
       "18  Suudi Arabistan    748000    33,554        22292           Asya\n",
       "19          İsviçre    741000     8,554        86626         Avrupa"
      ]
     },
     "execution_count": 52,
     "metadata": {},
     "output_type": "execute_result"
    }
   ],
   "source": [
    "x = pd.read_csv(\"dünya.csv\")\n",
    "x\n"
   ]
  },
  {
   "cell_type": "code",
   "execution_count": 53,
   "metadata": {},
   "outputs": [
    {
     "data": {
      "text/plain": [
       "(        Ülke     Gelir     Nüfus  Kişi Başına           KITA\n",
       " 0        ABD  20410000   323,766        63039  Kuzey Amerika\n",
       " 1        Çin  14090000  1415,045         9957           Asya\n",
       " 2    Japonya   5170000   127,185        40649           Asya\n",
       " 3    Almanya   4210000    82,293        51158         Avrupa\n",
       " 4  İngiltere   2940000    66,573        44162         Avrupa,\n",
       "                Ülke    Gelir    Nüfus  Kişi Başına    KITA\n",
       " 15        Endonezya  1070000  266,794         4010    Asya\n",
       " 16         Hollanda   945000   17,084        55314  Avrupa\n",
       " 17          Türkiye   910000   81,916        11108    Asya\n",
       " 18  Suudi Arabistan   748000   33,554        22292    Asya\n",
       " 19          İsviçre   741000    8,554        86626  Avrupa)"
      ]
     },
     "execution_count": 53,
     "metadata": {},
     "output_type": "execute_result"
    }
   ],
   "source": [
    "x.head(),x.tail()"
   ]
  },
  {
   "cell_type": "code",
   "execution_count": 54,
   "metadata": {},
   "outputs": [
    {
     "data": {
      "text/plain": [
       "RangeIndex(start=0, stop=20, step=1)"
      ]
     },
     "execution_count": 54,
     "metadata": {},
     "output_type": "execute_result"
    }
   ],
   "source": [
    "x.index"
   ]
  },
  {
   "cell_type": "code",
   "execution_count": 55,
   "metadata": {},
   "outputs": [
    {
     "data": {
      "text/html": [
       "<div>\n",
       "<style scoped>\n",
       "    .dataframe tbody tr th:only-of-type {\n",
       "        vertical-align: middle;\n",
       "    }\n",
       "\n",
       "    .dataframe tbody tr th {\n",
       "        vertical-align: top;\n",
       "    }\n",
       "\n",
       "    .dataframe thead th {\n",
       "        text-align: right;\n",
       "    }\n",
       "</style>\n",
       "<table border=\"1\" class=\"dataframe\">\n",
       "  <thead>\n",
       "    <tr style=\"text-align: right;\">\n",
       "      <th></th>\n",
       "      <th>Gelir</th>\n",
       "      <th>Kişi Başına</th>\n",
       "    </tr>\n",
       "  </thead>\n",
       "  <tbody>\n",
       "    <tr>\n",
       "      <th>count</th>\n",
       "      <td>2.000000e+01</td>\n",
       "      <td>20.000000</td>\n",
       "    </tr>\n",
       "    <tr>\n",
       "      <th>mean</th>\n",
       "      <td>3.538200e+06</td>\n",
       "      <td>33914.400000</td>\n",
       "    </tr>\n",
       "    <tr>\n",
       "      <th>std</th>\n",
       "      <td>4.935789e+06</td>\n",
       "      <td>23377.483666</td>\n",
       "    </tr>\n",
       "    <tr>\n",
       "      <th>min</th>\n",
       "      <td>7.410000e+05</td>\n",
       "      <td>2104.000000</td>\n",
       "    </tr>\n",
       "    <tr>\n",
       "      <th>25%</th>\n",
       "      <td>1.175000e+06</td>\n",
       "      <td>10868.000000</td>\n",
       "    </tr>\n",
       "    <tr>\n",
       "      <th>50%</th>\n",
       "      <td>1.760000e+06</td>\n",
       "      <td>34899.500000</td>\n",
       "    </tr>\n",
       "    <tr>\n",
       "      <th>75%</th>\n",
       "      <td>2.932500e+06</td>\n",
       "      <td>49322.000000</td>\n",
       "    </tr>\n",
       "    <tr>\n",
       "      <th>max</th>\n",
       "      <td>2.041000e+07</td>\n",
       "      <td>86626.000000</td>\n",
       "    </tr>\n",
       "  </tbody>\n",
       "</table>\n",
       "</div>"
      ],
      "text/plain": [
       "              Gelir   Kişi Başına\n",
       "count  2.000000e+01     20.000000\n",
       "mean   3.538200e+06  33914.400000\n",
       "std    4.935789e+06  23377.483666\n",
       "min    7.410000e+05   2104.000000\n",
       "25%    1.175000e+06  10868.000000\n",
       "50%    1.760000e+06  34899.500000\n",
       "75%    2.932500e+06  49322.000000\n",
       "max    2.041000e+07  86626.000000"
      ]
     },
     "execution_count": 55,
     "metadata": {},
     "output_type": "execute_result"
    }
   ],
   "source": [
    "x.describe()"
   ]
  },
  {
   "cell_type": "code",
   "execution_count": 57,
   "metadata": {},
   "outputs": [
    {
     "data": {
      "text/plain": [
       "(20, 5)"
      ]
     },
     "execution_count": 57,
     "metadata": {},
     "output_type": "execute_result"
    }
   ],
   "source": [
    "x.shape"
   ]
  },
  {
   "cell_type": "code",
   "execution_count": 59,
   "metadata": {},
   "outputs": [
    {
     "data": {
      "text/plain": [
       "[RangeIndex(start=0, stop=20, step=1),\n",
       " Index(['Ülke', 'Gelir', 'Nüfus', 'Kişi Başına', 'KITA'], dtype='object')]"
      ]
     },
     "execution_count": 59,
     "metadata": {},
     "output_type": "execute_result"
    }
   ],
   "source": [
    "x.axes"
   ]
  },
  {
   "cell_type": "code",
   "execution_count": 60,
   "metadata": {},
   "outputs": [
    {
     "data": {
      "text/plain": [
       "Index(['Ülke', 'Gelir', 'Nüfus', 'Kişi Başına', 'KITA'], dtype='object')"
      ]
     },
     "execution_count": 60,
     "metadata": {},
     "output_type": "execute_result"
    }
   ],
   "source": [
    "x.columns"
   ]
  },
  {
   "cell_type": "code",
   "execution_count": 61,
   "metadata": {},
   "outputs": [
    {
     "name": "stdout",
     "output_type": "stream",
     "text": [
      "<class 'pandas.core.frame.DataFrame'>\n",
      "RangeIndex: 20 entries, 0 to 19\n",
      "Data columns (total 5 columns):\n",
      "Ülke           20 non-null object\n",
      "Gelir          20 non-null int64\n",
      "Nüfus          20 non-null object\n",
      "Kişi Başına    20 non-null int64\n",
      "KITA           20 non-null object\n",
      "dtypes: int64(2), object(3)\n",
      "memory usage: 880.0+ bytes\n"
     ]
    }
   ],
   "source": [
    "x.info()"
   ]
  },
  {
   "cell_type": "code",
   "execution_count": 63,
   "metadata": {},
   "outputs": [
    {
     "data": {
      "text/html": [
       "<div>\n",
       "<style scoped>\n",
       "    .dataframe tbody tr th:only-of-type {\n",
       "        vertical-align: middle;\n",
       "    }\n",
       "\n",
       "    .dataframe tbody tr th {\n",
       "        vertical-align: top;\n",
       "    }\n",
       "\n",
       "    .dataframe thead th {\n",
       "        text-align: right;\n",
       "    }\n",
       "</style>\n",
       "<table border=\"1\" class=\"dataframe\">\n",
       "  <thead>\n",
       "    <tr style=\"text-align: right;\">\n",
       "      <th></th>\n",
       "      <th>Gelir</th>\n",
       "      <th>Nüfus</th>\n",
       "      <th>Kişi Başına</th>\n",
       "      <th>KITA</th>\n",
       "    </tr>\n",
       "    <tr>\n",
       "      <th>Ülke</th>\n",
       "      <th></th>\n",
       "      <th></th>\n",
       "      <th></th>\n",
       "      <th></th>\n",
       "    </tr>\n",
       "  </thead>\n",
       "  <tbody>\n",
       "    <tr>\n",
       "      <th>ABD</th>\n",
       "      <td>20410000</td>\n",
       "      <td>323,766</td>\n",
       "      <td>63039</td>\n",
       "      <td>Kuzey Amerika</td>\n",
       "    </tr>\n",
       "    <tr>\n",
       "      <th>Çin</th>\n",
       "      <td>14090000</td>\n",
       "      <td>1415,045</td>\n",
       "      <td>9957</td>\n",
       "      <td>Asya</td>\n",
       "    </tr>\n",
       "    <tr>\n",
       "      <th>Japonya</th>\n",
       "      <td>5170000</td>\n",
       "      <td>127,185</td>\n",
       "      <td>40649</td>\n",
       "      <td>Asya</td>\n",
       "    </tr>\n",
       "    <tr>\n",
       "      <th>Almanya</th>\n",
       "      <td>4210000</td>\n",
       "      <td>82,293</td>\n",
       "      <td>51158</td>\n",
       "      <td>Avrupa</td>\n",
       "    </tr>\n",
       "    <tr>\n",
       "      <th>İngiltere</th>\n",
       "      <td>2940000</td>\n",
       "      <td>66,573</td>\n",
       "      <td>44162</td>\n",
       "      <td>Avrupa</td>\n",
       "    </tr>\n",
       "    <tr>\n",
       "      <th>Fransa</th>\n",
       "      <td>2930000</td>\n",
       "      <td>65,233</td>\n",
       "      <td>44915</td>\n",
       "      <td>Avrupa</td>\n",
       "    </tr>\n",
       "    <tr>\n",
       "      <th>Hindistan</th>\n",
       "      <td>2850000</td>\n",
       "      <td>1354,051</td>\n",
       "      <td>2104</td>\n",
       "      <td>Asya</td>\n",
       "    </tr>\n",
       "    <tr>\n",
       "      <th>İtalya</th>\n",
       "      <td>2180000</td>\n",
       "      <td>59,29</td>\n",
       "      <td>36768</td>\n",
       "      <td>Avrupa</td>\n",
       "    </tr>\n",
       "    <tr>\n",
       "      <th>Brezilya</th>\n",
       "      <td>2140000</td>\n",
       "      <td>210,867</td>\n",
       "      <td>10148</td>\n",
       "      <td>Güney Amerika</td>\n",
       "    </tr>\n",
       "    <tr>\n",
       "      <th>Kanada</th>\n",
       "      <td>1800000</td>\n",
       "      <td>36,953</td>\n",
       "      <td>48710</td>\n",
       "      <td>Kuzey Amerika</td>\n",
       "    </tr>\n",
       "    <tr>\n",
       "      <th>Rusya</th>\n",
       "      <td>1720000</td>\n",
       "      <td>143,967</td>\n",
       "      <td>11947</td>\n",
       "      <td>Avrupa</td>\n",
       "    </tr>\n",
       "    <tr>\n",
       "      <th>GÜney Kore</th>\n",
       "      <td>1690000</td>\n",
       "      <td>51,164</td>\n",
       "      <td>33031</td>\n",
       "      <td>Asya</td>\n",
       "    </tr>\n",
       "    <tr>\n",
       "      <th>İspanya</th>\n",
       "      <td>1510000</td>\n",
       "      <td>46,397</td>\n",
       "      <td>32545</td>\n",
       "      <td>Avrupa</td>\n",
       "    </tr>\n",
       "    <tr>\n",
       "      <th>Avusturalya</th>\n",
       "      <td>1500000</td>\n",
       "      <td>24,772</td>\n",
       "      <td>60552</td>\n",
       "      <td>Okyanusya</td>\n",
       "    </tr>\n",
       "    <tr>\n",
       "      <th>Meksika</th>\n",
       "      <td>1210000</td>\n",
       "      <td>130,759</td>\n",
       "      <td>9253</td>\n",
       "      <td>Kuzey Amerika</td>\n",
       "    </tr>\n",
       "    <tr>\n",
       "      <th>Endonezya</th>\n",
       "      <td>1070000</td>\n",
       "      <td>266,794</td>\n",
       "      <td>4010</td>\n",
       "      <td>Asya</td>\n",
       "    </tr>\n",
       "    <tr>\n",
       "      <th>Hollanda</th>\n",
       "      <td>945000</td>\n",
       "      <td>17,084</td>\n",
       "      <td>55314</td>\n",
       "      <td>Avrupa</td>\n",
       "    </tr>\n",
       "    <tr>\n",
       "      <th>Türkiye</th>\n",
       "      <td>910000</td>\n",
       "      <td>81,916</td>\n",
       "      <td>11108</td>\n",
       "      <td>Asya</td>\n",
       "    </tr>\n",
       "    <tr>\n",
       "      <th>Suudi Arabistan</th>\n",
       "      <td>748000</td>\n",
       "      <td>33,554</td>\n",
       "      <td>22292</td>\n",
       "      <td>Asya</td>\n",
       "    </tr>\n",
       "    <tr>\n",
       "      <th>İsviçre</th>\n",
       "      <td>741000</td>\n",
       "      <td>8,554</td>\n",
       "      <td>86626</td>\n",
       "      <td>Avrupa</td>\n",
       "    </tr>\n",
       "  </tbody>\n",
       "</table>\n",
       "</div>"
      ],
      "text/plain": [
       "                    Gelir     Nüfus  Kişi Başına           KITA\n",
       "Ülke                                                           \n",
       "ABD              20410000   323,766        63039  Kuzey Amerika\n",
       "Çin              14090000  1415,045         9957           Asya\n",
       "Japonya           5170000   127,185        40649           Asya\n",
       "Almanya           4210000    82,293        51158         Avrupa\n",
       "İngiltere         2940000    66,573        44162         Avrupa\n",
       "Fransa            2930000    65,233        44915         Avrupa\n",
       "Hindistan         2850000  1354,051         2104           Asya\n",
       "İtalya            2180000     59,29        36768         Avrupa\n",
       "Brezilya          2140000   210,867        10148  Güney Amerika\n",
       "Kanada            1800000    36,953        48710  Kuzey Amerika\n",
       "Rusya             1720000   143,967        11947         Avrupa\n",
       "GÜney Kore        1690000    51,164        33031           Asya\n",
       "İspanya           1510000    46,397        32545         Avrupa\n",
       "Avusturalya       1500000    24,772        60552      Okyanusya\n",
       "Meksika           1210000   130,759         9253  Kuzey Amerika\n",
       "Endonezya         1070000   266,794         4010           Asya\n",
       "Hollanda           945000    17,084        55314         Avrupa\n",
       "Türkiye            910000    81,916        11108           Asya\n",
       "Suudi Arabistan    748000    33,554        22292           Asya\n",
       "İsviçre            741000     8,554        86626         Avrupa"
      ]
     },
     "execution_count": 63,
     "metadata": {},
     "output_type": "execute_result"
    }
   ],
   "source": [
    "x = pd.read_csv(\"dünya.csv\",index_col=\"Ülke\")\n",
    "x"
   ]
  },
  {
   "cell_type": "code",
   "execution_count": null,
   "metadata": {},
   "outputs": [],
   "source": []
  },
  {
   "cell_type": "code",
   "execution_count": 64,
   "metadata": {},
   "outputs": [
    {
     "data": {
      "text/html": [
       "<div>\n",
       "<style scoped>\n",
       "    .dataframe tbody tr th:only-of-type {\n",
       "        vertical-align: middle;\n",
       "    }\n",
       "\n",
       "    .dataframe tbody tr th {\n",
       "        vertical-align: top;\n",
       "    }\n",
       "\n",
       "    .dataframe thead th {\n",
       "        text-align: right;\n",
       "    }\n",
       "</style>\n",
       "<table border=\"1\" class=\"dataframe\">\n",
       "  <thead>\n",
       "    <tr style=\"text-align: right;\">\n",
       "      <th></th>\n",
       "      <th>Gelir</th>\n",
       "      <th>Nüfus</th>\n",
       "      <th>Kişi Başına</th>\n",
       "      <th>KITA</th>\n",
       "    </tr>\n",
       "    <tr>\n",
       "      <th>Ülke</th>\n",
       "      <th></th>\n",
       "      <th></th>\n",
       "      <th></th>\n",
       "      <th></th>\n",
       "    </tr>\n",
       "  </thead>\n",
       "  <tbody>\n",
       "    <tr>\n",
       "      <th>ABD</th>\n",
       "      <td>20410000</td>\n",
       "      <td>323,766</td>\n",
       "      <td>63039</td>\n",
       "      <td>Kuzey Amerika</td>\n",
       "    </tr>\n",
       "    <tr>\n",
       "      <th>Çin</th>\n",
       "      <td>14090000</td>\n",
       "      <td>1415,045</td>\n",
       "      <td>9957</td>\n",
       "      <td>Asya</td>\n",
       "    </tr>\n",
       "    <tr>\n",
       "      <th>Japonya</th>\n",
       "      <td>5170000</td>\n",
       "      <td>127,185</td>\n",
       "      <td>40649</td>\n",
       "      <td>Asya</td>\n",
       "    </tr>\n",
       "    <tr>\n",
       "      <th>Almanya</th>\n",
       "      <td>4210000</td>\n",
       "      <td>82,293</td>\n",
       "      <td>51158</td>\n",
       "      <td>Avrupa</td>\n",
       "    </tr>\n",
       "    <tr>\n",
       "      <th>İngiltere</th>\n",
       "      <td>2940000</td>\n",
       "      <td>66,573</td>\n",
       "      <td>44162</td>\n",
       "      <td>Avrupa</td>\n",
       "    </tr>\n",
       "    <tr>\n",
       "      <th>Fransa</th>\n",
       "      <td>2930000</td>\n",
       "      <td>65,233</td>\n",
       "      <td>44915</td>\n",
       "      <td>Avrupa</td>\n",
       "    </tr>\n",
       "    <tr>\n",
       "      <th>Hindistan</th>\n",
       "      <td>2850000</td>\n",
       "      <td>1354,051</td>\n",
       "      <td>2104</td>\n",
       "      <td>Asya</td>\n",
       "    </tr>\n",
       "    <tr>\n",
       "      <th>İtalya</th>\n",
       "      <td>2180000</td>\n",
       "      <td>59,29</td>\n",
       "      <td>36768</td>\n",
       "      <td>Avrupa</td>\n",
       "    </tr>\n",
       "    <tr>\n",
       "      <th>Brezilya</th>\n",
       "      <td>2140000</td>\n",
       "      <td>210,867</td>\n",
       "      <td>10148</td>\n",
       "      <td>Güney Amerika</td>\n",
       "    </tr>\n",
       "    <tr>\n",
       "      <th>Kanada</th>\n",
       "      <td>1800000</td>\n",
       "      <td>36,953</td>\n",
       "      <td>48710</td>\n",
       "      <td>Kuzey Amerika</td>\n",
       "    </tr>\n",
       "    <tr>\n",
       "      <th>Rusya</th>\n",
       "      <td>1720000</td>\n",
       "      <td>143,967</td>\n",
       "      <td>11947</td>\n",
       "      <td>Avrupa</td>\n",
       "    </tr>\n",
       "    <tr>\n",
       "      <th>GÜney Kore</th>\n",
       "      <td>1690000</td>\n",
       "      <td>51,164</td>\n",
       "      <td>33031</td>\n",
       "      <td>Asya</td>\n",
       "    </tr>\n",
       "    <tr>\n",
       "      <th>İspanya</th>\n",
       "      <td>1510000</td>\n",
       "      <td>46,397</td>\n",
       "      <td>32545</td>\n",
       "      <td>Avrupa</td>\n",
       "    </tr>\n",
       "    <tr>\n",
       "      <th>Avusturalya</th>\n",
       "      <td>1500000</td>\n",
       "      <td>24,772</td>\n",
       "      <td>60552</td>\n",
       "      <td>Okyanusya</td>\n",
       "    </tr>\n",
       "    <tr>\n",
       "      <th>Meksika</th>\n",
       "      <td>1210000</td>\n",
       "      <td>130,759</td>\n",
       "      <td>9253</td>\n",
       "      <td>Kuzey Amerika</td>\n",
       "    </tr>\n",
       "    <tr>\n",
       "      <th>Endonezya</th>\n",
       "      <td>1070000</td>\n",
       "      <td>266,794</td>\n",
       "      <td>4010</td>\n",
       "      <td>Asya</td>\n",
       "    </tr>\n",
       "    <tr>\n",
       "      <th>Hollanda</th>\n",
       "      <td>945000</td>\n",
       "      <td>17,084</td>\n",
       "      <td>55314</td>\n",
       "      <td>Avrupa</td>\n",
       "    </tr>\n",
       "    <tr>\n",
       "      <th>Türkiye</th>\n",
       "      <td>910000</td>\n",
       "      <td>81,916</td>\n",
       "      <td>11108</td>\n",
       "      <td>Asya</td>\n",
       "    </tr>\n",
       "    <tr>\n",
       "      <th>Suudi Arabistan</th>\n",
       "      <td>748000</td>\n",
       "      <td>33,554</td>\n",
       "      <td>22292</td>\n",
       "      <td>Asya</td>\n",
       "    </tr>\n",
       "    <tr>\n",
       "      <th>İsviçre</th>\n",
       "      <td>741000</td>\n",
       "      <td>8,554</td>\n",
       "      <td>86626</td>\n",
       "      <td>Avrupa</td>\n",
       "    </tr>\n",
       "  </tbody>\n",
       "</table>\n",
       "</div>"
      ],
      "text/plain": [
       "                    Gelir     Nüfus  Kişi Başına           KITA\n",
       "Ülke                                                           \n",
       "ABD              20410000   323,766        63039  Kuzey Amerika\n",
       "Çin              14090000  1415,045         9957           Asya\n",
       "Japonya           5170000   127,185        40649           Asya\n",
       "Almanya           4210000    82,293        51158         Avrupa\n",
       "İngiltere         2940000    66,573        44162         Avrupa\n",
       "Fransa            2930000    65,233        44915         Avrupa\n",
       "Hindistan         2850000  1354,051         2104           Asya\n",
       "İtalya            2180000     59,29        36768         Avrupa\n",
       "Brezilya          2140000   210,867        10148  Güney Amerika\n",
       "Kanada            1800000    36,953        48710  Kuzey Amerika\n",
       "Rusya             1720000   143,967        11947         Avrupa\n",
       "GÜney Kore        1690000    51,164        33031           Asya\n",
       "İspanya           1510000    46,397        32545         Avrupa\n",
       "Avusturalya       1500000    24,772        60552      Okyanusya\n",
       "Meksika           1210000   130,759         9253  Kuzey Amerika\n",
       "Endonezya         1070000   266,794         4010           Asya\n",
       "Hollanda           945000    17,084        55314         Avrupa\n",
       "Türkiye            910000    81,916        11108           Asya\n",
       "Suudi Arabistan    748000    33,554        22292           Asya\n",
       "İsviçre            741000     8,554        86626         Avrupa"
      ]
     },
     "execution_count": 64,
     "metadata": {},
     "output_type": "execute_result"
    }
   ],
   "source": [
    "x"
   ]
  },
  {
   "cell_type": "code",
   "execution_count": null,
   "metadata": {},
   "outputs": [],
   "source": []
  }
 ],
 "metadata": {
  "kernelspec": {
   "display_name": "Python 3",
   "language": "python",
   "name": "python3"
  },
  "language_info": {
   "codemirror_mode": {
    "name": "ipython",
    "version": 3
   },
   "file_extension": ".py",
   "mimetype": "text/x-python",
   "name": "python",
   "nbconvert_exporter": "python",
   "pygments_lexer": "ipython3",
   "version": "3.7.3"
  }
 },
 "nbformat": 4,
 "nbformat_minor": 2
}
