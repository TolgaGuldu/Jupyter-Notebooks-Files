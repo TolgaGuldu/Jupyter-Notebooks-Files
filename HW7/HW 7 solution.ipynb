{
 "cells": [
  {
   "cell_type": "markdown",
   "metadata": {},
   "source": [
    "### Example: Classifying NEWSGROUPS\n",
    "\n",
    "  #naive Bayes is often used is in text classification, where"
   ]
  },
  {
   "cell_type": "code",
   "execution_count": 1,
   "metadata": {},
   "outputs": [],
   "source": [
    "%matplotlib inline\n",
    "import matplotlib.pyplot as plt\n",
    "import numpy as np"
   ]
  },
  {
   "cell_type": "code",
   "execution_count": 2,
   "metadata": {},
   "outputs": [
    {
     "data": {
      "text/plain": [
       "['alt.atheism',\n",
       " 'comp.graphics',\n",
       " 'comp.os.ms-windows.misc',\n",
       " 'comp.sys.ibm.pc.hardware',\n",
       " 'comp.sys.mac.hardware',\n",
       " 'comp.windows.x',\n",
       " 'misc.forsale',\n",
       " 'rec.autos',\n",
       " 'rec.motorcycles',\n",
       " 'rec.sport.baseball',\n",
       " 'rec.sport.hockey',\n",
       " 'sci.crypt',\n",
       " 'sci.electronics',\n",
       " 'sci.med',\n",
       " 'sci.space',\n",
       " 'soc.religion.christian',\n",
       " 'talk.politics.guns',\n",
       " 'talk.politics.mideast',\n",
       " 'talk.politics.misc',\n",
       " 'talk.religion.misc']"
      ]
     },
     "execution_count": 2,
     "metadata": {},
     "output_type": "execute_result"
    }
   ],
   "source": [
    "from sklearn.datasets import fetch_20newsgroups\n",
    "data = fetch_20newsgroups()\n",
    "data.target_names"
   ]
  },
  {
   "cell_type": "code",
   "execution_count": 3,
   "metadata": {},
   "outputs": [],
   "source": [
    "# I select a subset of all available categories. \n",
    "categories = ['talk.religion.misc', 'soc.religion.christian', 'sci.space',\n",
    "              'comp.graphics']\n",
    "train = fetch_20newsgroups(subset='train', categories=categories )\n",
    "test = fetch_20newsgroups(subset='test', categories=categories)\n",
    "# news emails has some headers and footer which affect classification . \n",
    "# remove them to see a realistic classification \n"
   ]
  },
  {
   "cell_type": "code",
   "execution_count": 4,
   "metadata": {},
   "outputs": [
    {
     "name": "stdout",
     "output_type": "stream",
     "text": [
      ".. _20newsgroups_dataset:\n",
      "\n",
      "The 20 newsgroups text dataset\n",
      "------------------------------\n",
      "\n",
      "The 20 newsgroups dataset comprises around 18000 newsgroups posts on\n",
      "20 topics split in two subsets: one for training (or development)\n",
      "and the other one for testing (or for performance evaluation). The split\n",
      "between the train and test set is based upon a messages posted before\n",
      "and after a specific date.\n",
      "\n",
      "This module contains two loaders. The first one,\n",
      ":func:`sklearn.datasets.fetch_20newsgroups`,\n",
      "returns a list of the raw texts that can be fed to text feature\n",
      "extractors such as :class:`sklearn.feature_extraction.text.CountVectorizer`\n",
      "with custom parameters so as to extract feature vectors.\n",
      "The second one, :func:`sklearn.datasets.fetch_20newsgroups_vectorized`,\n",
      "returns ready-to-use features, i.e., it is not necessary to use a feature\n",
      "extractor.\n",
      "\n",
      "**Data Set Characteristics:**\n",
      "\n",
      "    =================   ==========\n",
      "    Classes                     20\n",
      "    Samples total            18846\n",
      "    Dimensionality               1\n",
      "    Features                  text\n",
      "    =================   ==========\n",
      "\n",
      "Usage\n",
      "~~~~~\n",
      "\n",
      "The :func:`sklearn.datasets.fetch_20newsgroups` function is a data\n",
      "fetching / caching functions that downloads the data archive from\n",
      "the original `20 newsgroups website`_, extracts the archive contents\n",
      "in the ``~/scikit_learn_data/20news_home`` folder and calls the\n",
      ":func:`sklearn.datasets.load_files` on either the training or\n",
      "testing set folder, or both of them::\n",
      "\n",
      "  >>> from sklearn.datasets import fetch_20newsgroups\n",
      "  >>> newsgroups_train = fetch_20newsgroups(subset='train')\n",
      "\n",
      "  >>> from pprint import pprint\n",
      "  >>> pprint(list(newsgroups_train.target_names))\n",
      "  ['alt.atheism',\n",
      "   'comp.graphics',\n",
      "   'comp.os.ms-windows.misc',\n",
      "   'comp.sys.ibm.pc.hardware',\n",
      "   'comp.sys.mac.hardware',\n",
      "   'comp.windows.x',\n",
      "   'misc.forsale',\n",
      "   'rec.autos',\n",
      "   'rec.motorcycles',\n",
      "   'rec.sport.baseball',\n",
      "   'rec.sport.hockey',\n",
      "   'sci.crypt',\n",
      "   'sci.electronics',\n",
      "   'sci.med',\n",
      "   'sci.space',\n",
      "   'soc.religion.christian',\n",
      "   'talk.politics.guns',\n",
      "   'talk.politics.mideast',\n",
      "   'talk.politics.misc',\n",
      "   'talk.religion.misc']\n",
      "\n",
      "The real data lies in the ``filenames`` and ``target`` attributes. The target\n",
      "attribute is the integer index of the category::\n",
      "\n",
      "  >>> newsgroups_train.filenames.shape\n",
      "  (11314,)\n",
      "  >>> newsgroups_train.target.shape\n",
      "  (11314,)\n",
      "  >>> newsgroups_train.target[:10]\n",
      "  array([ 7,  4,  4,  1, 14, 16, 13,  3,  2,  4])\n",
      "\n",
      "It is possible to load only a sub-selection of the categories by passing the\n",
      "list of the categories to load to the\n",
      ":func:`sklearn.datasets.fetch_20newsgroups` function::\n",
      "\n",
      "  >>> cats = ['alt.atheism', 'sci.space']\n",
      "  >>> newsgroups_train = fetch_20newsgroups(subset='train', categories=cats)\n",
      "\n",
      "  >>> list(newsgroups_train.target_names)\n",
      "  ['alt.atheism', 'sci.space']\n",
      "  >>> newsgroups_train.filenames.shape\n",
      "  (1073,)\n",
      "  >>> newsgroups_train.target.shape\n",
      "  (1073,)\n",
      "  >>> newsgroups_train.target[:10]\n",
      "  array([0, 1, 1, 1, 0, 1, 1, 0, 0, 0])\n",
      "\n",
      "Converting text to vectors\n",
      "~~~~~~~~~~~~~~~~~~~~~~~~~~\n",
      "\n",
      "In order to feed predictive or clustering models with the text data,\n",
      "one first need to turn the text into vectors of numerical values suitable\n",
      "for statistical analysis. This can be achieved with the utilities of the\n",
      "``sklearn.feature_extraction.text`` as demonstrated in the following\n",
      "example that extract `TF-IDF`_ vectors of unigram tokens\n",
      "from a subset of 20news::\n",
      "\n",
      "  >>> from sklearn.feature_extraction.text import TfidfVectorizer\n",
      "  >>> categories = ['alt.atheism', 'talk.religion.misc',\n",
      "  ...               'comp.graphics', 'sci.space']\n",
      "  >>> newsgroups_train = fetch_20newsgroups(subset='train',\n",
      "  ...                                       categories=categories)\n",
      "  >>> vectorizer = TfidfVectorizer()\n",
      "  >>> vectors = vectorizer.fit_transform(newsgroups_train.data)\n",
      "  >>> vectors.shape\n",
      "  (2034, 34118)\n",
      "\n",
      "The extracted TF-IDF vectors are very sparse, with an average of 159 non-zero\n",
      "components by sample in a more than 30000-dimensional space\n",
      "(less than .5% non-zero features)::\n",
      "\n",
      "  >>> vectors.nnz / float(vectors.shape[0])       # doctest: +ELLIPSIS\n",
      "  159.01327...\n",
      "\n",
      ":func:`sklearn.datasets.fetch_20newsgroups_vectorized` is a function which \n",
      "returns ready-to-use token counts features instead of file names.\n",
      "\n",
      ".. _`20 newsgroups website`: http://people.csail.mit.edu/jrennie/20Newsgroups/\n",
      ".. _`TF-IDF`: https://en.wikipedia.org/wiki/Tf-idf\n",
      "\n",
      "\n",
      "Filtering text for more realistic training\n",
      "~~~~~~~~~~~~~~~~~~~~~~~~~~~~~~~~~~~~~~~~~~\n",
      "\n",
      "It is easy for a classifier to overfit on particular things that appear in the\n",
      "20 Newsgroups data, such as newsgroup headers. Many classifiers achieve very\n",
      "high F-scores, but their results would not generalize to other documents that\n",
      "aren't from this window of time.\n",
      "\n",
      "For example, let's look at the results of a multinomial Naive Bayes classifier,\n",
      "which is fast to train and achieves a decent F-score::\n",
      "\n",
      "  >>> from sklearn.naive_bayes import MultinomialNB\n",
      "  >>> from sklearn import metrics\n",
      "  >>> newsgroups_test = fetch_20newsgroups(subset='test',\n",
      "  ...                                      categories=categories)\n",
      "  >>> vectors_test = vectorizer.transform(newsgroups_test.data)\n",
      "  >>> clf = MultinomialNB(alpha=.01)\n",
      "  >>> clf.fit(vectors, newsgroups_train.target)\n",
      "  MultinomialNB(alpha=0.01, class_prior=None, fit_prior=True)\n",
      "\n",
      "  >>> pred = clf.predict(vectors_test)\n",
      "  >>> metrics.f1_score(newsgroups_test.target, pred, average='macro')  # doctest: +ELLIPSIS\n",
      "  0.88213...\n",
      "\n",
      "(The example :ref:`sphx_glr_auto_examples_text_plot_document_classification_20newsgroups.py` shuffles\n",
      "the training and test data, instead of segmenting by time, and in that case\n",
      "multinomial Naive Bayes gets a much higher F-score of 0.88. Are you suspicious\n",
      "yet of what's going on inside this classifier?)\n",
      "\n",
      "Let's take a look at what the most informative features are:\n",
      "\n",
      "  >>> import numpy as np\n",
      "  >>> def show_top10(classifier, vectorizer, categories):\n",
      "  ...     feature_names = np.asarray(vectorizer.get_feature_names())\n",
      "  ...     for i, category in enumerate(categories):\n",
      "  ...         top10 = np.argsort(classifier.coef_[i])[-10:]\n",
      "  ...         print(\"%s: %s\" % (category, \" \".join(feature_names[top10])))\n",
      "  ...\n",
      "  >>> show_top10(clf, vectorizer, newsgroups_train.target_names)\n",
      "  alt.atheism: edu it and in you that is of to the\n",
      "  comp.graphics: edu in graphics it is for and of to the\n",
      "  sci.space: edu it that is in and space to of the\n",
      "  talk.religion.misc: not it you in is that and to of the\n",
      "\n",
      "\n",
      "You can now see many things that these features have overfit to:\n",
      "\n",
      "- Almost every group is distinguished by whether headers such as\n",
      "  ``NNTP-Posting-Host:`` and ``Distribution:`` appear more or less often.\n",
      "- Another significant feature involves whether the sender is affiliated with\n",
      "  a university, as indicated either by their headers or their signature.\n",
      "- The word \"article\" is a significant feature, based on how often people quote\n",
      "  previous posts like this: \"In article [article ID], [name] <[e-mail address]>\n",
      "  wrote:\"\n",
      "- Other features match the names and e-mail addresses of particular people who\n",
      "  were posting at the time.\n",
      "\n",
      "With such an abundance of clues that distinguish newsgroups, the classifiers\n",
      "barely have to identify topics from text at all, and they all perform at the\n",
      "same high level.\n",
      "\n",
      "For this reason, the functions that load 20 Newsgroups data provide a\n",
      "parameter called **remove**, telling it what kinds of information to strip out\n",
      "of each file. **remove** should be a tuple containing any subset of\n",
      "``('headers', 'footers', 'quotes')``, telling it to remove headers, signature\n",
      "blocks, and quotation blocks respectively.\n",
      "\n",
      "  >>> newsgroups_test = fetch_20newsgroups(subset='test',\n",
      "  ...                                      remove=('headers', 'footers', 'quotes'),\n",
      "  ...                                      categories=categories)\n",
      "  >>> vectors_test = vectorizer.transform(newsgroups_test.data)\n",
      "  >>> pred = clf.predict(vectors_test)\n",
      "  >>> metrics.f1_score(pred, newsgroups_test.target, average='macro')  # doctest: +ELLIPSIS\n",
      "  0.77310...\n",
      "\n",
      "This classifier lost over a lot of its F-score, just because we removed\n",
      "metadata that has little to do with topic classification.\n",
      "It loses even more if we also strip this metadata from the training data:\n",
      "\n",
      "  >>> newsgroups_train = fetch_20newsgroups(subset='train',\n",
      "  ...                                       remove=('headers', 'footers', 'quotes'),\n",
      "  ...                                       categories=categories)\n",
      "  >>> vectors = vectorizer.fit_transform(newsgroups_train.data)\n",
      "  >>> clf = MultinomialNB(alpha=.01)\n",
      "  >>> clf.fit(vectors, newsgroups_train.target)\n",
      "  MultinomialNB(alpha=0.01, class_prior=None, fit_prior=True)\n",
      "\n",
      "  >>> vectors_test = vectorizer.transform(newsgroups_test.data)\n",
      "  >>> pred = clf.predict(vectors_test)\n",
      "  >>> metrics.f1_score(newsgroups_test.target, pred, average='macro')  # doctest: +ELLIPSIS\n",
      "  0.76995...\n",
      "\n",
      "Some other classifiers cope better with this harder version of the task. Try\n",
      "running :ref:`sphx_glr_auto_examples_model_selection_grid_search_text_feature_extraction.py` with and without\n",
      "the ``--filter`` option to compare the results.\n",
      "\n",
      ".. topic:: Recommendation\n",
      "\n",
      "  When evaluating text classifiers on the 20 Newsgroups data, you\n",
      "  should strip newsgroup-related metadata. In scikit-learn, you can do this by\n",
      "  setting ``remove=('headers', 'footers', 'quotes')``. The F-score will be\n",
      "  lower because it is more realistic.\n",
      "\n",
      ".. topic:: Examples\n",
      "\n",
      "   * :ref:`sphx_glr_auto_examples_model_selection_grid_search_text_feature_extraction.py`\n",
      "\n",
      "   * :ref:`sphx_glr_auto_examples_text_plot_document_classification_20newsgroups.py`\n",
      "\n"
     ]
    }
   ],
   "source": [
    "print(train.DESCR)"
   ]
  },
  {
   "cell_type": "code",
   "execution_count": 5,
   "metadata": {},
   "outputs": [],
   "source": [
    "from sklearn.feature_extraction.text import TfidfVectorizer\n",
    "from sklearn.naive_bayes import MultinomialNB\n",
    "from sklearn.pipeline import make_pipeline\n",
    "model = make_pipeline(TfidfVectorizer(), MultinomialNB())"
   ]
  },
  {
   "cell_type": "code",
   "execution_count": 6,
   "metadata": {},
   "outputs": [],
   "source": [
    "# HW follow the BOOK Python Data Science Hand BOOK\n",
    "# 0) Analyse the train set. How are the samples distributed among samples?\n",
    "# 1) Complete the example analysis in Chapter 5: NAIVE BAYES Section (Text Classification Example)\n",
    "# 2) Print the classification report\n",
    "\n",
    "#3) Print two mis-classified samples\n",
    "\n",
    "# 4) Print confusion matrix, comment on the results, which category was best classified?\n",
    "# 5) Repeat training and test for KNN.\n",
    "\n",
    "#6) Tune the  K value on train, test in on Test.\n",
    "# 6) Comment on the results."
   ]
  },
  {
   "cell_type": "code",
   "execution_count": 7,
   "metadata": {},
   "outputs": [
    {
     "data": {
      "text/plain": [
       "['comp.graphics', 'sci.space', 'soc.religion.christian', 'talk.religion.misc']"
      ]
     },
     "execution_count": 7,
     "metadata": {},
     "output_type": "execute_result"
    }
   ],
   "source": [
    "train.target_names"
   ]
  },
  {
   "cell_type": "code",
   "execution_count": 8,
   "metadata": {},
   "outputs": [],
   "source": [
    "# 0) Analyse the train set. How are the samples distributed among samples?\n",
    "X_train = train['data']\n",
    "y_train = train['target']\n",
    "X_test = test['data']\n",
    "y_test = test['target']"
   ]
  },
  {
   "cell_type": "code",
   "execution_count": 9,
   "metadata": {},
   "outputs": [
    {
     "data": {
      "text/plain": [
       "Text(0.5, 0, \"['comp.graphics', 'sci.space', 'soc.religion.christian', 'talk.religion.misc']\")"
      ]
     },
     "execution_count": 9,
     "metadata": {},
     "output_type": "execute_result"
    },
    {
     "data": {
      "image/png": "[encoded data removed]",
      "text/plain": [
       "<Figure size 432x288 with 1 Axes>"
      ]
     },
     "metadata": {
      "needs_background": "light"
     },
     "output_type": "display_data"
    }
   ],
   "source": [
    "plt.hist(y_train)\n",
    "plt.xlabel(train.target_names)"
   ]
  },
  {
   "cell_type": "markdown",
   "metadata": {},
   "source": [
    "As we can see we have over 500 samples  for categories = 'comp.graphics', 'sci.space', 'soc.religion.christian' and near 400 samples for 'talk.religion.misc'"
   ]
  },
  {
   "cell_type": "code",
   "execution_count": 10,
   "metadata": {},
   "outputs": [
    {
     "data": {
      "text/plain": [
       "Text(0.5, 0, \"['comp.graphics', 'sci.space', 'soc.religion.christian', 'talk.religion.misc']\")"
      ]
     },
     "execution_count": 10,
     "metadata": {},
     "output_type": "execute_result"
    },
    {
     "data": {
      "image/png": "[encoded data removed]",
      "text/plain": [
       "<Figure size 432x288 with 1 Axes>"
      ]
     },
     "metadata": {
      "needs_background": "light"
     },
     "output_type": "display_data"
    }
   ],
   "source": [
    "plt.hist(y_test)\n",
    "plt.xlabel(train.target_names)"
   ]
  },
  {
   "cell_type": "markdown",
   "metadata": {},
   "source": [
    "Similar distribution in test "
   ]
  },
  {
   "cell_type": "code",
   "execution_count": 11,
   "metadata": {},
   "outputs": [
    {
     "name": "stdout",
     "output_type": "stream",
     "text": [
      "Train \n",
      "               precision    recall  f1-score   support\n",
      "\n",
      "           0       1.00      0.98      0.99       584\n",
      "           1       0.98      0.99      0.99       593\n",
      "           2       0.74      1.00      0.85       599\n",
      "           3       1.00      0.44      0.61       377\n",
      "\n",
      "   micro avg       0.90      0.90      0.90      2153\n",
      "   macro avg       0.93      0.85      0.86      2153\n",
      "weighted avg       0.92      0.90      0.88      2153\n",
      "\n"
     ]
    }
   ],
   "source": [
    "#1) Complete the example analysis in Chapter 5: NAIVE BAYES Section (Text Classification Example)\n",
    "model.fit(X_train, y_train)\n",
    "pred_train = model.predict(X_train)\n",
    "\n",
    "from sklearn.metrics import classification_report\n",
    "\n",
    "cr = classification_report(y_train, pred_train)\n",
    "print(\"Train \\n\", cr)"
   ]
  },
  {
   "cell_type": "code",
   "execution_count": 12,
   "metadata": {},
   "outputs": [
    {
     "name": "stdout",
     "output_type": "stream",
     "text": [
      "[[575   3   6   0]\n",
      " [  0 589   4   0]\n",
      " [  0   0 599   0]\n",
      " [  1   7 203 166]]\n"
     ]
    }
   ],
   "source": [
    "# training does not look bad, but note that precision and recall values for class 2 and 3 is not so good. \n",
    "# perhaps they were confused with each other \n",
    "\n",
    "from sklearn.metrics import confusion_matrix\n",
    "\n",
    "mat = confusion_matrix(y_train, pred_train)\n",
    "print(mat)"
   ]
  },
  {
   "cell_type": "markdown",
   "metadata": {},
   "source": [
    "As we can see above in the confusion matrix, 'talk.religion.misc' was significantly confused with soc.religion.christian'. Probably due to closeness of the words."
   ]
  },
  {
   "cell_type": "code",
   "execution_count": 13,
   "metadata": {},
   "outputs": [
    {
     "name": "stdout",
     "output_type": "stream",
     "text": [
      "Test \n",
      "               precision    recall  f1-score   support\n",
      "\n",
      "           0       0.97      0.88      0.92       389\n",
      "           1       0.92      0.92      0.92       394\n",
      "           2       0.62      0.98      0.76       398\n",
      "           3       1.00      0.19      0.32       251\n",
      "\n",
      "   micro avg       0.80      0.80      0.80      1432\n",
      "   macro avg       0.88      0.75      0.73      1432\n",
      "weighted avg       0.86      0.80      0.77      1432\n",
      "\n",
      "[[344  13  32   0]\n",
      " [  6 364  24   0]\n",
      " [  1   5 392   0]\n",
      " [  4  12 187  48]]\n"
     ]
    }
   ],
   "source": [
    "pred_test = model.predict(X_test)\n",
    "\n",
    "cr = classification_report(y_test, pred_test)\n",
    "print(\"Test \\n\", cr)\n",
    "\n",
    "mat = confusion_matrix(y_test, pred_test)\n",
    "print(mat)"
   ]
  },
  {
   "cell_type": "markdown",
   "metadata": {},
   "source": [
    "**Comp.graph and Sci is best classified classes with 0.92 f-scores.**\n",
    "\n",
    "**Same here. The recall rate of talk.religion.misc is really small. It was confused with soc.religion.christian.**\n"
   ]
  },
  {
   "cell_type": "code",
   "execution_count": 14,
   "metadata": {},
   "outputs": [],
   "source": [
    "\n",
    "#Lets print some misclassified examples. "
   ]
  },
  {
   "cell_type": "code",
   "execution_count": 15,
   "metadata": {},
   "outputs": [
    {
     "name": "stdout",
     "output_type": "stream",
     "text": [
      "(48,)\n"
     ]
    }
   ],
   "source": [
    "X_test_ar = np.array(X_test)\n",
    "confused_X_talk_religion = X_test_ar[np.logical_and(y_test==3,pred_test==3)]\n",
    "print(confused_X_talk_religion.shape)"
   ]
  },
  {
   "cell_type": "code",
   "execution_count": 16,
   "metadata": {},
   "outputs": [
    {
     "name": "stdout",
     "output_type": "stream",
     "text": [
      "From: sandvik@newton.apple.com (Kent Sandvik)\n",
      "Subject: Re: To Rob Lanphier\n",
      "Organization: Cookamunga Tourist Bureau\n",
      "Lines: 23\n",
      "\n",
      "In article <1993Apr22.003024.25620@organpipe.uug.arizona.edu>,\n",
      "brian@lpl.arizona.edu (Brian Ceccarelli 602/621-9615) wrote:\n",
      "> My hope is that Brian will look and will see the ramifications of the\n",
      "> truck coming towards him.  My hope is that Brian will want to step out\n",
      "> of the way.  My fear, though,  is that Brian will instead choose to glue himself\n",
      "> to the middle of the highway, where he will certainly get run over.  But if\n",
      "> he so chooses, he so chooses, and there is nothing I can do beyond that\n",
      "> to change his mind.   For it is his choice.   But at this very moment,\n",
      "> Brian hasn't gotten even that far.  He is still at the point where he\n",
      "> does not want to look.  Sure he moves his eyeball to appease me, but his\n",
      "> head will not turn around to see the entire picture.  So far he is\n",
      "> satisfied with his glimpse of the mountains off in the distance. \n",
      "\n",
      "\n",
      "The problem is that you imagine him inside this huge wall, unable\n",
      "to see reality. While he imagines the same about you. Clearly we\n",
      "have a case where relativity plays a big role concerning looking\n",
      "at opposite frames of reality.\n",
      "\n",
      "Cheers,\n",
      "Kent\n",
      "---\n",
      "sandvik@newton.apple.com. ALink: KSAND -- Private activities on the net.\n",
      "\n"
     ]
    }
   ],
   "source": [
    "print(confused_X_talk_religion[0])"
   ]
  },
  {
   "cell_type": "code",
   "execution_count": 17,
   "metadata": {},
   "outputs": [
    {
     "name": "stdout",
     "output_type": "stream",
     "text": [
      "From: mckay@alcor.concordia.ca (John McKay)\n",
      "Subject: Re: Math?? (Was US govt & Technolgy Investment\n",
      "Keywords: science?\n",
      "Nntp-Posting-Host: alcor.concordia.ca\n",
      "Organization: Concordia University, Montreal, Canada\n",
      "Lines: 21\n",
      "\n",
      "mwilson@ncratl.AtlantaGA.NCR.COM (Mark Wilson) writes:\n",
      "\n",
      ">|>Report called it The Science of Order, but that's probably pomposity.\n",
      "\n",
      ">|It is, however, now somewhat of an experimental science with the exploration\n",
      ">|of fractals, strange attractors, and artificial life. Whether important\n",
      ">|insights will be gained from these experiments is unknown, but it does\n",
      ">|tend to change the shape of what has mostly been viewed as an abstract\n",
      ">|deductive field.\n",
      "\n",
      ">How do you do experiments in mathematics?\n",
      "Well ...\n",
      "Have a look at a new journal: Journal of Experimental Mathematics\n",
      "It has several Fields medallists on its editorial board.\n",
      "You want to knwo more?\n",
      "Try Klaus Peters in Boston or David Epstein at Warwick .\n",
      "\n",
      "-- \n",
      "Deep ideas are simple.\n",
      "                      Odd groups are even.\n",
      "                                           Even simples are not.\n",
      "\n"
     ]
    }
   ],
   "source": [
    "confused_X_comp_grp = X_test_ar[np.logical_and(y_test==1,pred_test==2)]\n",
    "print(confused_X_comp_grp[0])"
   ]
  },
  {
   "cell_type": "code",
   "execution_count": 18,
   "metadata": {},
   "outputs": [
    {
     "name": "stdout",
     "output_type": "stream",
     "text": [
      "\n",
      "soc.religion.christian\n",
      "comp.graphics\n",
      "soc.religion.christian\n",
      "soc.religion.christian\n",
      "\n"
     ]
    }
   ],
   "source": [
    "def predict_category(s, trgt_names, model=model):            \n",
    "    pred = model.predict([s])            \n",
    "    return trgt_names[pred[0]]\n",
    "\n",
    "print()\n",
    "print(predict_category('I believe in god', train.target_names, model))\n",
    "print(predict_category('I like computers', train.target_names, model))\n",
    "print(predict_category('I believe in computers', train.target_names, model))\n",
    "print(predict_category('Believe or not I bought a computer with nvidia gtxyz1000', train.target_names, model))\n",
    "print()"
   ]
  },
  {
   "cell_type": "markdown",
   "metadata": {},
   "source": [
    "### NOW REPEAT WITH KNN"
   ]
  },
  {
   "cell_type": "code",
   "execution_count": 19,
   "metadata": {},
   "outputs": [
    {
     "name": "stdout",
     "output_type": "stream",
     "text": [
      "Test \n",
      "               precision    recall  f1-score   support\n",
      "\n",
      "           0       0.91      0.81      0.86       389\n",
      "           1       0.90      0.85      0.87       394\n",
      "           2       0.71      0.89      0.79       398\n",
      "           3       0.77      0.65      0.71       251\n",
      "\n",
      "   micro avg       0.82      0.82      0.82      1432\n",
      "   macro avg       0.82      0.80      0.81      1432\n",
      "weighted avg       0.83      0.82      0.82      1432\n",
      "\n",
      "[[317  18  38  16]\n",
      " [ 24 333  35   2]\n",
      " [  3   8 356  31]\n",
      " [  6  10  71 164]]\n"
     ]
    }
   ],
   "source": [
    "from sklearn.neighbors import KNeighborsClassifier as knn\n",
    "\n",
    "\n",
    "model = make_pipeline(TfidfVectorizer(), knn(n_neighbors=5))\n",
    "model.fit(X_train,y_train)\n",
    "\n",
    "pred_test = model.predict(X_test)\n",
    "\n",
    "cr = classification_report(y_test, pred_test)\n",
    "print(\"Test \\n\", cr)\n",
    "\n",
    "mat = confusion_matrix(y_test, pred_test)\n",
    "print(mat)\n"
   ]
  },
  {
   "cell_type": "code",
   "execution_count": null,
   "metadata": {},
   "outputs": [],
   "source": []
  },
  {
   "cell_type": "markdown",
   "metadata": {},
   "source": [
    "### NBayes\n",
    "[[344  13  32   0]\n",
    " [  6 364  24   0]\n",
    " [  1   5 392   0]\n",
    " [  4  12 187  48]]\n",
    " \n",
    " ### KNN\n",
    " [[317  18  38  16]\n",
    " [ 24 333  35   2]\n",
    " [  3   8 356  31]\n",
    " [  6  10  71 164]]\n",
    " \n",
    " With k=5 five\n",
    " It can be seen that f-1 scores are worse in KNN compared to Naive Bayes. \n",
    " Confusion matrix shows that misclassifications are spread. \n",
    " \n"
   ]
  },
  {
   "cell_type": "code",
   "execution_count": 20,
   "metadata": {},
   "outputs": [
    {
     "name": "stdout",
     "output_type": "stream",
     "text": [
      "For  1  val:  [0.91666667 0.9212963  0.91183295 0.90465116 0.92757009]\n",
      "Accuracy: 0.92 (+/- 0.02)\n",
      "For  3  val:  [0.90972222 0.8912037  0.91183295 0.9        0.90654206]\n",
      "Accuracy: 0.90 (+/- 0.01)\n",
      "For  5  val:  [0.90046296 0.90972222 0.9025522  0.89302326 0.89953271]\n",
      "Accuracy: 0.90 (+/- 0.01)\n",
      "For  7  val:  [0.89814815 0.88657407 0.89327146 0.88837209 0.89719626]\n",
      "Accuracy: 0.89 (+/- 0.01)\n",
      "For  9  val:  [0.87268519 0.88425926 0.87935035 0.88139535 0.87383178]\n",
      "Accuracy: 0.88 (+/- 0.01)\n",
      "For  13  val:  [0.8587963  0.87268519 0.87470998 0.84651163 0.84579439]\n",
      "Accuracy: 0.86 (+/- 0.02)\n"
     ]
    }
   ],
   "source": [
    "## To find best K\n",
    "from sklearn.metrics import precision_score, recall_score\n",
    "from sklearn.model_selection import train_test_split, cross_val_score\n",
    "\n",
    "k_vals=[1,3,5,7,9,13]\n",
    "\n",
    "for k in k_vals:\n",
    "    model = make_pipeline(TfidfVectorizer(), knn(n_neighbors=k))\n",
    "    \n",
    "    \n",
    "    # instead of doing below I will use cross val score\n",
    "    #[x_tr, y_tr, x_val, y_val] = train_test_split(X_train,y_train, 0.1)\n",
    "    #model.fit(X_tr,y_tr)\n",
    "    #pred_val = model.predict(x_val)\n",
    "    cv_score = cross_val_score(model,X_train,y_train, cv=5)\n",
    "    print(\"For \",k,\" val: \", cv_score)\n",
    "    print(\"Accuracy: %0.2f (+/- %0.2f)\" % (cv_score.mean(), cv_score.std() * 2))\n"
   ]
  },
  {
   "cell_type": "code",
   "execution_count": 21,
   "metadata": {},
   "outputs": [
    {
     "name": "stdout",
     "output_type": "stream",
     "text": [
      "Test \n",
      "               precision    recall  f1-score   support\n",
      "\n",
      "           0       0.91      0.79      0.85       389\n",
      "           1       0.87      0.87      0.87       394\n",
      "           2       0.78      0.88      0.82       398\n",
      "           3       0.76      0.75      0.75       251\n",
      "\n",
      "   micro avg       0.83      0.83      0.83      1432\n",
      "   macro avg       0.83      0.82      0.82      1432\n",
      "weighted avg       0.83      0.83      0.83      1432\n",
      "\n"
     ]
    }
   ],
   "source": [
    "# best k value is 1 \n",
    "best_model = make_pipeline(TfidfVectorizer(), knn(n_neighbors=1))\n",
    "best_model.fit(X_train,y_train)\n",
    "pred_test = best_model.predict(X_test)\n",
    "\n",
    "cr = classification_report(y_test, pred_test)\n",
    "print(\"Test \\n\", cr)"
   ]
  },
  {
   "cell_type": "markdown",
   "metadata": {},
   "source": [
    "### It seems that KNN works as good as Naive Bayes. Even slightly better if we compare avg prec, recall, f-1 scores\n",
    "\n",
    "'micro-avg': Calculate metrics globally by counting the total true positives, false negatives and false positives.\n",
    "\n",
    "KNN micro avg 0.83      0.83      0.83      1432\n",
    "NB micro avg       0.82      0.82      0.82      1432"
   ]
  },
  {
   "cell_type": "code",
   "execution_count": 22,
   "metadata": {},
   "outputs": [
    {
     "name": "stdout",
     "output_type": "stream",
     "text": [
      "Test \n",
      "               precision    recall  f1-score   support\n",
      "\n",
      "           0       0.87      0.96      0.92       389\n",
      "           1       0.95      0.94      0.94       394\n",
      "           2       0.87      0.94      0.90       398\n",
      "           3       0.93      0.69      0.79       251\n",
      "\n",
      "   micro avg       0.90      0.90      0.90      1432\n",
      "   macro avg       0.91      0.88      0.89      1432\n",
      "weighted avg       0.90      0.90      0.90      1432\n",
      "\n",
      "[[375   7   3   4]\n",
      " [ 20 369   5   0]\n",
      " [ 12   2 374  10]\n",
      " [ 22   9  47 173]]\n"
     ]
    }
   ],
   "source": [
    "## Try the same with SVC\n",
    "\n",
    "# NOT PART OF THE HOMEWORK\n",
    "\n",
    "from sklearn.svm import SVC\n",
    "\n",
    "model = make_pipeline(TfidfVectorizer(), SVC(C=10.0, kernel='rbf', gamma='scale'))\n",
    "model.fit(X_train,y_train)\n",
    "\n",
    "pred_test = model.predict(X_test)\n",
    "\n",
    "cr = classification_report(y_test, pred_test)\n",
    "print(\"Test \\n\", cr)\n",
    "\n",
    "mat = confusion_matrix(y_test, pred_test)\n",
    "print(mat)"
   ]
  },
  {
   "cell_type": "markdown",
   "metadata": {},
   "source": [
    "### BEST results obtained by SVM \n",
    "### SVC micro avg     0.90      0.90      0.90      1432"
   ]
  },
  {
   "cell_type": "code",
   "execution_count": null,
   "metadata": {},
   "outputs": [],
   "source": []
  }
 ],
 "metadata": {
  "kernelspec": {
   "display_name": "Python 3",
   "language": "python",
   "name": "python3"
  },
  "language_info": {
   "codemirror_mode": {
    "name": "ipython",
    "version": 3
   },
   "file_extension": ".py",
   "mimetype": "text/x-python",
   "name": "python",
   "nbconvert_exporter": "python",
   "pygments_lexer": "ipython3",
   "version": "3.7.3"
  }
 },
 "nbformat": 4,
 "nbformat_minor": 2
}
