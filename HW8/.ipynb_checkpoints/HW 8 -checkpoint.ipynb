{
 "cells": [
  {
   "cell_type": "markdown",
   "metadata": {},
   "source": [
    "HW 8a)\n",
    "Repeat dimension reduction for sklearn fetch_lfw_people data\n",
    "\n",
    "a) Plot mean face and first 8 eigenfaces (principal componets).\n",
    "\n",
    "b ) Transform one face using the mean face and eigenfaces. print the coefficients.\n",
    "\n",
    "c ) Inverse Transform and plot the face.\n"
   ]
  },
  {
   "cell_type": "code",
   "execution_count": null,
   "metadata": {},
   "outputs": [],
   "source": [
    "HW 8b)\n",
    "\n",
    "a) Write a method (kmeans) which repeats above until convergence or less than N iterations\n",
    "\n",
    "b) Run your kmeans algorithm on digits data.\n",
    "\n",
    "    Follow the book (Example 1: k-Means on digits).\n",
    "    Plot Cluster centers learned by k-means\n",
    "    Kmeans is not ideal for classification but if you treat the cluster labels as classes Plot confusion matrix\n",
    "\n"
   ]
  }
 ],
 "metadata": {
  "kernelspec": {
   "display_name": "Python 3",
   "language": "python",
   "name": "python3"
  },
  "language_info": {
   "codemirror_mode": {
    "name": "ipython",
    "version": 3
   },
   "file_extension": ".py",
   "mimetype": "text/x-python",
   "name": "python",
   "nbconvert_exporter": "python",
   "pygments_lexer": "ipython3",
   "version": "3.7.2"
  }
 },
 "nbformat": 4,
 "nbformat_minor": 2
}
